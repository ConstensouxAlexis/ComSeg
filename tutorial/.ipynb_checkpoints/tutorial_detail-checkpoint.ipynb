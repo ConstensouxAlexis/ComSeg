{
 "cells": [
  {
   "cell_type": "code",
   "execution_count": null,
   "id": "9550506e",
   "metadata": {},
   "outputs": [],
   "source": []
  },
  {
   "cell_type": "code",
   "execution_count": 1,
   "id": "de6110e3",
   "metadata": {},
   "outputs": [],
   "source": [
    "import matplotlib\n",
    "matplotlib.use('Qt5Agg')\n",
    "import sys\n",
    "import numpy as np"
   ]
  },
  {
   "cell_type": "markdown",
   "id": "918f7ef8",
   "metadata": {},
   "source": [
    "## dataset"
   ]
  },
  {
   "cell_type": "code",
   "execution_count": 2,
   "id": "a104e02c",
   "metadata": {},
   "outputs": [
    {
     "data": {
      "text/plain": [
       "['/snap/pycharm-professional/346/plugins/python/helpers/pydev',\n",
       " '/home/tom/Bureau/phd/simulation/ComSeg_pkg/code/',\n",
       " '/home/tom/Bureau/phd/simulation/ComSeg_pkg/code/',\n",
       " '/home/tom/Bureau/phd/simulation/ComSeg_pkg/code/',\n",
       " '/home/tom/Bureau/phd/simulation/ComSeg_pkg/code/',\n",
       " '/home/tom/Bureau/phd/simulation/ComSeg_pkg/code/',\n",
       " '/home/tom/Bureau/phd/simulation/ComSeg_pkg/code/',\n",
       " '/snap/pycharm-professional/346/plugins/python/helpers/third_party/thriftpy',\n",
       " '/snap/pycharm-professional/346/plugins/python/helpers/pydev',\n",
       " '/snap/pycharm-professional/346/plugins/python/helpers/pycharm_display',\n",
       " '/home/tom/anaconda3/envs/bigfish38_samm/lib/python38.zip',\n",
       " '/home/tom/anaconda3/envs/bigfish38_samm/lib/python3.8',\n",
       " '/home/tom/anaconda3/envs/bigfish38_samm/lib/python3.8/lib-dynload',\n",
       " '/home/tom/.local/lib/python3.8/site-packages',\n",
       " '/home/tom/anaconda3/envs/bigfish38_samm/lib/python3.8/site-packages',\n",
       " '/home/tom/Bureau/phd/simulation/sim-fish',\n",
       " '/home/tom/Bureau/phd/simulation/ssam-release',\n",
       " '/home/tom/pysmFISH',\n",
       " '/home/tom/anaconda3/envs/bigfish38_samm/lib/python3.8/site-packages/SimpleITK-2.0.0rc2.dev910+ga138e-py3.8-linux-x86_64.egg',\n",
       " '/snap/pycharm-professional/346/plugins/python/helpers/pycharm_matplotlib_backend',\n",
       " '/home/tom/anaconda3/envs/bigfish38_samm/lib/python3.8/site-packages/IPython/extensions',\n",
       " '/home/tom/Bureau/phd/simulation/ComSeg_pkg']"
      ]
     },
     "execution_count": 2,
     "metadata": {},
     "output_type": "execute_result"
    }
   ],
   "source": [
    "sys.path  \n",
    "sys.path = ['/snap/pycharm-professional/346/plugins/python/helpers/pydev',\n",
    " '/home/tom/Bureau/phd/simulation/ComSeg_pkg/code/',\n",
    " '/home/tom/Bureau/phd/simulation/ComSeg_pkg/code/',\n",
    " '/home/tom/Bureau/phd/simulation/ComSeg_pkg/code/',\n",
    " '/home/tom/Bureau/phd/simulation/ComSeg_pkg/code/',\n",
    " '/home/tom/Bureau/phd/simulation/ComSeg_pkg/code/',\n",
    " '/home/tom/Bureau/phd/simulation/ComSeg_pkg/code/',\n",
    " '/snap/pycharm-professional/346/plugins/python/helpers/third_party/thriftpy',\n",
    " '/snap/pycharm-professional/346/plugins/python/helpers/pydev',\n",
    " '/snap/pycharm-professional/346/plugins/python/helpers/pycharm_display',\n",
    " '/home/tom/anaconda3/envs/bigfish38_samm/lib/python38.zip',\n",
    " '/home/tom/anaconda3/envs/bigfish38_samm/lib/python3.8',\n",
    " '/home/tom/anaconda3/envs/bigfish38_samm/lib/python3.8/lib-dynload',\n",
    " '/home/tom/.local/lib/python3.8/site-packages',\n",
    " '/home/tom/anaconda3/envs/bigfish38_samm/lib/python3.8/site-packages',\n",
    " '/home/tom/Bureau/phd/simulation/sim-fish',\n",
    " '/home/tom/Bureau/phd/simulation/ssam-release',\n",
    " '/home/tom/pysmFISH',\n",
    " '/home/tom/anaconda3/envs/bigfish38_samm/lib/python3.8/site-packages/SimpleITK-2.0.0rc2.dev910+ga138e-py3.8-linux-x86_64.egg',\n",
    " '/snap/pycharm-professional/346/plugins/python/helpers/pycharm_matplotlib_backend',\n",
    " '/home/tom/anaconda3/envs/bigfish38_samm/lib/python3.8/site-packages/IPython/extensions',\n",
    " '/home/tom/Bureau/phd/simulation/ComSeg_pkg']\n",
    "sys.path"
   ]
  },
  {
   "cell_type": "markdown",
   "id": "ab811b36",
   "metadata": {},
   "source": [
    "# dataset initialization"
   ]
  },
  {
   "cell_type": "code",
   "execution_count": 3,
   "id": "8c1ce4fb",
   "metadata": {},
   "outputs": [
    {
     "data": {
      "text/plain": [
       "<module 'comseg.dataset' from '/home/tom/Bureau/phd/simulation/ComSeg_pkg/comseg/dataset.py'>"
      ]
     },
     "execution_count": 3,
     "metadata": {},
     "output_type": "execute_result"
    }
   ],
   "source": [
    "import comseg\n",
    "from comseg import dataset\n",
    "import importlib\n",
    "importlib.reload(dataset)"
   ]
  },
  {
   "cell_type": "code",
   "execution_count": 4,
   "id": "b87b9494",
   "metadata": {},
   "outputs": [
    {
     "name": "stdout",
     "output_type": "stream",
     "text": [
      "add 07_CtrlNI_Pdgfra-Cy3_Serpine1-Cy5_004\n",
      "add 07_CtrlNI_Pdgfra-Cy3_Serpine1-Cy5_006\n",
      "add prior to 07_CtrlNI_Pdgfra-Cy3_Serpine1-Cy5_004\n",
      "add prior to 07_CtrlNI_Pdgfra-Cy3_Serpine1-Cy5_006\n"
     ]
    }
   ],
   "source": [
    "#selected_genes = ['Atp6v0d2', 'Abcg1','Rtkn2',  'Igfbp2','Sftpc','Cxcl15','Cd79a','Ms4a2', 'Fcer1a',\n",
    " #                    'Ccdc153','Scgb3a2', 'Scgb1a1', 'Cst3','Cdh5', 'Clec14a','Inmt', \n",
    "  #                   'Pcolce2','C1qc', 'C1qa', 'C1qb','Upk3b','Ifitm6','Plac8','Ms4a4b', 'Ccl5', 'Hcst',\n",
    "   #                  'Gzma', 'Ncr1','S100a9','Mmrn1', 'Acta2','Myh11', 'Cd3g', 'Cd3d']\n",
    "    \n",
    "\n",
    "selected_genes = ['Atp6v0d2', 'Abcg1','Rtkn2',  'Igfbp2','Cxcl15','Cd79a','Ms4a2', 'Fcer1a']\n",
    " #                    'Ccdc153','Scgb3a2', 'Scgb1a1', 'Cst3','Cdh5', 'Clec14a','Inmt', ]\n",
    "  #                   'Pcolce2','C1qc', 'C1qa', 'C1qb','Upk3b','Ifitm6','Plac8','Ms4a4b', 'Ccl5', 'Hcst',\n",
    "   #                  'Gzma', 'Ncr1','S100a9','Mmrn1', 'Acta2','Myh11', 'Cd3g', 'Cd3d']\n",
    "\n",
    "dataset = comseg.dataset.ComSegDataset(selected_genes = selected_genes,\n",
    "    path_dataset_folder = \"/media/tom/T7/simulation/test_set/small_df\",\n",
    "                path_to_mask_prior = \"/media/tom/T7/simulation/test_set/mask\")\n",
    "dataset.add_prior_from_mask()"
   ]
  },
  {
   "cell_type": "code",
   "execution_count": 5,
   "id": "f7925144",
   "metadata": {
    "scrolled": true
   },
   "outputs": [
    {
     "name": "stdout",
     "output_type": "stream",
     "text": [
      "image name :  07_CtrlNI_Pdgfra-Cy3_Serpine1-Cy5_004\n",
      "8\n",
      "image name :  07_CtrlNI_Pdgfra-Cy3_Serpine1-Cy5_006\n",
      "8\n"
     ]
    },
    {
     "name": "stderr",
     "output_type": "stream",
     "text": [
      "  0%|                                                                                                                                                                                                                                                                                                                                                                                                                                                             | 0/8 [00:00<?, ?it/s]/home/tom/anaconda3/envs/bigfish38_samm/lib/python3.8/site-packages/scipy/stats/_stats_py.py:4068: PearsonRConstantInputWarning: An input array is constant; the correlation coefficient is not defined.\n",
      "  warnings.warn(PearsonRConstantInputWarning())\n",
      "100%|███████████████████████████████████████████████████████████████████████████████████████████████████████████████████████████████████████████████████████████████████████████████████████████████████████████████████████████████████████████████████████████████████████████████████████████████████████████████████████████████████████████████████████████████████████████████████████████████████████████████████████████████████████████████████| 8/8 [00:00<00:00, 1474.27it/s]\n"
     ]
    },
    {
     "data": {
      "text/plain": [
       "({'Atp6v0d2': {'Atp6v0d2': 0.9999999999999997,\n",
       "   'Abcg1': 0.15164403520356773,\n",
       "   'Rtkn2': -1,\n",
       "   'Igfbp2': -0.01612556734139533,\n",
       "   'Cxcl15': -0.2659602854445551,\n",
       "   'Cd79a': -0.07055864924649877,\n",
       "   'Ms4a2': -0.011812089612327758,\n",
       "   'Fcer1a': -1},\n",
       "  'Abcg1': {'Atp6v0d2': 0.15164403520356773,\n",
       "   'Abcg1': 1.0,\n",
       "   'Rtkn2': -1,\n",
       "   'Igfbp2': -0.020588466983030882,\n",
       "   'Cxcl15': -0.32797896636884044,\n",
       "   'Cd79a': -0.08713270181960298,\n",
       "   'Ms4a2': -0.01508119446809924,\n",
       "   'Fcer1a': -1},\n",
       "  'Rtkn2': {'Atp6v0d2': -1,\n",
       "   'Abcg1': -1,\n",
       "   'Rtkn2': -1,\n",
       "   'Igfbp2': -1,\n",
       "   'Cxcl15': -1,\n",
       "   'Cd79a': -1,\n",
       "   'Ms4a2': -1,\n",
       "   'Fcer1a': -1},\n",
       "  'Igfbp2': {'Atp6v0d2': -0.01612556734139533,\n",
       "   'Abcg1': -0.020588466983030882,\n",
       "   'Rtkn2': -1,\n",
       "   'Igfbp2': 0.9999999999999863,\n",
       "   'Cxcl15': -0.08055884477810255,\n",
       "   'Cd79a': -0.023459531667047624,\n",
       "   'Ms4a2': -0.003577858596421585,\n",
       "   'Fcer1a': -1},\n",
       "  'Cxcl15': {'Atp6v0d2': -0.2659602854445551,\n",
       "   'Abcg1': -0.32797896636884044,\n",
       "   'Rtkn2': -1,\n",
       "   'Igfbp2': -0.08055884477810255,\n",
       "   'Cxcl15': 1.0,\n",
       "   'Cd79a': -0.3787743195478278,\n",
       "   'Ms4a2': -0.05900991099654595,\n",
       "   'Fcer1a': -1},\n",
       "  'Cd79a': {'Atp6v0d2': -0.07055864924649877,\n",
       "   'Abcg1': -0.08713270181960298,\n",
       "   'Rtkn2': -1,\n",
       "   'Igfbp2': -0.023459531667047624,\n",
       "   'Cxcl15': -0.3787743195478278,\n",
       "   'Cd79a': 0.9999999999999966,\n",
       "   'Ms4a2': -0.01718426920726439,\n",
       "   'Fcer1a': -1},\n",
       "  'Ms4a2': {'Atp6v0d2': -0.011812089612327758,\n",
       "   'Abcg1': -0.01508119446809924,\n",
       "   'Rtkn2': -1,\n",
       "   'Igfbp2': -0.003577858596421585,\n",
       "   'Cxcl15': -0.05900991099654595,\n",
       "   'Cd79a': -0.01718426920726439,\n",
       "   'Ms4a2': 1.0,\n",
       "   'Fcer1a': -1},\n",
       "  'Fcer1a': {'Atp6v0d2': -1,\n",
       "   'Abcg1': -1,\n",
       "   'Rtkn2': -1,\n",
       "   'Igfbp2': -1,\n",
       "   'Cxcl15': -1,\n",
       "   'Cd79a': -1,\n",
       "   'Ms4a2': -1,\n",
       "   'Fcer1a': -1}},\n",
       " array([[0., 0., 0., ..., 0., 0., 0.],\n",
       "        [0., 0., 0., ..., 0., 0., 0.],\n",
       "        [0., 0., 0., ..., 0., 0., 0.],\n",
       "        ...,\n",
       "        [0., 1., 0., ..., 0., 0., 0.],\n",
       "        [0., 1., 0., ..., 0., 0., 0.],\n",
       "        [0., 1., 0., ..., 0., 0., 0.]]))"
      ]
     },
     "execution_count": 5,
     "metadata": {},
     "output_type": "execute_result"
    }
   ],
   "source": [
    "\n",
    "dataset.compute_edge_weight(dico_scale={\"x\": 0.103, 'y': 0.103, \"z\": 0.3},  # in micrometer\n",
    "        images_subset = None,\n",
    "        mode=\"nearest_nn_radius\",\n",
    "        n_neighbors=25,\n",
    "        radius=1,  # in micormeter\n",
    "        distance=\"pearson\",\n",
    "        per_images=False,\n",
    "        sampling=False,\n",
    "        sampling_size=100000)\n",
    "\n"
   ]
  },
  {
   "cell_type": "markdown",
   "id": "77e1dfbd",
   "metadata": {
    "scrolled": true
   },
   "source": [
    "# CREATE RNA GRAPH"
   ]
  },
  {
   "cell_type": "code",
   "execution_count": 6,
   "id": "4b9ea146",
   "metadata": {},
   "outputs": [
    {
     "data": {
      "text/plain": [
       "<module 'comseg.dictionary' from '/home/tom/Bureau/phd/simulation/ComSeg_pkg/comseg/dictionary.py'>"
      ]
     },
     "execution_count": 6,
     "metadata": {},
     "output_type": "execute_result"
    }
   ],
   "source": [
    "import comseg\n",
    "\n",
    "from comseg import model, dictionary\n",
    "import importlib\n",
    "importlib.reload(comseg)\n",
    "importlib.reload(model)\n",
    "importlib.reload(dictionary)\n",
    "\n"
   ]
  },
  {
   "cell_type": "code",
   "execution_count": 7,
   "id": "7d164658",
   "metadata": {
    "scrolled": true
   },
   "outputs": [
    {
     "name": "stdout",
     "output_type": "stream",
     "text": [
      "computing knn\n",
      "adding edges\n"
     ]
    },
    {
     "name": "stderr",
     "output_type": "stream",
     "text": [
      "100%|██████████████████████████████████████████████████████████████████████████████████████████████████████████████████████████████████████████████████████████████████████████████████████████████████████████████████████████████████████████████████████████████████████████████████████████████████████████████████████████████████████████████████████████████████████████████████████████████████████████████████████████████████████████| 84684/84684 [00:01<00:00, 56903.35it/s]\n"
     ]
    },
    {
     "name": "stdout",
     "output_type": "stream",
     "text": [
      "creation of  super node with prior\n",
      "1\n",
      "2654\n",
      "482\n",
      "116\n",
      "47\n",
      "25\n",
      "28\n",
      "10\n",
      "5\n",
      "2\n",
      "True\n",
      "322\n",
      "1\n",
      "97\n",
      "14\n",
      "225\n",
      "1\n",
      "8\n",
      "217\n",
      "1\n",
      "217\n"
     ]
    },
    {
     "name": "stderr",
     "output_type": "stream",
     "text": [
      "100%|██████████████████████████████████████████████████████████████████████████████████████████████████████████████████████████████████████████████████████████████████████████████████████████████████████████████████████████████████████████████████████████████████████████████████████████████████████████████████████████████████████████████████████████████████████████████████████████████████████████████████████████████████████████████| 217/217 [00:00<00:00, 12528.58it/s]\n",
      "100%|█████████████████████████████████████████████████████████████████████████████████████████████████████████████████████████████████████████████████████████████████████████████████████████████████████████████████████████████████████████████████████████████████████████████████████████████████████████████████████████████████████████████████████████████████████████████████████████████████████████████████████████████████████████████| 3346/3346 [00:00<00:00, 8893.92it/s]\n"
     ]
    },
    {
     "name": "stdout",
     "output_type": "stream",
     "text": [
      "computing knn\n",
      "adding edges\n"
     ]
    },
    {
     "name": "stderr",
     "output_type": "stream",
     "text": [
      "100%|██████████████████████████████████████████████████████████████████████████████████████████████████████████████████████████████████████████████████████████████████████████████████████████████████████████████████████████████████████████████████████████████████████████████████████████████████████████████████████████████████████████████████████████████████████████████████████████████████████████████████████████████████████████| 76822/76822 [00:01<00:00, 58326.91it/s]\n"
     ]
    },
    {
     "name": "stdout",
     "output_type": "stream",
     "text": [
      "creation of  super node with prior\n",
      "1\n",
      "2373\n",
      "446\n",
      "148\n",
      "73\n",
      "19\n",
      "26\n",
      "14\n",
      "2\n",
      "True\n",
      "290\n",
      "1\n",
      "84\n",
      "14\n",
      "206\n",
      "1\n",
      "13\n",
      "1\n",
      "193\n",
      "1\n",
      "2\n",
      "191\n",
      "1\n",
      "191\n"
     ]
    },
    {
     "name": "stderr",
     "output_type": "stream",
     "text": [
      "100%|███████████████████████████████████████████████████████████████████████████████████████████████████████████████████████████████████████████████████████████████████████████████████████████████████████████████████████████████████████████████████████████████████████████████████████████████████████████████████████████████████████████████████████████████████████████████████████████████████████████████████████████████████████████████| 191/191 [00:00<00:00, 9263.12it/s]\n",
      "100%|█████████████████████████████████████████████████████████████████████████████████████████████████████████████████████████████████████████████████████████████████████████████████████████████████████████████████████████████████████████████████████████████████████████████████████████████████████████████████████████████████████████████████████████████████████████████████████████████████████████████████████████████████████████████| 3086/3086 [00:00<00:00, 8521.68it/s]\n"
     ]
    }
   ],
   "source": [
    "\n",
    "Comsegdict = dictionary.ComSegDict()\n",
    "for img_name  in dataset:\n",
    "    comseg_m = model.ComSeg(selected_genes = dataset.selected_genes,\n",
    "        df_spots_label = dataset[img_name],\n",
    "                 dict_scale={\"x\": 0.103, 'y': 0.103, \"z\": 0.3})\n",
    "    comseg_m.create_graph(dict_co_expression=dataset.dict_co_expression ,\n",
    "                         )\n",
    "    comseg_m.community_vector(\n",
    "                             clustering_method=\"louvain_with_prior\",\n",
    "                             weights_name=\"weight\",\n",
    "\n",
    "                             prior_keys=\"prior\",\n",
    "                             seed=None,\n",
    "                             super_node_prior_keys=\"prior\",\n",
    "                             confidence_level=1,\n",
    "                             )\n",
    "    Comsegdict[img_name] = comseg_m"
   ]
  },
  {
   "cell_type": "code",
   "execution_count": 8,
   "id": "de3a0bff",
   "metadata": {
    "scrolled": true
   },
   "outputs": [
    {
     "data": {
      "text/plain": [
       "'07_CtrlNI_Pdgfra-Cy3_Serpine1-Cy5_006'"
      ]
     },
     "execution_count": 8,
     "metadata": {},
     "output_type": "execute_result"
    }
   ],
   "source": [
    " img_name"
   ]
  },
  {
   "cell_type": "code",
   "execution_count": null,
   "id": "12c91ba4",
   "metadata": {},
   "outputs": [],
   "source": []
  },
  {
   "cell_type": "code",
   "execution_count": 9,
   "id": "bf40a25c",
   "metadata": {
    "scrolled": true
   },
   "outputs": [
    {
     "name": "stderr",
     "output_type": "stream",
     "text": [
      "Observation names are not unique. To make them unique, call `.obs_names_make_unique`.\n"
     ]
    },
    {
     "data": {
      "text/plain": [
       "AnnData object with n_obs × n_vars = 408 × 8\n",
       "    obs: 'list_coord', 'node_index', 'prior', 'index_commu', 'nb_rna', 'img_name'"
      ]
     },
     "execution_count": 9,
     "metadata": {},
     "output_type": "execute_result"
    }
   ],
   "source": [
    "import anndata as ad\n",
    "Comsegdict.concatenate_anndata()"
   ]
  },
  {
   "cell_type": "markdown",
   "id": "f8195b5a",
   "metadata": {},
   "source": [
    "# IN SITU CLUSTERING detail"
   ]
  },
  {
   "cell_type": "code",
   "execution_count": 10,
   "id": "75e60641",
   "metadata": {
    "scrolled": false
   },
   "outputs": [],
   "source": [
    "import comseg\n",
    "from comseg import clustering\n",
    "import importlib\n",
    "importlib.reload(comseg)\n",
    "importlib.reload(clustering)\n",
    "from comseg import clustering"
   ]
  },
  {
   "cell_type": "code",
   "execution_count": 11,
   "id": "42f0c44d",
   "metadata": {
    "scrolled": true
   },
   "outputs": [],
   "source": [
    "insitu_clustering  = clustering.InSituClustering(anndata = Comsegdict.global_anndata,\n",
    "                                                 selected_genes = dataset.selected_genes)"
   ]
  },
  {
   "cell_type": "code",
   "execution_count": 12,
   "id": "8f765f6b",
   "metadata": {
    "scrolled": false
   },
   "outputs": [
    {
     "name": "stdout",
     "output_type": "stream",
     "text": [
      "shape count matrix (399, 6)\n",
      "Index(['0', '1', '2', '3', '4', '5'], dtype='object')\n",
      "Writing temporary files...\n",
      "Running scTransform via Rscript...\n",
      "Reading output files...\n",
      "Clipping residuals...\n"
     ]
    }
   ],
   "source": [
    "norm_expression_vectors, param_sctransform = insitu_clustering.compute_normalization_parameters( )"
   ]
  },
  {
   "cell_type": "code",
   "execution_count": 13,
   "id": "5b9ab78c",
   "metadata": {
    "scrolled": true
   },
   "outputs": [
    {
     "data": {
      "text/plain": [
       "Index(['Atp6v0d2', 'Abcg1', 'Rtkn2', 'Igfbp2', 'Cxcl15', 'Cd79a', 'Ms4a2',\n",
       "       'Fcer1a'],\n",
       "      dtype='object')"
      ]
     },
     "execution_count": 13,
     "metadata": {},
     "output_type": "execute_result"
    }
   ],
   "source": [
    "l = Comsegdict.global_anndata.var_names\n",
    "l"
   ]
  },
  {
   "cell_type": "code",
   "execution_count": 14,
   "id": "8e9e03ef",
   "metadata": {
    "scrolled": true
   },
   "outputs": [
    {
     "data": {
      "text/plain": [
       "View of AnnData object with n_obs × n_vars = 76 × 8\n",
       "    obs: 'list_coord', 'node_index', 'prior', 'index_commu', 'nb_rna', 'img_name'"
      ]
     },
     "execution_count": 14,
     "metadata": {},
     "output_type": "execute_result"
    }
   ],
   "source": [
    "bool_index  = np.array(insitu_clustering.anndata.obs['nb_rna']) > 3\n",
    "insitu_clustering.anndata[bool_index, :]"
   ]
  },
  {
   "cell_type": "code",
   "execution_count": 15,
   "id": "f14b634c",
   "metadata": {
    "scrolled": true
   },
   "outputs": [
    {
     "data": {
      "text/plain": [
       "AnnData object with n_obs × n_vars = 408 × 8\n",
       "    obs: 'list_coord', 'node_index', 'prior', 'index_commu', 'nb_rna', 'img_name'"
      ]
     },
     "execution_count": 15,
     "metadata": {},
     "output_type": "execute_result"
    }
   ],
   "source": [
    "insitu_clustering.anndata"
   ]
  },
  {
   "cell_type": "code",
   "execution_count": 16,
   "id": "e34a60c4",
   "metadata": {
    "scrolled": true
   },
   "outputs": [
    {
     "name": "stdout",
     "output_type": "stream",
     "text": [
      "number of cluster 5\n"
     ]
    }
   ],
   "source": [
    "anndata = insitu_clustering.cluster_rna_community(size_commu_min=3,\n",
    "                              norm_vector = True,\n",
    "                              ### parameter clustering\n",
    "                              n_pcs = 3,\n",
    "                              n_comps =3,\n",
    "                              clustering_method =\"leiden\",\n",
    "                              n_neighbors = 20,\n",
    "                              resolution = 1,\n",
    "                              n_clusters_kmeans = 4,\n",
    "                              palette = None)"
   ]
  },
  {
   "cell_type": "code",
   "execution_count": 17,
   "id": "18232518",
   "metadata": {},
   "outputs": [
    {
     "data": {
      "text/plain": [
       "AnnData object with n_obs × n_vars = 408 × 8\n",
       "    obs: 'list_coord', 'node_index', 'prior', 'index_commu', 'nb_rna', 'img_name', 'leiden'"
      ]
     },
     "execution_count": 17,
     "metadata": {},
     "output_type": "execute_result"
    }
   ],
   "source": [
    "anndata"
   ]
  },
  {
   "cell_type": "code",
   "execution_count": 18,
   "id": "e2882ff1",
   "metadata": {},
   "outputs": [
    {
     "name": "stdout",
     "output_type": "stream",
     "text": [
      "0\n",
      "1\n",
      "2\n",
      "3\n",
      "4\n"
     ]
    },
    {
     "data": {
      "text/plain": [
       "(array([[ 2.7499287 ,  1.9224914 ,  0.11273305, -0.19154239, -0.20656845,\n",
       "         -0.38980484],\n",
       "        [-1.0912926 , -0.7754209 , -0.5186857 , -0.5095918 ,  0.07091062,\n",
       "         -0.63465077],\n",
       "        [-0.4151709 , -0.43576032, -0.25616103, -0.2569109 , -0.2714332 ,\n",
       "          0.6625279 ],\n",
       "        [-0.8202157 , -0.68373597,  0.18360461,  2.2041764 ,  0.34213322,\n",
       "         -0.6109246 ],\n",
       "        [-0.7858103 , -0.54738176, -0.16928597, -0.19157282, -0.37327442,\n",
       "          5.6902933 ]], dtype=float32),\n",
       " array(['0', '1', '2', '3', '4'], dtype='<U1'))"
      ]
     },
     "execution_count": 18,
     "metadata": {},
     "output_type": "execute_result"
    }
   ],
   "source": [
    "insitu_clustering.cluster_centroid(\n",
    "                      cluster_column_name = \"leiden\",\n",
    "                       agregation_mode = \"mean\")"
   ]
  },
  {
   "cell_type": "code",
   "execution_count": 19,
   "id": "05dc3b2a",
   "metadata": {
    "scrolled": false
   },
   "outputs": [
    {
     "name": "stdout",
     "output_type": "stream",
     "text": [
      "[2.   4.   0.22 2.  ]\n",
      "[1.   5.   0.63 3.  ]\n",
      "[3.   6.   0.85 4.  ]\n"
     ]
    }
   ],
   "source": [
    "insitu_clustering.merge_cluster(nb_min_cluster = 0,\n",
    "                      min_merge_correlation = 0.1,\n",
    "                      cluster_column_name=\"leiden\",\n",
    "                      plot = False)"
   ]
  },
  {
   "cell_type": "markdown",
   "id": "753bd8e2",
   "metadata": {},
   "source": [
    "## take the cluster and add it in the model \n"
   ]
  },
  {
   "cell_type": "code",
   "execution_count": null,
   "id": "8e46a462",
   "metadata": {},
   "outputs": [],
   "source": [
    "\n"
   ]
  },
  {
   "cell_type": "code",
   "execution_count": 29,
   "id": "d800b805",
   "metadata": {},
   "outputs": [
    {
     "data": {
      "text/plain": [
       "AnnData object with n_obs × n_vars = 408 × 8\n",
       "    obs: 'list_coord', 'node_index', 'prior', 'index_commu', 'nb_rna', 'img_name', 'leiden'"
      ]
     },
     "execution_count": 29,
     "metadata": {},
     "output_type": "execute_result"
    }
   ],
   "source": [
    "insitu_clustering.anndata"
   ]
  },
  {
   "cell_type": "code",
   "execution_count": 28,
   "id": "09396212",
   "metadata": {},
   "outputs": [
    {
     "data": {
      "text/plain": [
       "View of AnnData object with n_obs × n_vars = 217 × 8\n",
       "    obs: 'list_coord', 'node_index', 'prior', 'index_commu', 'nb_rna', 'img_name', 'leiden'"
      ]
     },
     "execution_count": 28,
     "metadata": {},
     "output_type": "execute_result"
    }
   ],
   "source": [
    "Comsegdict.global_anndata[Comsegdict.global_anndata.obs.img_name == \"07_CtrlNI_Pdgfra-Cy3_Serpine1-Cy5_004\"]"
   ]
  },
  {
   "cell_type": "code",
   "execution_count": 24,
   "id": "7826ed9f",
   "metadata": {},
   "outputs": [
    {
     "data": {
      "text/plain": [
       "{'07_CtrlNI_Pdgfra-Cy3_Serpine1-Cy5_004': <comseg.model.ComSeg object at 0x7f51754d4f70>, '07_CtrlNI_Pdgfra-Cy3_Serpine1-Cy5_006': <comseg.model.ComSeg object at 0x7f51031d9af0>, 'global_anndata': AnnData object with n_obs × n_vars = 408 × 8\n",
       "    obs: 'list_coord', 'node_index', 'prior', 'index_commu', 'nb_rna', 'img_name', 'leiden'}"
      ]
     },
     "execution_count": 24,
     "metadata": {},
     "output_type": "execute_result"
    }
   ],
   "source": [
    "Comsegdict"
   ]
  },
  {
   "cell_type": "code",
   "execution_count": 27,
   "id": "8bd79d2e",
   "metadata": {},
   "outputs": [
    {
     "data": {
      "text/plain": [
       "AnnData object with n_obs × n_vars = 217 × 8\n",
       "    obs: 'list_coord', 'node_index', 'prior', 'index_commu', 'nb_rna'\n",
       "    var: 'features'"
      ]
     },
     "execution_count": 27,
     "metadata": {},
     "output_type": "execute_result"
    }
   ],
   "source": [
    "Comsegdict['07_CtrlNI_Pdgfra-Cy3_Serpine1-Cy5_004'].community_anndata"
   ]
  },
  {
   "cell_type": "code",
   "execution_count": 32,
   "id": "b0561ae0",
   "metadata": {},
   "outputs": [
    {
     "data": {
      "text/plain": [
       "array(['-1', '0', '1', '2', '3', '4'], dtype=object)"
      ]
     },
     "execution_count": 32,
     "metadata": {},
     "output_type": "execute_result"
    }
   ],
   "source": [
    "np.unique(\n",
    "    Comsegdict.global_anndata[\n",
    "        Comsegdict.global_anndata.obs.img_name == \"07_CtrlNI_Pdgfra-Cy3_Serpine1-Cy5_004\"].obs.leiden)"
   ]
  },
  {
   "cell_type": "code",
   "execution_count": null,
   "id": "c82cb4bb",
   "metadata": {},
   "outputs": [],
   "source": [
    " \"07_CtrlNI_Pdgfra-Cy3_Serpine1-Cy5_004\"\n",
    "Comsegdict.global_anndata.obs[clustering_method].loc[self[img].community_anndata.obs.index].value"
   ]
  },
  {
   "cell_type": "code",
   "execution_count": null,
   "id": "f7d43dd5",
   "metadata": {},
   "outputs": [],
   "source": []
  },
  {
   "cell_type": "code",
   "execution_count": 38,
   "id": "90236d6e",
   "metadata": {
    "scrolled": true
   },
   "outputs": [
    {
     "name": "stdout",
     "output_type": "stream",
     "text": [
      "07_CtrlNI_Pdgfra-Cy3_Serpine1-Cy5_004\n",
      "07_CtrlNI_Pdgfra-Cy3_Serpine1-Cy5_006\n"
     ]
    }
   ],
   "source": [
    "Comsegdict.global_anndata = insitu_clustering.anndata\n",
    "clustering_method = 'leiden'\n",
    "for img in Comsegdict:\n",
    "    if str(type(Comsegdict[img])) != \"<class 'comseg.model.ComSeg'>\":\n",
    "        continue\n",
    "    print(img)\n",
    "    ## get the cluster list and the community index\n",
    "\n",
    "    cluster_id_list = list(Comsegdict.global_anndata[\n",
    "        Comsegdict.global_anndata.obs.img_name == img].obs[clustering_method])\n",
    "    community_index_list = list(Comsegdict.global_anndata[Comsegdict.global_anndata.obs.img_name == img].obs.index_commu)\n",
    "\n",
    "    assert community_index_list == list(Comsegdict[img].community_anndata.obs['index_commu'])\n",
    "\n",
    "    Comsegdict[img].community_anndata.obs[clustering_method] = cluster_id_list\n",
    "    \n",
    "    "
   ]
  },
  {
   "cell_type": "code",
   "execution_count": 37,
   "id": "e20c6d9e",
   "metadata": {},
   "outputs": [
    {
     "data": {
      "text/plain": [
       "View of AnnData object with n_obs × n_vars = 217 × 8\n",
       "    obs: 'list_coord', 'node_index', 'prior', 'index_commu', 'nb_rna', 'img_name', 'leiden'"
      ]
     },
     "execution_count": 37,
     "metadata": {},
     "output_type": "execute_result"
    }
   ],
   "source": [
    "Comsegdict.global_anndata[Comsegdict.global_anndata.obs.img_name == img]"
   ]
  },
  {
   "cell_type": "code",
   "execution_count": null,
   "id": "46ab9028",
   "metadata": {},
   "outputs": [],
   "source": []
  },
  {
   "cell_type": "code",
   "execution_count": null,
   "id": "8c92f6ae",
   "metadata": {},
   "outputs": [],
   "source": []
  },
  {
   "cell_type": "markdown",
   "id": "fe383f41",
   "metadata": {},
   "source": [
    "## add centroid to model \n",
    "## classify it \n",
    "## apply dikstra \n",
    "## "
   ]
  },
  {
   "cell_type": "code",
   "execution_count": null,
   "id": "4bb53d1a",
   "metadata": {},
   "outputs": [],
   "source": []
  },
  {
   "cell_type": "code",
   "execution_count": null,
   "id": "128bcdd6",
   "metadata": {},
   "outputs": [],
   "source": [
    "scrna_unique_clusters"
   ]
  },
  {
   "cell_type": "code",
   "execution_count": null,
   "id": "fc21fb6a",
   "metadata": {},
   "outputs": [],
   "source": [
    "np.array(insitu_clustering.scrna_unique_clusters).astype(int)"
   ]
  },
  {
   "cell_type": "code",
   "execution_count": null,
   "id": "05ee7857",
   "metadata": {},
   "outputs": [],
   "source": [
    " insitu_clustering.scrna_centroids.shape"
   ]
  },
  {
   "cell_type": "code",
   "execution_count": null,
   "id": "7fdbf546",
   "metadata": {},
   "outputs": [],
   "source": []
  }
 ],
 "metadata": {
  "kernelspec": {
   "display_name": "bigfish38_samm",
   "language": "python",
   "name": "bigfish38_samm"
  },
  "language_info": {
   "codemirror_mode": {
    "name": "ipython",
    "version": 3
   },
   "file_extension": ".py",
   "mimetype": "text/x-python",
   "name": "python",
   "nbconvert_exporter": "python",
   "pygments_lexer": "ipython3",
   "version": "3.8.8"
  }
 },
 "nbformat": 4,
 "nbformat_minor": 5
}
