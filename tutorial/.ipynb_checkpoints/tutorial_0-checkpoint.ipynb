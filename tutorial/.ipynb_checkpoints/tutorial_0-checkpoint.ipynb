{
 "cells": [
  {
   "cell_type": "code",
   "execution_count": null,
   "id": "9550506e",
   "metadata": {},
   "outputs": [],
   "source": []
  },
  {
   "cell_type": "code",
   "execution_count": 1,
   "id": "de6110e3",
   "metadata": {},
   "outputs": [],
   "source": [
    "import matplotlib\n",
    "matplotlib.use('Qt5Agg')\n",
    "import sys\n",
    "import numpy as np"
   ]
  },
  {
   "cell_type": "markdown",
   "id": "918f7ef8",
   "metadata": {},
   "source": [
    "## dataset"
   ]
  },
  {
   "cell_type": "code",
   "execution_count": 2,
   "id": "a104e02c",
   "metadata": {
    "scrolled": true
   },
   "outputs": [
    {
     "data": {
      "text/plain": [
       "['/snap/pycharm-professional/346/plugins/python/helpers/pydev',\n",
       " '/home/tom/Bureau/phd/simulation/ComSeg_pkg/code/',\n",
       " '/home/tom/Bureau/phd/simulation/ComSeg_pkg/code/',\n",
       " '/home/tom/Bureau/phd/simulation/ComSeg_pkg/code/',\n",
       " '/home/tom/Bureau/phd/simulation/ComSeg_pkg/code/',\n",
       " '/home/tom/Bureau/phd/simulation/ComSeg_pkg/code/',\n",
       " '/home/tom/Bureau/phd/simulation/ComSeg_pkg/code/',\n",
       " '/snap/pycharm-professional/346/plugins/python/helpers/third_party/thriftpy',\n",
       " '/snap/pycharm-professional/346/plugins/python/helpers/pydev',\n",
       " '/snap/pycharm-professional/346/plugins/python/helpers/pycharm_display',\n",
       " '/home/tom/anaconda3/envs/bigfish38_samm/lib/python38.zip',\n",
       " '/home/tom/anaconda3/envs/bigfish38_samm/lib/python3.8',\n",
       " '/home/tom/anaconda3/envs/bigfish38_samm/lib/python3.8/lib-dynload',\n",
       " '/home/tom/.local/lib/python3.8/site-packages',\n",
       " '/home/tom/anaconda3/envs/bigfish38_samm/lib/python3.8/site-packages',\n",
       " '/home/tom/Bureau/phd/simulation/sim-fish',\n",
       " '/home/tom/Bureau/phd/simulation/ssam-release',\n",
       " '/home/tom/pysmFISH',\n",
       " '/home/tom/anaconda3/envs/bigfish38_samm/lib/python3.8/site-packages/SimpleITK-2.0.0rc2.dev910+ga138e-py3.8-linux-x86_64.egg',\n",
       " '/snap/pycharm-professional/346/plugins/python/helpers/pycharm_matplotlib_backend',\n",
       " '/home/tom/anaconda3/envs/bigfish38_samm/lib/python3.8/site-packages/IPython/extensions',\n",
       " '/home/tom/Bureau/phd/simulation/ComSeg_pkg']"
      ]
     },
     "execution_count": 2,
     "metadata": {},
     "output_type": "execute_result"
    }
   ],
   "source": [
    "sys.path  \n",
    "sys.path = ['/snap/pycharm-professional/346/plugins/python/helpers/pydev',\n",
    " '/home/tom/Bureau/phd/simulation/ComSeg_pkg/code/',\n",
    " '/home/tom/Bureau/phd/simulation/ComSeg_pkg/code/',\n",
    " '/home/tom/Bureau/phd/simulation/ComSeg_pkg/code/',\n",
    " '/home/tom/Bureau/phd/simulation/ComSeg_pkg/code/',\n",
    " '/home/tom/Bureau/phd/simulation/ComSeg_pkg/code/',\n",
    " '/home/tom/Bureau/phd/simulation/ComSeg_pkg/code/',\n",
    " '/snap/pycharm-professional/346/plugins/python/helpers/third_party/thriftpy',\n",
    " '/snap/pycharm-professional/346/plugins/python/helpers/pydev',\n",
    " '/snap/pycharm-professional/346/plugins/python/helpers/pycharm_display',\n",
    " '/home/tom/anaconda3/envs/bigfish38_samm/lib/python38.zip',\n",
    " '/home/tom/anaconda3/envs/bigfish38_samm/lib/python3.8',\n",
    " '/home/tom/anaconda3/envs/bigfish38_samm/lib/python3.8/lib-dynload',\n",
    " '/home/tom/.local/lib/python3.8/site-packages',\n",
    " '/home/tom/anaconda3/envs/bigfish38_samm/lib/python3.8/site-packages',\n",
    " '/home/tom/Bureau/phd/simulation/sim-fish',\n",
    " '/home/tom/Bureau/phd/simulation/ssam-release',\n",
    " '/home/tom/pysmFISH',\n",
    " '/home/tom/anaconda3/envs/bigfish38_samm/lib/python3.8/site-packages/SimpleITK-2.0.0rc2.dev910+ga138e-py3.8-linux-x86_64.egg',\n",
    " '/snap/pycharm-professional/346/plugins/python/helpers/pycharm_matplotlib_backend',\n",
    " '/home/tom/anaconda3/envs/bigfish38_samm/lib/python3.8/site-packages/IPython/extensions',\n",
    " '/home/tom/Bureau/phd/simulation/ComSeg_pkg']\n",
    "sys.path"
   ]
  },
  {
   "cell_type": "markdown",
   "id": "ab811b36",
   "metadata": {},
   "source": [
    "# dataset initialization"
   ]
  },
  {
   "cell_type": "code",
   "execution_count": 3,
   "id": "8c1ce4fb",
   "metadata": {},
   "outputs": [
    {
     "data": {
      "text/plain": [
       "<module 'comseg.dataset' from '/home/tom/Bureau/phd/simulation/ComSeg_pkg/comseg/dataset.py'>"
      ]
     },
     "execution_count": 3,
     "metadata": {},
     "output_type": "execute_result"
    }
   ],
   "source": [
    "import comseg\n",
    "from comseg import dataset\n",
    "import importlib\n",
    "importlib.reload(dataset)"
   ]
  },
  {
   "cell_type": "code",
   "execution_count": 4,
   "id": "b87b9494",
   "metadata": {},
   "outputs": [],
   "source": [
    "#selected_genes = ['Atp6v0d2', 'Abcg1','Rtkn2',  'Igfbp2','Sftpc','Cxcl15','Cd79a','Ms4a2', 'Fcer1a',\n",
    " #                    'Ccdc153','Scgb3a2', 'Scgb1a1', 'Cst3','Cdh5', 'Clec14a','Inmt', \n",
    "  #                   'Pcolce2','C1qc', 'C1qa', 'C1qb','Upk3b','Ifitm6','Plac8','Ms4a4b', 'Ccl5', 'Hcst',\n",
    "   #                  'Gzma', 'Ncr1','S100a9','Mmrn1', 'Acta2','Myh11', 'Cd3g', 'Cd3d']\n",
    "    \n",
    "\n",
    "selected_genes = ['Atp6v0d2', 'Abcg1','Rtkn2',  'Igfbp2','Cxcl15','Cd79a','Ms4a2', 'Fcer1a']\n",
    " #                    'Ccdc153','Scgb3a2', 'Scgb1a1', 'Cst3','Cdh5', 'Clec14a','Inmt', ]\n",
    "  #                   'Pcolce2','C1qc', 'C1qa', 'C1qb','Upk3b','Ifitm6','Plac8','Ms4a4b', 'Ccl5', 'Hcst',\n",
    "   #                  'Gzma', 'Ncr1','S100a9','Mmrn1', 'Acta2','Myh11', 'Cd3g', 'Cd3d']\n",
    "\n",
    "dataset = comseg.dataset.ComSegDataset(selected_genes = selected_genes,\n",
    "    path_dataset_folder = \"/media/tom/T7/simulation/test_set/small_df\",\n",
    "                path_to_mask_prior = \"/media/tom/T7/simulation/test_set/mask\")\n",
    "dataset.add_prior_from_mask()"
   ]
  },
  {
   "cell_type": "code",
   "execution_count": 5,
   "id": "f7925144",
   "metadata": {
    "scrolled": true
   },
   "outputs": [
    {
     "ename": "TypeError",
     "evalue": "compute_edge_weight() got an unexpected keyword argument 'dico_scale'",
     "output_type": "error",
     "traceback": [
      "\u001b[0;31m---------------------------------------------------------------------------\u001b[0m",
      "\u001b[0;31mTypeError\u001b[0m                                 Traceback (most recent call last)",
      "Cell \u001b[0;32mIn[5], line 1\u001b[0m\n\u001b[0;32m----> 1\u001b[0m \u001b[43mdataset\u001b[49m\u001b[38;5;241;43m.\u001b[39;49m\u001b[43mcompute_edge_weight\u001b[49m\u001b[43m(\u001b[49m\u001b[43mdico_scale\u001b[49m\u001b[38;5;241;43m=\u001b[39;49m\u001b[43m{\u001b[49m\u001b[38;5;124;43m\"\u001b[39;49m\u001b[38;5;124;43mx\u001b[39;49m\u001b[38;5;124;43m\"\u001b[39;49m\u001b[43m:\u001b[49m\u001b[43m \u001b[49m\u001b[38;5;241;43m0.103\u001b[39;49m\u001b[43m,\u001b[49m\u001b[43m \u001b[49m\u001b[38;5;124;43m'\u001b[39;49m\u001b[38;5;124;43my\u001b[39;49m\u001b[38;5;124;43m'\u001b[39;49m\u001b[43m:\u001b[49m\u001b[43m \u001b[49m\u001b[38;5;241;43m0.103\u001b[39;49m\u001b[43m,\u001b[49m\u001b[43m \u001b[49m\u001b[38;5;124;43m\"\u001b[39;49m\u001b[38;5;124;43mz\u001b[39;49m\u001b[38;5;124;43m\"\u001b[39;49m\u001b[43m:\u001b[49m\u001b[43m \u001b[49m\u001b[38;5;241;43m0.3\u001b[39;49m\u001b[43m}\u001b[49m\u001b[43m,\u001b[49m\u001b[43m  \u001b[49m\u001b[38;5;66;43;03m# in micrometer\u001b[39;49;00m\n\u001b[1;32m      2\u001b[0m \u001b[43m        \u001b[49m\u001b[43mimages_subset\u001b[49m\u001b[43m \u001b[49m\u001b[38;5;241;43m=\u001b[39;49m\u001b[43m \u001b[49m\u001b[38;5;28;43;01mNone\u001b[39;49;00m\u001b[43m,\u001b[49m\n\u001b[1;32m      3\u001b[0m \u001b[43m        \u001b[49m\u001b[43mmode\u001b[49m\u001b[38;5;241;43m=\u001b[39;49m\u001b[38;5;124;43m\"\u001b[39;49m\u001b[38;5;124;43mnearest_nn_radius\u001b[39;49m\u001b[38;5;124;43m\"\u001b[39;49m\u001b[43m,\u001b[49m\n\u001b[1;32m      4\u001b[0m \u001b[43m        \u001b[49m\u001b[43mn_neighbors\u001b[49m\u001b[38;5;241;43m=\u001b[39;49m\u001b[38;5;241;43m25\u001b[39;49m\u001b[43m,\u001b[49m\n\u001b[1;32m      5\u001b[0m \u001b[43m        \u001b[49m\u001b[43mradius\u001b[49m\u001b[38;5;241;43m=\u001b[39;49m\u001b[38;5;241;43m1\u001b[39;49m\u001b[43m,\u001b[49m\u001b[43m  \u001b[49m\u001b[38;5;66;43;03m# in micormeter\u001b[39;49;00m\n\u001b[1;32m      6\u001b[0m \u001b[43m        \u001b[49m\u001b[43mdistance\u001b[49m\u001b[38;5;241;43m=\u001b[39;49m\u001b[38;5;124;43m\"\u001b[39;49m\u001b[38;5;124;43mpearson\u001b[39;49m\u001b[38;5;124;43m\"\u001b[39;49m\u001b[43m,\u001b[49m\n\u001b[1;32m      7\u001b[0m \u001b[43m        \u001b[49m\u001b[43mper_images\u001b[49m\u001b[38;5;241;43m=\u001b[39;49m\u001b[38;5;28;43;01mFalse\u001b[39;49;00m\u001b[43m,\u001b[49m\n\u001b[1;32m      8\u001b[0m \u001b[43m        \u001b[49m\u001b[43msampling\u001b[49m\u001b[38;5;241;43m=\u001b[39;49m\u001b[38;5;28;43;01mFalse\u001b[39;49;00m\u001b[43m,\u001b[49m\n\u001b[1;32m      9\u001b[0m \u001b[43m        \u001b[49m\u001b[43msampling_size\u001b[49m\u001b[38;5;241;43m=\u001b[39;49m\u001b[38;5;241;43m100000\u001b[39;49m\u001b[43m)\u001b[49m\n",
      "\u001b[0;31mTypeError\u001b[0m: compute_edge_weight() got an unexpected keyword argument 'dico_scale'"
     ]
    }
   ],
   "source": [
    "\n",
    "dataset.compute_edge_weight(dico_scale={\"x\": 0.103, 'y': 0.103, \"z\": 0.3},  # in micrometer\n",
    "        images_subset = None,\n",
    "        mode=\"nearest_nn_radius\",\n",
    "        n_neighbors=25,\n",
    "        radius=1,  # in micormeter\n",
    "        distance=\"pearson\",\n",
    "        per_images=False,\n",
    "        sampling=False,\n",
    "        sampling_size=100000)\n",
    "\n"
   ]
  },
  {
   "cell_type": "markdown",
   "id": "f05a5002",
   "metadata": {},
   "source": [
    "### todo plot the gene expression matrix"
   ]
  },
  {
   "cell_type": "markdown",
   "id": "77e1dfbd",
   "metadata": {
    "scrolled": true
   },
   "source": [
    "# CREATE RNA GRAPH"
   ]
  },
  {
   "cell_type": "code",
   "execution_count": null,
   "id": "4b9ea146",
   "metadata": {},
   "outputs": [],
   "source": [
    "import comseg\n",
    "\n",
    "from comseg import model, dictionary\n",
    "import importlib\n",
    "importlib.reload(comseg)\n",
    "importlib.reload(model)\n",
    "importlib.reload(dictionary)\n",
    "\n"
   ]
  },
  {
   "cell_type": "code",
   "execution_count": null,
   "id": "7d164658",
   "metadata": {
    "scrolled": true
   },
   "outputs": [],
   "source": [
    "\n",
    "Comsegdict = dictionary.ComSegDict()\n",
    "for img_name  in dataset:\n",
    "    comseg_m = model.ComSeg(selected_genes = dataset.selected_genes,\n",
    "        df_spots_label = dataset[img_name],\n",
    "                 dict_scale={\"x\": 0.103, 'y': 0.103, \"z\": 0.3})\n",
    "    comseg_m.create_graph(dict_co_expression=dataset.dict_co_expression ,\n",
    "                         )\n",
    "    comseg_m.community_vector(\n",
    "                             clustering_method=\"louvain_with_prior\",\n",
    "                             weights_name=\"weight\",\n",
    "\n",
    "                             prior_keys=\"prior\",\n",
    "                             seed=None,\n",
    "                             super_node_prior_keys=\"prior\",\n",
    "                             confidence_level=1,\n",
    "                             )\n",
    "    Comsegdict[img_name] = comseg_m"
   ]
  },
  {
   "cell_type": "code",
   "execution_count": null,
   "id": "de3a0bff",
   "metadata": {
    "scrolled": true
   },
   "outputs": [],
   "source": [
    " img_name"
   ]
  },
  {
   "cell_type": "code",
   "execution_count": null,
   "id": "12c91ba4",
   "metadata": {},
   "outputs": [],
   "source": []
  },
  {
   "cell_type": "code",
   "execution_count": null,
   "id": "bf40a25c",
   "metadata": {
    "scrolled": true
   },
   "outputs": [],
   "source": [
    "#import anndata as ad\n",
    "#Comsegdict.concatenate_anndata()"
   ]
  },
  {
   "cell_type": "markdown",
   "id": "e36b1181",
   "metadata": {},
   "source": [
    "### IN SITU CLUSTERING"
   ]
  },
  {
   "cell_type": "code",
   "execution_count": null,
   "id": "69bb26cd",
   "metadata": {
    "scrolled": false
   },
   "outputs": [],
   "source": [
    "Comsegdict.compute_insitu_clustering(\n",
    "                                  size_commu_min=3,\n",
    "                                  norm_vector=True,\n",
    "                                  ### parameter clustering\n",
    "                                  n_pcs=3,\n",
    "                                  n_comps=3,\n",
    "                                  clustering_method=\"leiden\",\n",
    "                                  n_neighbors=20,\n",
    "                                  resolution=1,\n",
    "                                  n_clusters_kmeans=4,\n",
    "                                  palette=None,\n",
    "                                  nb_min_cluster=0,\n",
    "                                  min_merge_correlation=0.8,\n",
    "                                  )"
   ]
  },
  {
   "cell_type": "code",
   "execution_count": null,
   "id": "f34076c1",
   "metadata": {},
   "outputs": [],
   "source": [
    "#todo check the operation perfom plus plot "
   ]
  },
  {
   "cell_type": "code",
   "execution_count": 451,
   "id": "b8af751d",
   "metadata": {},
   "outputs": [
    {
     "data": {
      "text/plain": [
       "'07_CtrlNI_Pdgfra-Cy3_Serpine1-Cy5_006'"
      ]
     },
     "execution_count": 451,
     "metadata": {},
     "output_type": "execute_result"
    }
   ],
   "source": [
    "img_name\n"
   ]
  },
  {
   "cell_type": "code",
   "execution_count": 452,
   "id": "dd90466d",
   "metadata": {},
   "outputs": [],
   "source": [
    "d = np.load('/media/tom/T7/simulation/exp_same_cyto/same_param1_4_0/remove20/dico_centroid/01_CtrlNI_Chil3-Cy3_Mki67-Cy5_001.tiff.npy',allow_pickle = True).item()"
   ]
  },
  {
   "cell_type": "code",
   "execution_count": 453,
   "id": "5382e2fe",
   "metadata": {},
   "outputs": [
    {
     "data": {
      "text/plain": [
       "1"
      ]
     },
     "execution_count": 453,
     "metadata": {},
     "output_type": "execute_result"
    }
   ],
   "source": [
    "np.mean(np.array(d[4]), axis = 0).ndim\n"
   ]
  },
  {
   "cell_type": "code",
   "execution_count": 454,
   "id": "e1bc7468",
   "metadata": {},
   "outputs": [
    {
     "data": {
      "text/plain": [
       "2"
      ]
     },
     "execution_count": 454,
     "metadata": {},
     "output_type": "execute_result"
    }
   ],
   "source": [
    "np.array(d[4]).ndim"
   ]
  },
  {
   "cell_type": "code",
   "execution_count": 455,
   "id": "262f570f",
   "metadata": {},
   "outputs": [
    {
     "data": {
      "text/plain": [
       "3086"
      ]
     },
     "execution_count": 455,
     "metadata": {},
     "output_type": "execute_result"
    }
   ],
   "source": [
    "len(Comsegdict[img_name].G)"
   ]
  },
  {
   "cell_type": "code",
   "execution_count": 456,
   "id": "dc05cbd9",
   "metadata": {},
   "outputs": [
    {
     "data": {
      "text/plain": [
       "3086"
      ]
     },
     "execution_count": 456,
     "metadata": {},
     "output_type": "execute_result"
    }
   ],
   "source": [
    "len(Comsegdict[img_name].list_coordo_order)"
   ]
  },
  {
   "cell_type": "code",
   "execution_count": 457,
   "id": "6c81b72e",
   "metadata": {
    "scrolled": true
   },
   "outputs": [
    {
     "name": "stdout",
     "output_type": "stream",
     "text": [
      "add centroids to 07_CtrlNI_Pdgfra-Cy3_Serpine1-Cy5_004\n",
      "add centroids to 07_CtrlNI_Pdgfra-Cy3_Serpine1-Cy5_006\n"
     ]
    },
    {
     "data": {
      "text/plain": [
       "{'07_CtrlNI_Pdgfra-Cy3_Serpine1-Cy5_004': <comseg.model.ComSeg object at 0x7fb42e775ac0>, '07_CtrlNI_Pdgfra-Cy3_Serpine1-Cy5_006': <comseg.model.ComSeg object at 0x7fb42e71ba90>, 'clustering_method': 'leiden_merged', 'global_anndata': AnnData object with n_obs × n_vars = 410 × 8\n",
       "    obs: 'list_coord', 'node_index', 'prior', 'index_commu', 'nb_rna', 'img_name', 'leiden', 'leiden_merged', 'in_situ_clustering': <comseg.clustering.InSituClustering object at 0x7fb42e77a3d0>}"
      ]
     },
     "execution_count": 457,
     "metadata": {},
     "output_type": "execute_result"
    }
   ],
   "source": [
    "#Comsegdict.add_centroids(path_centroids = \"/media/tom/T7/simulation/exp_same_cyto/same_param1_4_0/remove20/dico_centroid\",\n",
    "#                         file_extension = \".tiff.npy\")"
   ]
  },
  {
   "cell_type": "code",
   "execution_count": 458,
   "id": "5a54a129",
   "metadata": {},
   "outputs": [],
   "source": [
    "#Comsegdict[img_name].G.nodes[len(G)][\"type\"] = \"blue\""
   ]
  },
  {
   "cell_type": "code",
   "execution_count": 459,
   "id": "b4168d1e",
   "metadata": {},
   "outputs": [
    {
     "data": {
      "text/plain": [
       "{'index': 3085,\n",
       " 'x': 172,\n",
       " 'y': 685,\n",
       " 'z': 10,\n",
       " 'gene': 'Abcg1',\n",
       " 'prior': 0,\n",
       " 'nb_mol': 1,\n",
       " 'index_commu': 155,\n",
       " 'index_commu_in_nucleus': 0,\n",
       " 'kernel_vector': array([0.00000000e+00, 0.00000000e+00, 0.00000000e+00, 0.00000000e+00,\n",
       "        0.00000000e+00, 3.19699669e-06, 0.00000000e+00, 0.00000000e+00])}"
      ]
     },
     "execution_count": 459,
     "metadata": {},
     "output_type": "execute_result"
    }
   ],
   "source": [
    "#Comsegdict[img_name].G.nodes[3085]"
   ]
  },
  {
   "cell_type": "markdown",
   "id": "753bd8e2",
   "metadata": {},
   "source": [
    "## take the cluster and add it in the model \n"
   ]
  },
  {
   "cell_type": "code",
   "execution_count": null,
   "id": "5c0f594b",
   "metadata": {},
   "outputs": [],
   "source": []
  },
  {
   "cell_type": "code",
   "execution_count": 460,
   "id": "15866535",
   "metadata": {},
   "outputs": [
    {
     "name": "stderr",
     "output_type": "stream",
     "text": [
      "/home/tom/Bureau/phd/simulation/ComSeg_pkg/comseg/model.py:419: FutureWarning: elementwise comparison failed; returning scalar instead, but in the future will perform elementwise comparison\n",
      "  index_type_list = index_type_list[type_list == pred_cluster]\n"
     ]
    },
    {
     "ename": "KeyError",
     "evalue": "'in_nucleus'",
     "output_type": "error",
     "traceback": [
      "\u001b[0;31m---------------------------------------------------------------------------\u001b[0m",
      "\u001b[0;31mKeyError\u001b[0m                                  Traceback (most recent call last)",
      "Cell \u001b[0;32mIn[460], line 1\u001b[0m\n\u001b[0;32m----> 1\u001b[0m \u001b[43mComsegdict\u001b[49m\u001b[43m[\u001b[49m\u001b[43mimg_name\u001b[49m\u001b[43m]\u001b[49m\u001b[38;5;241;43m.\u001b[39;49m\u001b[43mclassify_centroid\u001b[49m\u001b[43m(\u001b[49m\u001b[43mn_neighbors\u001b[49m\u001b[43m \u001b[49m\u001b[38;5;241;43m=\u001b[39;49m\u001b[43m \u001b[49m\u001b[38;5;241;43m15\u001b[39;49m\u001b[43m,\u001b[49m\n\u001b[1;32m      2\u001b[0m \u001b[43m                            \u001b[49m\u001b[43mdict_in_pixel\u001b[49m\u001b[43m \u001b[49m\u001b[38;5;241;43m=\u001b[39;49m\u001b[43m \u001b[49m\u001b[38;5;28;43;01mTrue\u001b[39;49;00m\u001b[43m,\u001b[49m\n\u001b[1;32m      3\u001b[0m \u001b[43m                          \u001b[49m\u001b[43mmax_dist_centroid\u001b[49m\u001b[43m \u001b[49m\u001b[38;5;241;43m=\u001b[39;49m\u001b[43m \u001b[49m\u001b[38;5;28;43;01mNone\u001b[39;49;00m\u001b[43m,\u001b[49m\n\u001b[1;32m      4\u001b[0m \u001b[43m                          \u001b[49m\u001b[43mkey_pred\u001b[49m\u001b[43m \u001b[49m\u001b[38;5;241;43m=\u001b[39;49m\u001b[43m \u001b[49m\u001b[38;5;124;43m\"\u001b[39;49m\u001b[38;5;124;43mleiden_merged\u001b[39;49m\u001b[38;5;124;43m\"\u001b[39;49m\u001b[43m,\u001b[49m\n\u001b[1;32m      5\u001b[0m \u001b[43m                          \u001b[49m\u001b[43mdistance\u001b[49m\u001b[43m \u001b[49m\u001b[38;5;241;43m=\u001b[39;49m\u001b[43m \u001b[49m\u001b[38;5;124;43m\"\u001b[39;49m\u001b[38;5;124;43mgaussian\u001b[39;49m\u001b[38;5;124;43m\"\u001b[39;49m\u001b[43m,\u001b[49m\n\u001b[1;32m      6\u001b[0m \u001b[43m                          \u001b[49m\u001b[43mconvex_hull_centroid\u001b[49m\u001b[43m \u001b[49m\u001b[38;5;241;43m=\u001b[39;49m\u001b[43m \u001b[49m\u001b[38;5;28;43;01mTrue\u001b[39;49;00m\u001b[43m)\u001b[49m\n",
      "File \u001b[0;32m~/Bureau/phd/simulation/ComSeg_pkg/comseg/model.py:468\u001b[0m, in \u001b[0;36mComSeg.classify_centroid\u001b[0;34m(self, n_neighbors, dict_in_pixel, max_dist_centroid, key_pred, distance, convex_hull_centroid)\u001b[0m\n\u001b[1;32m    466\u001b[0m \u001b[38;5;28;01mfor\u001b[39;00m ii \u001b[38;5;129;01min\u001b[39;00m array_index_nn:\n\u001b[1;32m    467\u001b[0m     \u001b[38;5;28mself\u001b[39m\u001b[38;5;241m.\u001b[39mG\u001b[38;5;241m.\u001b[39madd_edge(node_index, ii)\n\u001b[0;32m--> 468\u001b[0m     \u001b[38;5;28;01mif\u001b[39;00m nuc \u001b[38;5;241m==\u001b[39m \u001b[38;5;28;43mself\u001b[39;49m\u001b[38;5;241;43m.\u001b[39;49m\u001b[43mG\u001b[49m\u001b[38;5;241;43m.\u001b[39;49m\u001b[43mnodes\u001b[49m\u001b[43m[\u001b[49m\u001b[43mii\u001b[49m\u001b[43m]\u001b[49m\u001b[43m[\u001b[49m\u001b[38;5;124;43m'\u001b[39;49m\u001b[38;5;124;43min_nucleus\u001b[39;49m\u001b[38;5;124;43m'\u001b[39;49m\u001b[43m]\u001b[49m:\n\u001b[1;32m    469\u001b[0m         \u001b[38;5;28mself\u001b[39m\u001b[38;5;241m.\u001b[39mG\u001b[38;5;241m.\u001b[39madd_edge(node_index, ii, distance \u001b[38;5;241m=\u001b[39m \u001b[38;5;241m0\u001b[39m)\n\u001b[1;32m    470\u001b[0m     \u001b[38;5;28;01melse\u001b[39;00m:\n",
      "\u001b[0;31mKeyError\u001b[0m: 'in_nucleus'"
     ]
    },
    {
     "name": "stderr",
     "output_type": "stream",
     "text": [
      "qt.qpa.xcb: QXcbConnection: XCB error: 148 (Unknown), sequence: 30972, resource id: 0, major code: 140 (Unknown), minor code: 20\n"
     ]
    }
   ],
   "source": [
    "Comsegdict[img_name].classify_centroid(n_neighbors = 15,\n",
    "                            dict_in_pixel = True,\n",
    "                          max_dist_centroid = None,\n",
    "                          key_pred = \"leiden_merged\",\n",
    "                          distance = \"gaussian\",\n",
    "                          convex_hull_centroid = True)"
   ]
  },
  {
   "cell_type": "code",
   "execution_count": null,
   "id": "edc372c1",
   "metadata": {},
   "outputs": [],
   "source": []
  },
  {
   "cell_type": "code",
   "execution_count": 45,
   "id": "fc9b5526",
   "metadata": {},
   "outputs": [],
   "source": [
    "pp = np.array([True, False, False, True])"
   ]
  },
  {
   "cell_type": "code",
   "execution_count": 47,
   "id": "1df02229",
   "metadata": {},
   "outputs": [
    {
     "data": {
      "text/plain": [
       "(array([0, 3]),)"
      ]
     },
     "execution_count": 47,
     "metadata": {},
     "output_type": "execute_result"
    }
   ],
   "source": [
    "np.nonzero(pp)"
   ]
  },
  {
   "cell_type": "code",
   "execution_count": null,
   "id": "1803aeff",
   "metadata": {},
   "outputs": [],
   "source": []
  },
  {
   "cell_type": "code",
   "execution_count": null,
   "id": "00a265ac",
   "metadata": {},
   "outputs": [],
   "source": []
  },
  {
   "cell_type": "markdown",
   "id": "fe383f41",
   "metadata": {},
   "source": [
    "## add centroid to model \n",
    "## classify it \n",
    "## apply dikstra \n",
    "## "
   ]
  },
  {
   "cell_type": "code",
   "execution_count": null,
   "id": "4bb53d1a",
   "metadata": {},
   "outputs": [],
   "source": []
  },
  {
   "cell_type": "code",
   "execution_count": null,
   "id": "128bcdd6",
   "metadata": {},
   "outputs": [],
   "source": [
    "scrna_unique_clusters"
   ]
  },
  {
   "cell_type": "code",
   "execution_count": null,
   "id": "fc21fb6a",
   "metadata": {},
   "outputs": [],
   "source": [
    "np.array(insitu_clustering.scrna_unique_clusters).astype(int)"
   ]
  },
  {
   "cell_type": "code",
   "execution_count": null,
   "id": "05ee7857",
   "metadata": {},
   "outputs": [],
   "source": [
    " insitu_clustering.scrna_centroids.shape"
   ]
  },
  {
   "cell_type": "code",
   "execution_count": 386,
   "id": "7fdbf546",
   "metadata": {},
   "outputs": [],
   "source": [
    "\n",
    "    ### add classify it\n",
    "    def classify_centroid(self,\n",
    "                          n_neighbors = 15,\n",
    "                            dico_in_pixel = True,\n",
    "                          max_dist_centroid = None,\n",
    "                          key_pred = \"leiden_merged\",\n",
    "                          distance = \"gaussian\",\n",
    "                          convex_hull_centroid = True):\n",
    "\n",
    "        if max_dist_centroid is None:\n",
    "            max_dist_centroid = self.mean_cell_diameter / 3\n",
    "\n",
    "\n",
    "        nbrs = NearestNeighbors(n_neighbors=n_neighbors,\n",
    "                                algorithm='ball_tree').fit(self.list_coordo_order)\n",
    "\n",
    "        if dico_in_pixel:\n",
    "            list_coordo_order_nuc_centroid_no_scaling = []\n",
    "            list_coordo_order_nuc_centroid = []\n",
    "            for nuc in self.dict_cell_centroid:\n",
    "                centroid_pix = np.array(self.dict_cell_centroid[nuc][0])\n",
    "                centroid_um = centroid_pix * np.array([self.dict_scale['x'],\n",
    "                                                                         self.dict_scale['y'],\n",
    "                                                                         self.dict_scale[\"z\"]]) ## it is a bit wierd to altern [x,y,z] for spots list\n",
    "                                                                                        # with  [z,y,x] for images\n",
    "                list_coordo_order_nuc_centroid_no_scaling.append(centroid_pix)\n",
    "                list_coordo_order_nuc_centroid.append(centroid_um)\n",
    "        else:\n",
    "            raise ValueError(\"not implemented yet with dico_in_pixel = False\")\n",
    "\n",
    "\n",
    "        ad_nuc_centroid = nbrs.kneighbors_graph(list_coordo_order_nuc_centroid)  ## can be optimize here\n",
    "        distance_nuc_centroid = nbrs.kneighbors_graph(list_coordo_order_nuc_centroid, mode='distance')\n",
    "\n",
    "        node_nb = len(self.list_coordo_order)\n",
    "        nb_node_add = 0\n",
    "        dico_nuclei_centroid =  {}\n",
    "        for nuc_index in range(self.dict_cell_centroid):\n",
    "\n",
    "            nuc = list(self.dict_cell_centroid.keys())[nuc_index]\n",
    "\n",
    "\n",
    "            dico_nuclei_centroid[nuc][\"type_list\"] = []\n",
    "            dico_nuclei_centroid[nuc][\"gr_type_list\"] = []\n",
    "            dico_nuclei_centroid[nuc][\"ngb_distance\"] = []\n",
    "            dico_nuclei_centroid[nuc][\"ngb_gr_cell\"] = []\n",
    "            dico_nuclei_centroid[nuc][\"ngb_distance_weights\"] = []\n",
    "            dico_nuclei_centroid[nuc][\"gaussian\"] = []\n",
    "            dico_nuclei_centroid[nuc][\"gene\"] = \"centroid\"\n",
    "            dico_nuclei_centroid[nuc][\"cell\"] = nuc\n",
    "            dico_nuclei_centroid[nuc][\"in_nucleus\"] = nuc\n",
    "            dico_nuclei_centroid[nuc][\"index_commu_in_nucleus\"] = nuc\n",
    "            type_list = []\n",
    "            array_index_nn = np.nonzero(ad_nuc_centroid[nuc_index].toarray())[1]\n",
    "            index_type_list = []\n",
    "            for index_nn_centroid in array_index_nn:\n",
    "                if max_dist_centroid is not None:\n",
    "                    if distance_nuc_centroid[nuc_index, index_nn_centroid] > max_dist_centroid:\n",
    "                        continue\n",
    "                index_type_list.append(index_nn_centroid)\n",
    "                type_list.append(self.G.nodes[index_nn_centroid])\n",
    "                dico_nuclei_centroid[nuc][\"type_list\"].append(self.G.nodes[index_nn_centroid][key_pred])\n",
    "                dico_nuclei_centroid[nuc][\"ngb_distance\"].append(\n",
    "                    distance_nuc_centroid[nuc_index, index_nn_centroid])\n",
    "                dico_nuclei_centroid[nuc][\"ngb_distance_weights\"].append(\n",
    "                    max_dist_centroid - distance_nuc_centroid[nuc_index, index_nn_centroid])\n",
    "                dico_nuclei_centroid[nuc]['nn_graph_indice'] = array_index_nn\n",
    "                dico_nuclei_centroid[nuc][\"gaussian\"].append(\n",
    "                    normal_dist(distance_nuc_centroid[nuc_index, index_nn_centroid], mean=0, sd=1))\n",
    "\n",
    "            type_list = np.array(dico_nuclei_centroid[nuc][\"type_list\"])\n",
    "            weights_list = np.array(dico_nuclei_centroid[nuc][distance])[type_list != None]\n",
    "            type_list = type_list[type_list != None]\n",
    "            pred_cluster = weighted_mode(a=type_list,\n",
    "                                         w=weights_list)[0][0] if len(\n",
    "                type_list) > 0 else \"unknown\"\n",
    "\n",
    "            if convex_hull_centroid:\n",
    "                list_coordo_order = self.list_coordo_order.copy()\n",
    "                index_type_list = np.array(index_type_list)\n",
    "                index_type_list = index_type_list[type_list == pred_cluster]\n",
    "                if len(index_type_list) <= 3:\n",
    "                    pred_cluster = \"unknown\"\n",
    "                else:\n",
    "                    ### detect 2D input\n",
    "                    invalid_dim = np.array([np.all(\n",
    "                        list_coordo_order[index_type_list][:, i] == list_coordo_order[index_type_list][0, i]) for i\n",
    "                                            in\n",
    "                                            range(list_coordo_order.shape[1])\n",
    "                                            ]).astype(int)\n",
    "                    if np.sum(invalid_dim) == 1:\n",
    "                        assert invalid_dim[2] == 1\n",
    "                        try:\n",
    "                            convex_hull = Delaunay(list_coordo_order[index_type_list][:, :2])\n",
    "                            is_valid_cv = convex_hull.find_simplex([dico_nuclei_centroid[nuc]['centroid_um'][:2]])[\n",
    "                                              0] >= 0\n",
    "                        except Exception as e:\n",
    "                            print(e)\n",
    "                            is_valid_cv = False\n",
    "\n",
    "                    else:\n",
    "                        # convex_hull = Delaunay(list_coordo_order[index_type_list])\n",
    "                        try:\n",
    "                            convex_hull = Delaunay(list_coordo_order[index_type_list][:, :2])\n",
    "                            is_valid_cv = convex_hull.find_simplex(\n",
    "                                [dico_nuclei_centroid[nuc]['centroid_um'][:2]])[0] >= 0\n",
    "                        except Exception as e:\n",
    "                            print(e)\n",
    "                            is_valid_cv = False\n",
    "                    if not is_valid_cv:\n",
    "                        pred_cluster = \"unknown\"\n",
    "\n",
    "            dico_nuclei_centroid[nuc][key_pred] = pred_cluster\n",
    "\n",
    "        ### add new attribute to node centroid\n",
    "\n",
    "            node_index = len(self.list_coordo_order) -1 + nuc\n",
    "            self.G.nodes[node_index][\"type_list\"] = dico_nuclei_centroid[nuc][\"type_list\"]\n",
    "            self.G.nodes[node_index][\"gr_type_list\"] = dico_nuclei_centroid[nuc][\"gr_type_list\"]\n",
    "            self.G.nodes[node_index][\"ngb_distance\"] = dico_nuclei_centroid[nuc][\"ngb_distance\"]\n",
    "            self.G.nodes[node_index][\"ngb_gr_cell\"] = dico_nuclei_centroid[nuc][\"ngb_gr_cell\"]\n",
    "            self.G.nodes[node_index][\"ngb_distance_weights\"] = dico_nuclei_centroid[nuc][\"ngb_distance_weights\"]\n",
    "            self.G.nodes[node_index][\"gaussian\"] = dico_nuclei_centroid[nuc][\"gaussian\"]\n",
    "            self.G.nodes[node_index][\"gene\"] = dico_nuclei_centroid[nuc][\"gene\"]\n",
    "            self.G.nodes[node_index][\"cell\"] = dico_nuclei_centroid[nuc][\"cell\"]\n",
    "            self.G.nodes[node_index][\"in_nucleus\"] = dico_nuclei_centroid[nuc][\"in_nucleus\"]\n",
    "            self.G.nodes[node_index][key_pred] = pred_cluster\n",
    "            for ii in array_index_nn:\n",
    "                self.G.add_edge(node_index, ii)\n",
    "                if nuc == self.G.nodes[ii]['in_nucleus']:\n",
    "                    self.G.add_edge(node_index, ii, distance = 0)\n",
    "                else:\n",
    "                    self.G.add_edge(node_index, ii, distance = distance_nuc_centroid[nuc_index, ii])\n",
    "\n",
    "        return self.G\n",
    "\n"
   ]
  },
  {
   "cell_type": "code",
   "execution_count": null,
   "id": "3a0c425e",
   "metadata": {},
   "outputs": [],
   "source": []
  }
 ],
 "metadata": {
  "kernelspec": {
   "display_name": "bigfish38_samm",
   "language": "python",
   "name": "bigfish38_samm"
  },
  "language_info": {
   "codemirror_mode": {
    "name": "ipython",
    "version": 3
   },
   "file_extension": ".py",
   "mimetype": "text/x-python",
   "name": "python",
   "nbconvert_exporter": "python",
   "pygments_lexer": "ipython3",
   "version": "3.8.8"
  }
 },
 "nbformat": 4,
 "nbformat_minor": 5
}
