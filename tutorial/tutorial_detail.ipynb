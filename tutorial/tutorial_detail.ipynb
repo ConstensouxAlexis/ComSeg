{
 "cells": [
  {
   "cell_type": "markdown",
   "id": "43d548b7",
   "metadata": {},
   "source": [
    "# Basique tutorial ComSeg"
   ]
  },
  {
   "cell_type": "code",
   "execution_count": 1,
   "id": "ae32eaee",
   "metadata": {},
   "outputs": [],
   "source": [
    "import matplotlib\n",
    "matplotlib.use('Qt5Agg')\n",
    "import sys\n",
    "import numpy as np"
   ]
  },
  {
   "cell_type": "code",
   "execution_count": 2,
   "id": "02ca15c4",
   "metadata": {},
   "outputs": [
    {
     "data": {
      "text/plain": [
       "['/home/tom/Bureau/phd/simulation/ComSeg_pkg/tutorial',\n",
       " '/home/tom/anaconda3/lib/python38.zip',\n",
       " '/home/tom/anaconda3/lib/python3.8',\n",
       " '/home/tom/anaconda3/lib/python3.8/lib-dynload',\n",
       " '',\n",
       " '/home/tom/.local/lib/python3.8/site-packages',\n",
       " '/home/tom/anaconda3/lib/python3.8/site-packages',\n",
       " '/home/tom/Bureau/phd/autofish_pckg',\n",
       " '/home/tom/anaconda3/envs/comseg_v0/lib/python3.8/site-packages']"
      ]
     },
     "execution_count": 2,
     "metadata": {},
     "output_type": "execute_result"
    }
   ],
   "source": [
    "import matplotlib\n",
    "matplotlib.use('Qt5Agg')\n",
    "import sys\n",
    "import numpy as np\n",
    "sys.path  \n",
    "sys.path +=[\n",
    "           '/home/tom/anaconda3/envs/comseg_v0/lib/python3.8/site-packages'] ## add conda env\n",
    "\n",
    "sys.path"
   ]
  },
  {
   "cell_type": "markdown",
   "id": "1bfc3ed6",
   "metadata": {},
   "source": [
    "# dataset initialization"
   ]
  },
  {
   "cell_type": "code",
   "execution_count": 3,
   "id": "7b69d054",
   "metadata": {
    "scrolled": true
   },
   "outputs": [
    {
     "data": {
      "text/plain": [
       "<module 'comseg.dataset' from '/home/tom/anaconda3/envs/comseg_v0/lib/python3.8/site-packages/comseg/dataset.py'>"
      ]
     },
     "execution_count": 3,
     "metadata": {},
     "output_type": "execute_result"
    }
   ],
   "source": [
    "import comseg\n",
    "from comseg import dataset\n",
    "import importlib\n",
    "importlib.reload(dataset)"
   ]
  },
  {
   "cell_type": "code",
   "execution_count": 4,
   "id": "a5536514",
   "metadata": {},
   "outputs": [],
   "source": [
    "\n",
    "### List of genes to study\n",
    "selected_genes = ['Atp6v0d2', 'Abcg1','Rtkn2',  'Igfbp2','Cxcl15','Cd79a','Ms4a2', 'Fcer1a']\n",
    " #                    'Ccdc153','Scgb3a2', 'Scgb1a1', 'Cst3','Cdh5', 'Clec14a','Inmt', ]\n",
    "  #                   'Pcolce2','C1qc', 'C1qa', 'C1qb','Upk3b','Ifitm6','Plac8','Ms4a4b', 'Ccl5', 'Hcst',\n",
    "   #                  'Gzma', 'Ncr1','S100a9','Mmrn1', 'Acta2','Myh11', 'Cd3g', 'Cd3d']\n",
    "\n",
    "dataset = comseg.dataset.ComSegDataset(selected_genes = selected_genes,\n",
    "    path_dataset_folder = \"/media/tom/T7/simulation/test_set/small_df\",\n",
    "                path_to_mask_prior = \"/media/tom/T7/simulation/test_set/mask\")\n",
    "dataset.add_prior_from_mask()"
   ]
  },
  {
   "cell_type": "code",
   "execution_count": 6,
   "id": "77a49d80",
   "metadata": {
    "scrolled": true
   },
   "outputs": [
    {
     "ename": "TypeError",
     "evalue": "compute_edge_weight() got an unexpected keyword argument 'dico_scale'",
     "output_type": "error",
     "traceback": [
      "\u001b[0;31m---------------------------------------------------------------------------\u001b[0m",
      "\u001b[0;31mTypeError\u001b[0m                                 Traceback (most recent call last)",
      "Cell \u001b[0;32mIn[6], line 1\u001b[0m\n\u001b[0;32m----> 1\u001b[0m \u001b[43mdataset\u001b[49m\u001b[38;5;241;43m.\u001b[39;49m\u001b[43mcompute_edge_weight\u001b[49m\u001b[43m(\u001b[49m\u001b[43mdico_scale\u001b[49m\u001b[38;5;241;43m=\u001b[39;49m\u001b[43m{\u001b[49m\u001b[38;5;124;43m\"\u001b[39;49m\u001b[38;5;124;43mx\u001b[39;49m\u001b[38;5;124;43m\"\u001b[39;49m\u001b[43m:\u001b[49m\u001b[43m \u001b[49m\u001b[38;5;241;43m0.103\u001b[39;49m\u001b[43m,\u001b[49m\u001b[43m \u001b[49m\u001b[38;5;124;43m'\u001b[39;49m\u001b[38;5;124;43my\u001b[39;49m\u001b[38;5;124;43m'\u001b[39;49m\u001b[43m:\u001b[49m\u001b[43m \u001b[49m\u001b[38;5;241;43m0.103\u001b[39;49m\u001b[43m,\u001b[49m\u001b[43m \u001b[49m\u001b[38;5;124;43m\"\u001b[39;49m\u001b[38;5;124;43mz\u001b[39;49m\u001b[38;5;124;43m\"\u001b[39;49m\u001b[43m:\u001b[49m\u001b[43m \u001b[49m\u001b[38;5;241;43m0.3\u001b[39;49m\u001b[43m}\u001b[49m\u001b[43m,\u001b[49m\u001b[43m  \u001b[49m\u001b[38;5;66;43;03m# in micrometer\u001b[39;49;00m\n\u001b[1;32m      2\u001b[0m \u001b[43m        \u001b[49m\u001b[43mimages_subset\u001b[49m\u001b[43m \u001b[49m\u001b[38;5;241;43m=\u001b[39;49m\u001b[43m \u001b[49m\u001b[38;5;28;43;01mNone\u001b[39;49;00m\u001b[43m,\u001b[49m\n\u001b[1;32m      3\u001b[0m \u001b[43m        \u001b[49m\u001b[43mmode\u001b[49m\u001b[38;5;241;43m=\u001b[39;49m\u001b[38;5;124;43m\"\u001b[39;49m\u001b[38;5;124;43mnearest_nn_radius\u001b[39;49m\u001b[38;5;124;43m\"\u001b[39;49m\u001b[43m,\u001b[49m\n\u001b[1;32m      4\u001b[0m \u001b[43m        \u001b[49m\u001b[43mn_neighbors\u001b[49m\u001b[38;5;241;43m=\u001b[39;49m\u001b[38;5;241;43m25\u001b[39;49m\u001b[43m,\u001b[49m\n\u001b[1;32m      5\u001b[0m \u001b[43m        \u001b[49m\u001b[43mradius\u001b[49m\u001b[38;5;241;43m=\u001b[39;49m\u001b[38;5;241;43m1\u001b[39;49m\u001b[43m,\u001b[49m\u001b[43m  \u001b[49m\u001b[38;5;66;43;03m# in micormeter\u001b[39;49;00m\n\u001b[1;32m      6\u001b[0m \u001b[43m        \u001b[49m\u001b[43mdistance\u001b[49m\u001b[38;5;241;43m=\u001b[39;49m\u001b[38;5;124;43m\"\u001b[39;49m\u001b[38;5;124;43mpearson\u001b[39;49m\u001b[38;5;124;43m\"\u001b[39;49m\u001b[43m,\u001b[49m\n\u001b[1;32m      7\u001b[0m \u001b[43m        \u001b[49m\u001b[43mper_images\u001b[49m\u001b[38;5;241;43m=\u001b[39;49m\u001b[38;5;28;43;01mFalse\u001b[39;49;00m\u001b[43m,\u001b[49m\n\u001b[1;32m      8\u001b[0m \u001b[43m        \u001b[49m\u001b[43msampling\u001b[49m\u001b[38;5;241;43m=\u001b[39;49m\u001b[38;5;28;43;01mFalse\u001b[39;49;00m\u001b[43m,\u001b[49m\n\u001b[1;32m      9\u001b[0m \u001b[43m        \u001b[49m\u001b[43msampling_size\u001b[49m\u001b[38;5;241;43m=\u001b[39;49m\u001b[38;5;241;43m100000\u001b[39;49m\u001b[43m)\u001b[49m\n",
      "\u001b[0;31mTypeError\u001b[0m: compute_edge_weight() got an unexpected keyword argument 'dico_scale'"
     ]
    }
   ],
   "source": [
    "\n",
    "dataset.compute_edge_weight(dico_scale={\"x\": 0.103, 'y': 0.103, \"z\": 0.3},  # in micrometer\n",
    "        images_subset = None,\n",
    "        mode=\"nearest_nn_radius\",\n",
    "        n_neighbors=25,\n",
    "        radius=1,  # in micormeter\n",
    "        distance=\"pearson\",\n",
    "        per_images=False,\n",
    "        sampling=False,\n",
    "        sampling_size=100000)"
   ]
  },
  {
   "cell_type": "markdown",
   "id": "1cdd8312",
   "metadata": {
    "scrolled": true
   },
   "source": [
    "# CREATE RNA GRAPH"
   ]
  },
  {
   "cell_type": "code",
   "execution_count": 15,
   "id": "c783cb2c",
   "metadata": {},
   "outputs": [
    {
     "data": {
      "text/plain": [
       "<module 'comseg.dictionary' from '/home/tom/Bureau/phd/simulation/ComSeg_pkg/comseg/dictionary.py'>"
      ]
     },
     "execution_count": 15,
     "metadata": {},
     "output_type": "execute_result"
    }
   ],
   "source": [
    "import comseg\n",
    "\n",
    "from comseg import model, dictionary\n",
    "import importlib\n",
    "importlib.reload(comseg)\n",
    "importlib.reload(model)\n",
    "importlib.reload(dictionary)"
   ]
  },
  {
   "cell_type": "code",
   "execution_count": null,
   "id": "4a0c71ae",
   "metadata": {
    "scrolled": true
   },
   "outputs": [
    {
     "name": "stdout",
     "output_type": "stream",
     "text": [
      "computing knn\n",
      "adding edges\n"
     ]
    },
    {
     "name": "stderr",
     "output_type": "stream",
     "text": [
      "100%|██████████████████████████████████████████████████████████████████████████████████████████████████████████████████████████████████████████████████████████████████████████████████████████| 84684/84684 [00:01<00:00, 66719.42it/s]\n"
     ]
    },
    {
     "name": "stdout",
     "output_type": "stream",
     "text": [
      "creation of  super node with prior\n",
      "1\n",
      "2655\n",
      "468\n",
      "171\n",
      "105\n",
      "37\n",
      "26\n",
      "21\n",
      "20\n",
      "20\n",
      "12\n",
      "9\n",
      "4\n",
      "True\n",
      "322\n",
      "1\n",
      "93\n",
      "9\n",
      "229\n",
      "1\n",
      "12\n",
      "217\n",
      "1\n",
      "217\n"
     ]
    },
    {
     "name": "stderr",
     "output_type": "stream",
     "text": [
      "100%|██████████████████████████████████████████████████████████████████████████████████████████████████████████████████████████████████████████████████████████████████████████████████████████████| 217/217 [00:00<00:00, 15597.28it/s]\n",
      "100%|█████████████████████████████████████████████████████████████████████████████████████████████████████████████████████████████████████████████████████████████████████████████████████████████| 3346/3346 [00:00<00:00, 9349.04it/s]\n"
     ]
    }
   ],
   "source": [
    "\n",
    "Comsegdict = dictionary.ComSegDict()\n",
    "for img_name  in dataset:\n",
    "    comseg_m = model.ComSeg(selected_genes = dataset.selected_genes,\n",
    "        df_spots_label = dataset[img_name],\n",
    "                 dict_scale={\"x\": 0.103, 'y': 0.103, \"z\": 0.3})\n",
    "    comseg_m.create_graph(dict_co_expression=dataset.dict_co_expression ,\n",
    "                         )\n",
    "    comseg_m.community_vector(\n",
    "                             clustering_method=\"louvain_with_prior\",\n",
    "                             weights_name=\"weight\",\n",
    "\n",
    "                             prior_keys=\"prior\",\n",
    "                             seed=None,\n",
    "                             super_node_prior_keys=\"prior\",\n",
    "                             confidence_level=1,\n",
    "                             )\n",
    "    Comsegdict[img_name] = comseg_m\n",
    "    "
   ]
  },
  {
   "cell_type": "code",
   "execution_count": null,
   "id": "f49abda4",
   "metadata": {
    "scrolled": true
   },
   "outputs": [],
   "source": [
    " img_name"
   ]
  },
  {
   "cell_type": "code",
   "execution_count": null,
   "id": "6a1d3d19",
   "metadata": {},
   "outputs": [],
   "source": []
  },
  {
   "cell_type": "code",
   "execution_count": null,
   "id": "72abf8d6",
   "metadata": {
    "scrolled": true
   },
   "outputs": [],
   "source": [
    "import anndata as ad\n",
    "Comsegdict.concatenate_anndata()"
   ]
  },
  {
   "cell_type": "markdown",
   "id": "b15e930b",
   "metadata": {},
   "source": [
    "# IN SITU CLUSTERING detail"
   ]
  },
  {
   "cell_type": "code",
   "execution_count": null,
   "id": "ef4f4240",
   "metadata": {
    "scrolled": false
   },
   "outputs": [],
   "source": [
    "import comseg\n",
    "from comseg import clustering\n",
    "import importlib\n",
    "importlib.reload(comseg)\n",
    "importlib.reload(clustering)\n",
    "from comseg import clustering"
   ]
  },
  {
   "cell_type": "code",
   "execution_count": null,
   "id": "de0fb8bb",
   "metadata": {
    "scrolled": true
   },
   "outputs": [],
   "source": [
    "insitu_clustering  = clustering.InSituClustering(anndata = Comsegdict.global_anndata,\n",
    "                                                 selected_genes = dataset.selected_genes)"
   ]
  },
  {
   "cell_type": "code",
   "execution_count": null,
   "id": "82b3df88",
   "metadata": {
    "scrolled": true
   },
   "outputs": [],
   "source": [
    "norm_expression_vectors, param_sctransform = insitu_clustering.compute_normalization_parameters( )"
   ]
  },
  {
   "cell_type": "code",
   "execution_count": null,
   "id": "97322105",
   "metadata": {
    "scrolled": true
   },
   "outputs": [],
   "source": [
    "l = Comsegdict.global_anndata.var_names\n",
    "l"
   ]
  },
  {
   "cell_type": "code",
   "execution_count": null,
   "id": "140015e8",
   "metadata": {
    "scrolled": true
   },
   "outputs": [],
   "source": [
    "bool_index  = np.array(insitu_clustering.anndata.obs['nb_rna']) > 3\n",
    "insitu_clustering.anndata[bool_index, :]"
   ]
  },
  {
   "cell_type": "code",
   "execution_count": null,
   "id": "4a4f5d21",
   "metadata": {
    "scrolled": true
   },
   "outputs": [],
   "source": [
    "insitu_clustering.anndata"
   ]
  },
  {
   "cell_type": "code",
   "execution_count": 16,
   "id": "ada8ff28",
   "metadata": {
    "scrolled": true
   },
   "outputs": [
    {
     "name": "stdout",
     "output_type": "stream",
     "text": [
      "number of cluster 5\n"
     ]
    }
   ],
   "source": [
    "anndata = insitu_clustering.cluster_rna_community(size_commu_min=3,\n",
    "                              norm_vector = True,\n",
    "                              ### parameter clustering\n",
    "                              n_pcs = 3,\n",
    "                              n_comps =3,\n",
    "                              clustering_method =\"leiden\",\n",
    "                              n_neighbors = 20,\n",
    "                              resolution = 1,\n",
    "                              n_clusters_kmeans = 4,\n",
    "                              palette = None)"
   ]
  },
  {
   "cell_type": "code",
   "execution_count": 17,
   "id": "270b97fc",
   "metadata": {},
   "outputs": [
    {
     "data": {
      "text/plain": [
       "AnnData object with n_obs × n_vars = 408 × 8\n",
       "    obs: 'list_coord', 'node_index', 'prior', 'index_commu', 'nb_rna', 'img_name', 'leiden'"
      ]
     },
     "execution_count": 17,
     "metadata": {},
     "output_type": "execute_result"
    }
   ],
   "source": [
    "anndata"
   ]
  },
  {
   "cell_type": "code",
   "execution_count": 18,
   "id": "73285a3e",
   "metadata": {
    "scrolled": true
   },
   "outputs": [
    {
     "name": "stdout",
     "output_type": "stream",
     "text": [
      "0\n",
      "1\n",
      "2\n",
      "3\n",
      "4\n"
     ]
    },
    {
     "data": {
      "text/plain": [
       "(array([[ 2.7499287 ,  1.9224914 ,  0.11273305, -0.19154239, -0.20656845,\n",
       "         -0.38980484],\n",
       "        [-1.0912926 , -0.7754209 , -0.5186857 , -0.5095918 ,  0.07091062,\n",
       "         -0.63465077],\n",
       "        [-0.4151709 , -0.43576032, -0.25616103, -0.2569109 , -0.2714332 ,\n",
       "          0.6625279 ],\n",
       "        [-0.8202157 , -0.68373597,  0.18360461,  2.2041764 ,  0.34213322,\n",
       "         -0.6109246 ],\n",
       "        [-0.7858103 , -0.54738176, -0.16928597, -0.19157282, -0.37327442,\n",
       "          5.6902933 ]], dtype=float32),\n",
       " array(['0', '1', '2', '3', '4'], dtype='<U1'))"
      ]
     },
     "execution_count": 18,
     "metadata": {},
     "output_type": "execute_result"
    }
   ],
   "source": [
    "insitu_clustering.cluster_centroid(\n",
    "                      cluster_column_name = \"leiden\",\n",
    "                       agregation_mode = \"mean\")"
   ]
  },
  {
   "cell_type": "code",
   "execution_count": 19,
   "id": "e5a31a2e",
   "metadata": {
    "scrolled": false
   },
   "outputs": [
    {
     "name": "stdout",
     "output_type": "stream",
     "text": [
      "[2.   4.   0.22 2.  ]\n",
      "[1.   5.   0.63 3.  ]\n",
      "[3.   6.   0.85 4.  ]\n"
     ]
    }
   ],
   "source": [
    "insitu_clustering.merge_cluster(nb_min_cluster = 0,\n",
    "                      min_merge_correlation = 0.1,\n",
    "                      cluster_column_name=\"leiden\",\n",
    "                      plot = False)"
   ]
  },
  {
   "cell_type": "markdown",
   "id": "75eec8b6",
   "metadata": {},
   "source": [
    "# take the cluster and add it in the model "
   ]
  },
  {
   "cell_type": "code",
   "execution_count": null,
   "id": "d0dbf79e",
   "metadata": {},
   "outputs": [],
   "source": [
    "\n"
   ]
  },
  {
   "cell_type": "code",
   "execution_count": 29,
   "id": "1b5a455b",
   "metadata": {},
   "outputs": [
    {
     "data": {
      "text/plain": [
       "AnnData object with n_obs × n_vars = 408 × 8\n",
       "    obs: 'list_coord', 'node_index', 'prior', 'index_commu', 'nb_rna', 'img_name', 'leiden'"
      ]
     },
     "execution_count": 29,
     "metadata": {},
     "output_type": "execute_result"
    }
   ],
   "source": [
    "insitu_clustering.anndata"
   ]
  },
  {
   "cell_type": "code",
   "execution_count": 28,
   "id": "9aff617c",
   "metadata": {},
   "outputs": [
    {
     "data": {
      "text/plain": [
       "View of AnnData object with n_obs × n_vars = 217 × 8\n",
       "    obs: 'list_coord', 'node_index', 'prior', 'index_commu', 'nb_rna', 'img_name', 'leiden'"
      ]
     },
     "execution_count": 28,
     "metadata": {},
     "output_type": "execute_result"
    }
   ],
   "source": [
    "Comsegdict.global_anndata[Comsegdict.global_anndata.obs.img_name == \"07_CtrlNI_Pdgfra-Cy3_Serpine1-Cy5_004\"]"
   ]
  },
  {
   "cell_type": "code",
   "execution_count": 24,
   "id": "709314c3",
   "metadata": {},
   "outputs": [
    {
     "data": {
      "text/plain": [
       "{'07_CtrlNI_Pdgfra-Cy3_Serpine1-Cy5_004': <comseg.model.ComSeg object at 0x7f51754d4f70>, '07_CtrlNI_Pdgfra-Cy3_Serpine1-Cy5_006': <comseg.model.ComSeg object at 0x7f51031d9af0>, 'global_anndata': AnnData object with n_obs × n_vars = 408 × 8\n",
       "    obs: 'list_coord', 'node_index', 'prior', 'index_commu', 'nb_rna', 'img_name', 'leiden'}"
      ]
     },
     "execution_count": 24,
     "metadata": {},
     "output_type": "execute_result"
    }
   ],
   "source": [
    "Comsegdict"
   ]
  },
  {
   "cell_type": "code",
   "execution_count": 27,
   "id": "7ec2314a",
   "metadata": {},
   "outputs": [
    {
     "data": {
      "text/plain": [
       "AnnData object with n_obs × n_vars = 217 × 8\n",
       "    obs: 'list_coord', 'node_index', 'prior', 'index_commu', 'nb_rna'\n",
       "    var: 'features'"
      ]
     },
     "execution_count": 27,
     "metadata": {},
     "output_type": "execute_result"
    }
   ],
   "source": [
    "Comsegdict['07_CtrlNI_Pdgfra-Cy3_Serpine1-Cy5_004'].community_anndata"
   ]
  },
  {
   "cell_type": "code",
   "execution_count": 32,
   "id": "7e16c3e1",
   "metadata": {},
   "outputs": [
    {
     "data": {
      "text/plain": [
       "array(['-1', '0', '1', '2', '3', '4'], dtype=object)"
      ]
     },
     "execution_count": 32,
     "metadata": {},
     "output_type": "execute_result"
    }
   ],
   "source": [
    "np.unique(\n",
    "    Comsegdict.global_anndata[\n",
    "        Comsegdict.global_anndata.obs.img_name == \"07_CtrlNI_Pdgfra-Cy3_Serpine1-Cy5_004\"].obs.leiden)"
   ]
  },
  {
   "cell_type": "code",
   "execution_count": null,
   "id": "2acabdfe",
   "metadata": {},
   "outputs": [],
   "source": [
    " \"07_CtrlNI_Pdgfra-Cy3_Serpine1-Cy5_004\"\n",
    "Comsegdict.global_anndata.obs[clustering_method].loc[self[img].community_anndata.obs.index].value"
   ]
  },
  {
   "cell_type": "code",
   "execution_count": null,
   "id": "14286db8",
   "metadata": {},
   "outputs": [],
   "source": []
  },
  {
   "cell_type": "code",
   "execution_count": 38,
   "id": "423d68fc",
   "metadata": {
    "scrolled": true
   },
   "outputs": [
    {
     "name": "stdout",
     "output_type": "stream",
     "text": [
      "07_CtrlNI_Pdgfra-Cy3_Serpine1-Cy5_004\n",
      "07_CtrlNI_Pdgfra-Cy3_Serpine1-Cy5_006\n"
     ]
    }
   ],
   "source": [
    "Comsegdict.global_anndata = insitu_clustering.anndata\n",
    "clustering_method = 'leiden'\n",
    "for img in Comsegdict:\n",
    "    if str(type(Comsegdict[img])) != \"<class 'comseg.model.ComSeg'>\":\n",
    "        continue\n",
    "    print(img)\n",
    "    ## get the cluster list and the community index\n",
    "\n",
    "    cluster_id_list = list(Comsegdict.global_anndata[\n",
    "        Comsegdict.global_anndata.obs.img_name == img].obs[clustering_method])\n",
    "    community_index_list = list(Comsegdict.global_anndata[Comsegdict.global_anndata.obs.img_name == img].obs.index_commu)\n",
    "\n",
    "    assert community_index_list == list(Comsegdict[img].community_anndata.obs['index_commu'])\n",
    "\n",
    "    Comsegdict[img].community_anndata.obs[clustering_method] = cluster_id_list\n",
    "    \n",
    "    "
   ]
  },
  {
   "cell_type": "code",
   "execution_count": 37,
   "id": "ae11fa29",
   "metadata": {},
   "outputs": [
    {
     "data": {
      "text/plain": [
       "View of AnnData object with n_obs × n_vars = 217 × 8\n",
       "    obs: 'list_coord', 'node_index', 'prior', 'index_commu', 'nb_rna', 'img_name', 'leiden'"
      ]
     },
     "execution_count": 37,
     "metadata": {},
     "output_type": "execute_result"
    }
   ],
   "source": [
    "Comsegdict.global_anndata[Comsegdict.global_anndata.obs.img_name == img]"
   ]
  },
  {
   "cell_type": "markdown",
   "id": "702e3ca4",
   "metadata": {},
   "source": [
    "## add centroid to model \n"
   ]
  },
  {
   "cell_type": "code",
   "execution_count": null,
   "id": "1003fe1e",
   "metadata": {},
   "outputs": [],
   "source": []
  },
  {
   "cell_type": "code",
   "execution_count": null,
   "id": "32516650",
   "metadata": {},
   "outputs": [],
   "source": []
  },
  {
   "cell_type": "code",
   "execution_count": null,
   "id": "922621ee",
   "metadata": {},
   "outputs": [],
   "source": []
  },
  {
   "cell_type": "code",
   "execution_count": null,
   "id": "4269a722",
   "metadata": {},
   "outputs": [],
   "source": []
  },
  {
   "cell_type": "markdown",
   "id": "7cd5d72d",
   "metadata": {},
   "source": [
    "## classify it \n",
    "## apply dikstra \n",
    "## "
   ]
  },
  {
   "cell_type": "code",
   "execution_count": null,
   "id": "1c9dc842",
   "metadata": {},
   "outputs": [],
   "source": []
  },
  {
   "cell_type": "code",
   "execution_count": null,
   "id": "6ee1c090",
   "metadata": {},
   "outputs": [],
   "source": [
    "scrna_unique_clusters"
   ]
  },
  {
   "cell_type": "code",
   "execution_count": null,
   "id": "15fb6762",
   "metadata": {},
   "outputs": [],
   "source": [
    "np.array(insitu_clustering.scrna_unique_clusters).astype(int)"
   ]
  },
  {
   "cell_type": "code",
   "execution_count": null,
   "id": "c3b37bc0",
   "metadata": {},
   "outputs": [],
   "source": [
    " insitu_clustering.scrna_centroids.shape"
   ]
  },
  {
   "cell_type": "code",
   "execution_count": null,
   "id": "59461229",
   "metadata": {},
   "outputs": [],
   "source": []
  }
 ],
 "metadata": {
  "kernelspec": {
   "display_name": "conseg_v0",
   "language": "python",
   "name": "conseg_v0"
  },
  "language_info": {
   "codemirror_mode": {
    "name": "ipython",
    "version": 3
   },
   "file_extension": ".py",
   "mimetype": "text/x-python",
   "name": "python",
   "nbconvert_exporter": "python",
   "pygments_lexer": "ipython3",
   "version": "3.8.8"
  }
 },
 "nbformat": 4,
 "nbformat_minor": 5
}
