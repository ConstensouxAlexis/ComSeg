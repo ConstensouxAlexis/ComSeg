{
 "cells": [
  {
   "cell_type": "code",
   "execution_count": null,
   "id": "042f5033",
   "metadata": {},
   "outputs": [],
   "source": []
  },
  {
   "cell_type": "code",
   "execution_count": 4,
   "id": "50247910",
   "metadata": {},
   "outputs": [],
   "source": [
    "import matplotlib\n",
    "matplotlib.use('Qt5Agg')\n",
    "import sys\n",
    "import numpy as np"
   ]
  },
  {
   "cell_type": "markdown",
   "id": "07fd93e0",
   "metadata": {},
   "source": [
    "## dataset"
   ]
  },
  {
   "cell_type": "code",
   "execution_count": 5,
   "id": "ca311d9f",
   "metadata": {},
   "outputs": [
    {
     "data": {
      "text/plain": [
       "['/snap/pycharm-professional/346/plugins/python/helpers/pydev',\n",
       " '/home/tom/Bureau/phd/simulation/ComSeg_pkg/code/',\n",
       " '/home/tom/Bureau/phd/simulation/ComSeg_pkg/code/',\n",
       " '/home/tom/Bureau/phd/simulation/ComSeg_pkg/code/',\n",
       " '/home/tom/Bureau/phd/simulation/ComSeg_pkg/code/',\n",
       " '/home/tom/Bureau/phd/simulation/ComSeg_pkg/code/',\n",
       " '/home/tom/Bureau/phd/simulation/ComSeg_pkg/code/',\n",
       " '/snap/pycharm-professional/346/plugins/python/helpers/third_party/thriftpy',\n",
       " '/snap/pycharm-professional/346/plugins/python/helpers/pydev',\n",
       " '/snap/pycharm-professional/346/plugins/python/helpers/pycharm_display',\n",
       " '/home/tom/anaconda3/envs/bigfish38_samm/lib/python38.zip',\n",
       " '/home/tom/anaconda3/envs/bigfish38_samm/lib/python3.8',\n",
       " '/home/tom/anaconda3/envs/bigfish38_samm/lib/python3.8/lib-dynload',\n",
       " '/home/tom/.local/lib/python3.8/site-packages',\n",
       " '/home/tom/anaconda3/envs/bigfish38_samm/lib/python3.8/site-packages',\n",
       " '/home/tom/Bureau/phd/simulation/sim-fish',\n",
       " '/home/tom/Bureau/phd/simulation/ssam-release',\n",
       " '/home/tom/pysmFISH',\n",
       " '/home/tom/anaconda3/envs/bigfish38_samm/lib/python3.8/site-packages/SimpleITK-2.0.0rc2.dev910+ga138e-py3.8-linux-x86_64.egg',\n",
       " '/snap/pycharm-professional/346/plugins/python/helpers/pycharm_matplotlib_backend',\n",
       " '/home/tom/anaconda3/envs/bigfish38_samm/lib/python3.8/site-packages/IPython/extensions',\n",
       " '/home/tom/Bureau/phd/simulation/ComSeg_pkg']"
      ]
     },
     "execution_count": 5,
     "metadata": {},
     "output_type": "execute_result"
    }
   ],
   "source": [
    "sys.path  \n",
    "sys.path = ['/snap/pycharm-professional/346/plugins/python/helpers/pydev',\n",
    " '/home/tom/Bureau/phd/simulation/ComSeg_pkg/code/',\n",
    " '/home/tom/Bureau/phd/simulation/ComSeg_pkg/code/',\n",
    " '/home/tom/Bureau/phd/simulation/ComSeg_pkg/code/',\n",
    " '/home/tom/Bureau/phd/simulation/ComSeg_pkg/code/',\n",
    " '/home/tom/Bureau/phd/simulation/ComSeg_pkg/code/',\n",
    " '/home/tom/Bureau/phd/simulation/ComSeg_pkg/code/',\n",
    " '/snap/pycharm-professional/346/plugins/python/helpers/third_party/thriftpy',\n",
    " '/snap/pycharm-professional/346/plugins/python/helpers/pydev',\n",
    " '/snap/pycharm-professional/346/plugins/python/helpers/pycharm_display',\n",
    " '/home/tom/anaconda3/envs/bigfish38_samm/lib/python38.zip',\n",
    " '/home/tom/anaconda3/envs/bigfish38_samm/lib/python3.8',\n",
    " '/home/tom/anaconda3/envs/bigfish38_samm/lib/python3.8/lib-dynload',\n",
    " '/home/tom/.local/lib/python3.8/site-packages',\n",
    " '/home/tom/anaconda3/envs/bigfish38_samm/lib/python3.8/site-packages',\n",
    " '/home/tom/Bureau/phd/simulation/sim-fish',\n",
    " '/home/tom/Bureau/phd/simulation/ssam-release',\n",
    " '/home/tom/pysmFISH',\n",
    " '/home/tom/anaconda3/envs/bigfish38_samm/lib/python3.8/site-packages/SimpleITK-2.0.0rc2.dev910+ga138e-py3.8-linux-x86_64.egg',\n",
    " '/snap/pycharm-professional/346/plugins/python/helpers/pycharm_matplotlib_backend',\n",
    " '/home/tom/anaconda3/envs/bigfish38_samm/lib/python3.8/site-packages/IPython/extensions',\n",
    " '/home/tom/Bureau/phd/simulation/ComSeg_pkg']\n",
    "sys.path"
   ]
  },
  {
   "cell_type": "markdown",
   "id": "7ec3f141",
   "metadata": {},
   "source": [
    "# dataset initialization"
   ]
  },
  {
   "cell_type": "code",
   "execution_count": 6,
   "id": "bb75451c",
   "metadata": {},
   "outputs": [
    {
     "data": {
      "text/plain": [
       "<module 'comseg.dataset' from '/home/tom/Bureau/phd/simulation/ComSeg_pkg/comseg/dataset.py'>"
      ]
     },
     "execution_count": 6,
     "metadata": {},
     "output_type": "execute_result"
    }
   ],
   "source": [
    "import comseg\n",
    "from comseg import dataset\n",
    "import importlib\n",
    "importlib.reload(dataset)"
   ]
  },
  {
   "cell_type": "code",
   "execution_count": 7,
   "id": "6bbc0e0f",
   "metadata": {},
   "outputs": [
    {
     "name": "stdout",
     "output_type": "stream",
     "text": [
      "add 07_CtrlNI_Pdgfra-Cy3_Serpine1-Cy5_004\n",
      "add 07_CtrlNI_Pdgfra-Cy3_Serpine1-Cy5_006\n",
      "add prior to 07_CtrlNI_Pdgfra-Cy3_Serpine1-Cy5_004\n",
      "add prior to 07_CtrlNI_Pdgfra-Cy3_Serpine1-Cy5_006\n"
     ]
    }
   ],
   "source": [
    "#selected_genes = ['Atp6v0d2', 'Abcg1','Rtkn2',  'Igfbp2','Sftpc','Cxcl15','Cd79a','Ms4a2', 'Fcer1a',\n",
    " #                    'Ccdc153','Scgb3a2', 'Scgb1a1', 'Cst3','Cdh5', 'Clec14a','Inmt', \n",
    "  #                   'Pcolce2','C1qc', 'C1qa', 'C1qb','Upk3b','Ifitm6','Plac8','Ms4a4b', 'Ccl5', 'Hcst',\n",
    "   #                  'Gzma', 'Ncr1','S100a9','Mmrn1', 'Acta2','Myh11', 'Cd3g', 'Cd3d']\n",
    "    \n",
    "\n",
    "selected_genes = ['Atp6v0d2', 'Abcg1','Rtkn2',  'Igfbp2','Cxcl15','Cd79a','Ms4a2', 'Fcer1a']\n",
    " #                    'Ccdc153','Scgb3a2', 'Scgb1a1', 'Cst3','Cdh5', 'Clec14a','Inmt', ]\n",
    "  #                   'Pcolce2','C1qc', 'C1qa', 'C1qb','Upk3b','Ifitm6','Plac8','Ms4a4b', 'Ccl5', 'Hcst',\n",
    "   #                  'Gzma', 'Ncr1','S100a9','Mmrn1', 'Acta2','Myh11', 'Cd3g', 'Cd3d']\n",
    "\n",
    "dataset = comseg.dataset.ComSegDataset(selected_genes = selected_genes,\n",
    "    path_dataset_folder = \"/media/tom/T7/simulation/test_set/small_df\",\n",
    "                path_to_mask_prior = \"/media/tom/T7/simulation/test_set/mask\")\n",
    "dataset.add_prior_from_mask()"
   ]
  },
  {
   "cell_type": "code",
   "execution_count": 8,
   "id": "24b89bec",
   "metadata": {
    "scrolled": true
   },
   "outputs": [
    {
     "name": "stdout",
     "output_type": "stream",
     "text": [
      "image name :  07_CtrlNI_Pdgfra-Cy3_Serpine1-Cy5_004\n",
      "8\n",
      "image name :  07_CtrlNI_Pdgfra-Cy3_Serpine1-Cy5_006\n",
      "8\n"
     ]
    },
    {
     "name": "stderr",
     "output_type": "stream",
     "text": [
      "  0%|                                                                                                                                                                                                                                                                                                                                                                                                                                                             | 0/8 [00:00<?, ?it/s]/home/tom/anaconda3/envs/bigfish38_samm/lib/python3.8/site-packages/scipy/stats/_stats_py.py:4068: PearsonRConstantInputWarning: An input array is constant; the correlation coefficient is not defined.\n",
      "  warnings.warn(PearsonRConstantInputWarning())\n",
      "100%|███████████████████████████████████████████████████████████████████████████████████████████████████████████████████████████████████████████████████████████████████████████████████████████████████████████████████████████████████████████████████████████████████████████████████████████████████████████████████████████████████████████████████████████████████████████████████████████████████████████████████████████████████████████████████| 8/8 [00:00<00:00, 2117.80it/s]\n"
     ]
    },
    {
     "data": {
      "text/plain": [
       "({'Atp6v0d2': {'Atp6v0d2': 0.9999999999999997,\n",
       "   'Abcg1': 0.15164403520356773,\n",
       "   'Rtkn2': -1,\n",
       "   'Igfbp2': -0.01612556734139533,\n",
       "   'Cxcl15': -0.2659602854445551,\n",
       "   'Cd79a': -0.07055864924649877,\n",
       "   'Ms4a2': -0.011812089612327758,\n",
       "   'Fcer1a': -1},\n",
       "  'Abcg1': {'Atp6v0d2': 0.15164403520356773,\n",
       "   'Abcg1': 1.0,\n",
       "   'Rtkn2': -1,\n",
       "   'Igfbp2': -0.020588466983030882,\n",
       "   'Cxcl15': -0.32797896636884044,\n",
       "   'Cd79a': -0.08713270181960298,\n",
       "   'Ms4a2': -0.01508119446809924,\n",
       "   'Fcer1a': -1},\n",
       "  'Rtkn2': {'Atp6v0d2': -1,\n",
       "   'Abcg1': -1,\n",
       "   'Rtkn2': -1,\n",
       "   'Igfbp2': -1,\n",
       "   'Cxcl15': -1,\n",
       "   'Cd79a': -1,\n",
       "   'Ms4a2': -1,\n",
       "   'Fcer1a': -1},\n",
       "  'Igfbp2': {'Atp6v0d2': -0.01612556734139533,\n",
       "   'Abcg1': -0.020588466983030882,\n",
       "   'Rtkn2': -1,\n",
       "   'Igfbp2': 0.9999999999999863,\n",
       "   'Cxcl15': -0.08055884477810255,\n",
       "   'Cd79a': -0.023459531667047624,\n",
       "   'Ms4a2': -0.003577858596421585,\n",
       "   'Fcer1a': -1},\n",
       "  'Cxcl15': {'Atp6v0d2': -0.2659602854445551,\n",
       "   'Abcg1': -0.32797896636884044,\n",
       "   'Rtkn2': -1,\n",
       "   'Igfbp2': -0.08055884477810255,\n",
       "   'Cxcl15': 1.0,\n",
       "   'Cd79a': -0.3787743195478278,\n",
       "   'Ms4a2': -0.05900991099654595,\n",
       "   'Fcer1a': -1},\n",
       "  'Cd79a': {'Atp6v0d2': -0.07055864924649877,\n",
       "   'Abcg1': -0.08713270181960298,\n",
       "   'Rtkn2': -1,\n",
       "   'Igfbp2': -0.023459531667047624,\n",
       "   'Cxcl15': -0.3787743195478278,\n",
       "   'Cd79a': 0.9999999999999966,\n",
       "   'Ms4a2': -0.01718426920726439,\n",
       "   'Fcer1a': -1},\n",
       "  'Ms4a2': {'Atp6v0d2': -0.011812089612327758,\n",
       "   'Abcg1': -0.01508119446809924,\n",
       "   'Rtkn2': -1,\n",
       "   'Igfbp2': -0.003577858596421585,\n",
       "   'Cxcl15': -0.05900991099654595,\n",
       "   'Cd79a': -0.01718426920726439,\n",
       "   'Ms4a2': 1.0,\n",
       "   'Fcer1a': -1},\n",
       "  'Fcer1a': {'Atp6v0d2': -1,\n",
       "   'Abcg1': -1,\n",
       "   'Rtkn2': -1,\n",
       "   'Igfbp2': -1,\n",
       "   'Cxcl15': -1,\n",
       "   'Cd79a': -1,\n",
       "   'Ms4a2': -1,\n",
       "   'Fcer1a': -1}},\n",
       " array([[0., 0., 0., ..., 0., 0., 0.],\n",
       "        [0., 0., 0., ..., 0., 0., 0.],\n",
       "        [0., 0., 0., ..., 0., 0., 0.],\n",
       "        ...,\n",
       "        [0., 1., 0., ..., 0., 0., 0.],\n",
       "        [0., 1., 0., ..., 0., 0., 0.],\n",
       "        [0., 1., 0., ..., 0., 0., 0.]]))"
      ]
     },
     "execution_count": 8,
     "metadata": {},
     "output_type": "execute_result"
    }
   ],
   "source": [
    "\n",
    "dataset.compute_in_situ_edge(dico_scale={\"x\": 0.103, 'y': 0.103, \"z\": 0.3},  # in micrometer\n",
    "        images_subset = None,\n",
    "        mode=\"nearest_nn_radius\",\n",
    "        n_neighbors=25,\n",
    "        radius=1,  # in micormeter\n",
    "        distance=\"pearson\",\n",
    "        per_images=False,\n",
    "        sampling=False,\n",
    "        sampling_size=100000)"
   ]
  },
  {
   "cell_type": "code",
   "execution_count": 9,
   "id": "5ae8d030",
   "metadata": {
    "scrolled": false
   },
   "outputs": [
    {
     "data": {
      "text/plain": [
       "array([  0,   1,   2,   3,   4,  13,  15,  17,  22,  25,  38,  40,  42,\n",
       "        44,  46,  48,  49,  56,  58,  63,  64,  66,  67,  70,  71,  74,\n",
       "        76,  80,  81,  83,  84,  91,  95, 105, 107, 111, 114])"
      ]
     },
     "execution_count": 9,
     "metadata": {},
     "output_type": "execute_result"
    }
   ],
   "source": [
    "np.unique(dataset[1].prior)"
   ]
  },
  {
   "cell_type": "code",
   "execution_count": 10,
   "id": "9a8cab5f",
   "metadata": {
    "scrolled": true
   },
   "outputs": [
    {
     "name": "stdout",
     "output_type": "stream",
     "text": [
      "07_CtrlNI_Pdgfra-Cy3_Serpine1-Cy5_004\n",
      "07_CtrlNI_Pdgfra-Cy3_Serpine1-Cy5_006\n"
     ]
    }
   ],
   "source": [
    "for i in dataset:\n",
    "    print(i)"
   ]
  },
  {
   "cell_type": "code",
   "execution_count": 11,
   "id": "e24c563c",
   "metadata": {},
   "outputs": [],
   "source": [
    "import comseg\n",
    "\n",
    "from comseg import model\n",
    "import importlib\n",
    "importlib.reload(comseg)\n",
    "importlib.reload(model)\n",
    "\n",
    "from comseg import model\n"
   ]
  },
  {
   "cell_type": "code",
   "execution_count": 12,
   "id": "42eeefe9",
   "metadata": {
    "scrolled": true
   },
   "outputs": [
    {
     "name": "stdout",
     "output_type": "stream",
     "text": [
      "computing knn\n",
      "adding edges\n"
     ]
    },
    {
     "name": "stderr",
     "output_type": "stream",
     "text": [
      "100%|██████████████████████████████████████████████████████████████████████████████████████████████████████████████████████████████████████████████████████████████████████████████████████████████████████████████████████████████████████████████████████████████████████████████████████████████████████████████████████████████████████████████████████████████████████████████████████████████████████████████████████████████████████████| 84684/84684 [00:01<00:00, 68944.85it/s]\n"
     ]
    },
    {
     "name": "stdout",
     "output_type": "stream",
     "text": [
      "creation of  super node with prior\n",
      "1\n",
      "2649\n",
      "479\n",
      "205\n",
      "90\n",
      "39\n",
      "25\n",
      "8\n",
      "11\n",
      "3\n",
      "3\n",
      "8\n",
      "\n",
      "problem of convergence to check in my method\n",
      "\n",
      "True\n",
      "320\n",
      "1\n",
      "89\n",
      "11\n",
      "231\n",
      "1\n",
      "12\n",
      "1\n",
      "219\n",
      "1\n",
      "219\n"
     ]
    },
    {
     "name": "stderr",
     "output_type": "stream",
     "text": [
      "100%|██████████████████████████████████████████████████████████████████████████████████████████████████████████████████████████████████████████████████████████████████████████████████████████████████████████████████████████████████████████████████████████████████████████████████████████████████████████████████████████████████████████████████████████████████████████████████████████████████████████████████████████████████████████████| 219/219 [00:00<00:00, 15222.95it/s]\n",
      "100%|████████████████████████████████████████████████████████████████████████████████████████████████████████████████████████████████████████████████████████████████████████████████████████████████████████████████████████████████████████████████████████████████████████████████████████████████████████████████████████████████████████████████████████████████████████████████████████████████████████████████████████████████████████████| 3346/3346 [00:00<00:00, 10516.14it/s]\n"
     ]
    },
    {
     "name": "stdout",
     "output_type": "stream",
     "text": [
      "computing knn\n",
      "adding edges\n"
     ]
    },
    {
     "name": "stderr",
     "output_type": "stream",
     "text": [
      "100%|██████████████████████████████████████████████████████████████████████████████████████████████████████████████████████████████████████████████████████████████████████████████████████████████████████████████████████████████████████████████████████████████████████████████████████████████████████████████████████████████████████████████████████████████████████████████████████████████████████████████████████████████████████████| 76822/76822 [00:01<00:00, 69489.23it/s]\n"
     ]
    },
    {
     "name": "stdout",
     "output_type": "stream",
     "text": [
      "creation of  super node with prior\n",
      "1\n",
      "2369\n",
      "421\n",
      "164\n",
      "73\n",
      "57\n",
      "18\n",
      "6\n",
      "11\n",
      "23\n",
      "\n",
      "problem of convergence to check in my method\n",
      "\n",
      "True\n",
      "293\n",
      "1\n",
      "84\n",
      "16\n",
      "209\n",
      "1\n",
      "15\n",
      "2\n",
      "194\n",
      "1\n",
      "3\n",
      "191\n",
      "1\n",
      "191\n"
     ]
    },
    {
     "name": "stderr",
     "output_type": "stream",
     "text": [
      "100%|██████████████████████████████████████████████████████████████████████████████████████████████████████████████████████████████████████████████████████████████████████████████████████████████████████████████████████████████████████████████████████████████████████████████████████████████████████████████████████████████████████████████████████████████████████████████████████████████████████████████████████████████████████████████| 191/191 [00:00<00:00, 15042.10it/s]\n",
      "100%|████████████████████████████████████████████████████████████████████████████████████████████████████████████████████████████████████████████████████████████████████████████████████████████████████████████████████████████████████████████████████████████████████████████████████████████████████████████████████████████████████████████████████████████████████████████████████████████████████████████████████████████████████████████| 3086/3086 [00:00<00:00, 10882.89it/s]\n"
     ]
    }
   ],
   "source": [
    "\n",
    "dict_anndata_img = {}\n",
    "for img_name  in dataset:\n",
    "    comseg_m = model.ComSeg(selected_genes = dataset.selected_genes,\n",
    "        df_spots_label = dataset[img_name],\n",
    "                 dict_scale={\"x\": 0.103, 'y': 0.103, \"z\": 0.3})\n",
    "    comseg_m.create_graph(dict_co_expression=dataset.dict_co_expression ,\n",
    "                         )\n",
    "    comseg_m.community_vector(\n",
    "                             clustering_method=\"louvain_with_prior\",\n",
    "                             weights_name=\"weight\",\n",
    "\n",
    "                             prior_keys=\"prior\",\n",
    "                             seed=None,\n",
    "                             super_node_prior_keys=\"prior\",\n",
    "                             confidence_level=1,\n",
    "                             # param for multigrpah leiden\n",
    "                             )\n",
    "    comseg_m.community_anndata.obs[\"img_name\"]  = img_name\n",
    "    dict_anndata_img[img_name] = comseg_m.community_anndata"
   ]
  },
  {
   "cell_type": "code",
   "execution_count": null,
   "id": "9979f1df",
   "metadata": {
    "scrolled": true
   },
   "outputs": [],
   "source": []
  },
  {
   "cell_type": "code",
   "execution_count": 13,
   "id": "02859299",
   "metadata": {
    "scrolled": true
   },
   "outputs": [
    {
     "name": "stderr",
     "output_type": "stream",
     "text": [
      "Observation names are not unique. To make them unique, call `.obs_names_make_unique`.\n"
     ]
    },
    {
     "data": {
      "text/plain": [
       "<410x8 sparse matrix of type '<class 'numpy.float32'>'\n",
       "\twith 916 stored elements in Compressed Sparse Row format>"
      ]
     },
     "execution_count": 13,
     "metadata": {},
     "output_type": "execute_result"
    }
   ],
   "source": [
    "import anndata as ad \n",
    "ad.concat([ dict_anndata_img[img_name] for img_name in dict_anndata_img], merge=\"same\").X\n"
   ]
  },
  {
   "cell_type": "code",
   "execution_count": null,
   "id": "31e17824",
   "metadata": {},
   "outputs": [],
   "source": []
  },
  {
   "cell_type": "code",
   "execution_count": 56,
   "id": "b0ab426e",
   "metadata": {},
   "outputs": [
    {
     "data": {
      "text/plain": [
       "<191x8 sparse matrix of type '<class 'numpy.float32'>'\n",
       "\twith 356 stored elements in Compressed Sparse Row format>"
      ]
     },
     "execution_count": 56,
     "metadata": {},
     "output_type": "execute_result"
    }
   ],
   "source": [
    "comseg_m.community_anndata.X[[True] *191 ,:]\n"
   ]
  },
  {
   "cell_type": "code",
   "execution_count": 15,
   "id": "714f9870",
   "metadata": {},
   "outputs": [
    {
     "data": {
      "text/plain": [
       "array([  0,   1,   2,   5,   6,   7,   8,   9,  10,  11,  12,  13,  14,\n",
       "        15,  16,  17,  18,  19,  20,  21,  22,  23,  24,  25,  26,  27,\n",
       "        28,  29,  30,  32,  33,  34,  35,  36,  38,  39,  40,  41,  42,\n",
       "        43,  44,  45,  46,  47,  48,  49,  50,  51,  52,  53,  54,  55,\n",
       "        56,  57,  58,  59,  60,  61,  62,  63,  64,  65,  66,  67,  68,\n",
       "        69,  70,  71,  72,  73,  74,  75,  76,  77,  78,  79,  80,  81,\n",
       "        82,  83,  84,  85,  86,  87,  88,  89,  90,  91,  92,  93,  94,\n",
       "        95,  96,  97,  98,  99, 100, 101, 102, 103, 104, 105, 106, 107,\n",
       "       108, 109, 110, 111, 112, 113, 114, 115, 116, 117, 118, 119, 120,\n",
       "       121, 122, 123, 124, 125, 126, 127, 128, 129, 130, 131, 132, 133,\n",
       "       134, 135, 136, 137, 138, 139, 140, 141, 142, 143, 144, 145, 146,\n",
       "       147, 148, 149, 151, 152, 154, 155, 156, 157, 158, 159, 160, 161,\n",
       "       162, 163, 164, 165, 166, 167, 168, 169, 170, 171, 172, 173, 174,\n",
       "       175, 176, 177, 178, 179, 180, 181, 182, 183, 184, 185, 186, 188,\n",
       "       189, 190])"
      ]
     },
     "execution_count": 15,
     "metadata": {},
     "output_type": "execute_result"
    }
   ],
   "source": [
    "np.nonzero(np.sum(comseg_m.community_anndata.X[: ,[True] *8 ], axis=1) > 0)[0]"
   ]
  },
  {
   "cell_type": "code",
   "execution_count": 42,
   "id": "2ef96fc8",
   "metadata": {},
   "outputs": [
    {
     "data": {
      "text/plain": [
       "192"
      ]
     },
     "execution_count": 42,
     "metadata": {},
     "output_type": "execute_result"
    }
   ],
   "source": [
    "len(comseg_m.community_anndata)"
   ]
  },
  {
   "cell_type": "code",
   "execution_count": null,
   "id": "96e0943f",
   "metadata": {},
   "outputs": [],
   "source": []
  },
  {
   "cell_type": "code",
   "execution_count": 54,
   "id": "1b66fddd",
   "metadata": {},
   "outputs": [
    {
     "data": {
      "text/plain": [
       "array([[0.        , 1.1297495 , 0.        , 0.        , 0.        ,\n",
       "        0.05540636, 0.        , 0.        ]], dtype=float32)"
      ]
     },
     "execution_count": 54,
     "metadata": {},
     "output_type": "execute_result"
    }
   ],
   "source": [
    "anndata.X[0].toarray()"
   ]
  },
  {
   "cell_type": "code",
   "execution_count": 55,
   "id": "2189ac3e",
   "metadata": {},
   "outputs": [
    {
     "data": {
      "text/plain": [
       "array([[0., 0., 0., ..., 0., 0., 0.],\n",
       "       [0., 0., 0., ..., 0., 0., 0.],\n",
       "       [0., 0., 0., ..., 0., 0., 0.],\n",
       "       ...,\n",
       "       [0., 0., 0., ..., 0., 0., 0.],\n",
       "       [0., 0., 0., ..., 0., 0., 0.],\n",
       "       [0., 0., 0., ..., 0., 0., 0.]])"
      ]
     },
     "execution_count": 55,
     "metadata": {},
     "output_type": "execute_result"
    }
   ],
   "source": [
    "np.zeros(comseg_m.community_anndata.X.shape)"
   ]
  },
  {
   "cell_type": "code",
   "execution_count": 74,
   "id": "25c22e42",
   "metadata": {
    "scrolled": false
   },
   "outputs": [],
   "source": [
    "import comseg\n",
    "\n",
    "from comseg import clustering\n",
    "import importlib\n",
    "importlib.reload(comseg)\n",
    "importlib.reload(clustering)\n",
    "from comseg import clustering\n",
    "\n",
    "\n"
   ]
  },
  {
   "cell_type": "code",
   "execution_count": 75,
   "id": "5fbd2c8e",
   "metadata": {},
   "outputs": [
    {
     "name": "stderr",
     "output_type": "stream",
     "text": [
      "Observation names are not unique. To make them unique, call `.obs_names_make_unique`.\n"
     ]
    }
   ],
   "source": [
    "insitu_clustering  = clustering.InSituClustering(dict_anndata_img = dict_anndata_img,\n",
    "                                                 selected_genes = dataset.selected_genes)"
   ]
  },
  {
   "cell_type": "code",
   "execution_count": 76,
   "id": "d036e8d7",
   "metadata": {
    "scrolled": false
   },
   "outputs": [
    {
     "name": "stdout",
     "output_type": "stream",
     "text": [
      "shape count matrix (401, 6)\n",
      "Index(['0', '1', '2', '3', '4', '5'], dtype='object')\n",
      "Writing temporary files...\n",
      "Running scTransform via Rscript...\n",
      "Reading output files...\n",
      "Clipping residuals...\n"
     ]
    }
   ],
   "source": [
    "norm_expression_vectors, param_sctransform = insitu_clustering.compute_normalization_parameters( )"
   ]
  },
  {
   "cell_type": "code",
   "execution_count": 67,
   "id": "7df358ad",
   "metadata": {},
   "outputs": [
    {
     "data": {
      "text/plain": [
       "array([ True,  True,  True,  True,  True,  True,  True,  True,  True,\n",
       "        True,  True,  True,  True,  True,  True,  True,  True,  True,\n",
       "        True,  True,  True,  True,  True,  True,  True,  True,  True,\n",
       "        True,  True,  True,  True,  True,  True,  True,  True,  True,\n",
       "        True,  True,  True,  True,  True,  True,  True,  True,  True,\n",
       "        True,  True,  True,  True,  True,  True,  True,  True,  True,\n",
       "        True,  True,  True,  True,  True,  True,  True,  True,  True,\n",
       "        True,  True,  True,  True,  True,  True,  True,  True,  True,\n",
       "        True,  True,  True,  True,  True,  True,  True,  True,  True,\n",
       "        True,  True,  True,  True,  True,  True,  True,  True,  True,\n",
       "        True,  True,  True,  True,  True,  True,  True,  True,  True,\n",
       "        True,  True,  True,  True,  True,  True,  True,  True,  True,\n",
       "        True,  True,  True,  True,  True,  True,  True,  True,  True,\n",
       "        True,  True,  True,  True,  True,  True,  True,  True,  True,\n",
       "        True,  True,  True,  True,  True,  True,  True,  True,  True,\n",
       "        True,  True,  True,  True,  True,  True,  True,  True,  True,\n",
       "        True,  True,  True,  True,  True,  True,  True,  True,  True,\n",
       "        True,  True,  True,  True,  True,  True,  True,  True,  True,\n",
       "        True,  True,  True,  True,  True,  True,  True,  True,  True,\n",
       "        True,  True,  True,  True,  True,  True,  True,  True,  True,\n",
       "        True,  True,  True,  True,  True,  True,  True,  True,  True,\n",
       "        True,  True])"
      ]
     },
     "execution_count": 67,
     "metadata": {},
     "output_type": "execute_result"
    }
   ],
   "source": [
    "np.array(comseg_m.community_anndata.obs['nb_rna'] > 0)"
   ]
  },
  {
   "cell_type": "code",
   "execution_count": 83,
   "id": "7d0e9efd",
   "metadata": {
    "scrolled": true
   },
   "outputs": [
    {
     "data": {
      "text/plain": [
       "View of AnnData object with n_obs × n_vars = 75 × 8\n",
       "    obs: 'list_coord', 'node_index', 'prior', 'index_commu', 'nb_rna', 'img_name'\n",
       "    var: 'features'"
      ]
     },
     "execution_count": 83,
     "metadata": {},
     "output_type": "execute_result"
    }
   ],
   "source": [
    "bool_index  = np.array(insitu_clustering.anndata.obs['nb_rna']) > 3\n",
    "insitu_clustering.anndata[bool_index, :]"
   ]
  },
  {
   "cell_type": "code",
   "execution_count": 87,
   "id": "a3779333",
   "metadata": {},
   "outputs": [
    {
     "data": {
      "text/plain": [
       "array([[0.0000000e+00, 1.1297495e+00, 0.0000000e+00, ..., 5.5406358e-02,\n",
       "        0.0000000e+00, 0.0000000e+00],\n",
       "       [0.0000000e+00, 4.5577738e-01, 0.0000000e+00, ..., 5.0105676e-08,\n",
       "        0.0000000e+00, 0.0000000e+00],\n",
       "       [0.0000000e+00, 2.6442729e-06, 0.0000000e+00, ..., 6.4084427e-03,\n",
       "        0.0000000e+00, 0.0000000e+00],\n",
       "       ...,\n",
       "       [0.0000000e+00, 0.0000000e+00, 0.0000000e+00, ..., 1.5218295e-02,\n",
       "        0.0000000e+00, 0.0000000e+00],\n",
       "       [0.0000000e+00, 0.0000000e+00, 0.0000000e+00, ..., 0.0000000e+00,\n",
       "        0.0000000e+00, 0.0000000e+00],\n",
       "       [0.0000000e+00, 0.0000000e+00, 0.0000000e+00, ..., 1.6646077e-04,\n",
       "        0.0000000e+00, 0.0000000e+00]], dtype=float32)"
      ]
     },
     "execution_count": 87,
     "metadata": {},
     "output_type": "execute_result"
    }
   ],
   "source": [
    "insitu_clustering.anndata.X.toarray()"
   ]
  },
  {
   "cell_type": "code",
   "execution_count": null,
   "id": "5e9f3a7b",
   "metadata": {},
   "outputs": [],
   "source": []
  }
 ],
 "metadata": {
  "kernelspec": {
   "display_name": "bigfish38_samm",
   "language": "python",
   "name": "bigfish38_samm"
  },
  "language_info": {
   "codemirror_mode": {
    "name": "ipython",
    "version": 3
   },
   "file_extension": ".py",
   "mimetype": "text/x-python",
   "name": "python",
   "nbconvert_exporter": "python",
   "pygments_lexer": "ipython3",
   "version": "3.8.8"
  }
 },
 "nbformat": 4,
 "nbformat_minor": 5
}
