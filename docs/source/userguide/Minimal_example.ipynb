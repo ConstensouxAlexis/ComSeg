{
 "cells": [
  {
   "cell_type": "code",
   "execution_count": null,
   "id": "14763c6e",
   "metadata": {},
   "outputs": [],
   "source": []
  },
  {
   "cell_type": "code",
   "execution_count": null,
   "id": "91831806",
   "metadata": {},
   "outputs": [],
   "source": [
    "import pandas as pd\n",
    "import matplotlib\n",
    "import comseg\n",
    "import numpy as np\n",
    "import random\n",
    "import tifffile\n",
    "import importlib\n",
    "from comseg import dataset as ds\n",
    "import scanpy\n",
    "%matplotlib inline\n",
    "import importlib"
   ]
  },
  {
   "cell_type": "code",
   "execution_count": null,
   "id": "44863e89",
   "metadata": {},
   "outputs": [],
   "source": [
    "config = {} "
   ]
  },
  {
   "cell_type": "code",
   "execution_count": null,
   "id": "a80637a0",
   "metadata": {},
   "outputs": [],
   "source": [
    "\n",
    "path_dataset_folder = Path(temp_dir) / str(patch_index)\n",
    "\n",
    "dataset = ds.ComSegDataset(\n",
    "    path_dataset_folder=path_dataset_folder,\n",
    "    dict_scale=config[\"dict_scale\"],\n",
    "    mean_cell_diameter=config[\"mean_cell_diameter\"],\n",
    "    gene_column=config[\"gene_column\"],\n",
    "    image_csv_files=[\"transcripts.csv\"],\n",
    "    centroid_csv_files=[\"centroids.csv\"],\n",
    "    path_cell_centroid=path_dataset_folder,\n",
    ")\n",
    "\n",
    "dataset.compute_edge_weight()\n",
    "\n",
    "Comsegdict = dictionary.ComSegDict(\n",
    "    dataset=dataset,\n",
    "    mean_cell_diameter=config[\"mean_cell_diameter\"],\n",
    "    prior_name=SopaKeys.DEFAULT_CELL_KEY,\n",
    ")\n",
    "\n",
    "Comsegdict.run_all(max_cell_radius=config[\"max_cell_radius\"])\n",
    "\n",
    "anndata_comseg, json_dict = Comsegdict.anndata_from_comseg_result(\n",
    "    return_polygon=True, alpha=config[\"alpha\"], min_rna_per_cell=config[\"min_rna_per_cell\"]\n",
    ")"
   ]
  }
 ],
 "metadata": {
  "kernelspec": {
   "display_name": "sopa",
   "language": "python",
   "name": "sopa"
  },
  "language_info": {
   "codemirror_mode": {
    "name": "ipython",
    "version": 3
   },
   "file_extension": ".py",
   "mimetype": "text/x-python",
   "name": "python",
   "nbconvert_exporter": "python",
   "pygments_lexer": "ipython3",
   "version": "3.10.14"
  }
 },
 "nbformat": 4,
 "nbformat_minor": 5
}
