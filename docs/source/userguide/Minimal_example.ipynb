{
 "cells": [
  {
   "cell_type": "code",
   "execution_count": null,
   "id": "472d75fd",
   "metadata": {},
   "outputs": [],
   "source": []
  },
  {
   "cell_type": "code",
   "execution_count": 10,
   "id": "1d58d176",
   "metadata": {},
   "outputs": [],
   "source": [
    "import pandas as pd\n",
    "import matplotlib\n",
    "import comseg\n",
    "import numpy as np\n",
    "import random\n",
    "import tifffile\n",
    "import importlib\n",
    "from comseg import dataset as ds\n",
    "import scanpy\n",
    "%matplotlib inline\n",
    "import importlib\n",
    "from pathlib import Path"
   ]
  },
  {
   "cell_type": "code",
   "execution_count": 11,
   "id": "3d4fada0",
   "metadata": {},
   "outputs": [],
   "source": [
    "#### HYPERPARAMETER ####\n",
    "MEAN_CELL_DIAMETER = 15  # in micrometer\n",
    "MAX_CELL_RADIUS = 50  # in micrometer\n",
    "#########################\n",
    "\n",
    "## here we present an extensive example of how to run ComSeg with \n",
    "\n",
    "\n",
    "          \n",
    "config = {\n",
    "    ### dataset initialisation\n",
    "    \"path_dataset_folder\" : \"/home/tom/Bureau/test_set_tutorial_comseg/small_df\",\n",
    "    \"dict_scale\" : {\"x\": 0.103, 'y': 0.103, \"z\": 0.3},\n",
    "    \"mean_cell_diameter\" : MEAN_CELL_DIAMETER,\n",
    "    \"gene_column\" : \"gene\",\n",
    "    \"path_to_mask_prior\" : \"/home/tom/Bureau/test_set_tutorial_comseg/mask\",\n",
    "    ### CO-EXPRESSION COMPUTATION\n",
    "    \"n_neighbors\" : 40,\n",
    "    \"sampling\" : True,\n",
    "    \"sampling_size\": 10000,    \n",
    "    ### KNN GRPAH \n",
    "    'k_nearest_neighbors': 10,\n",
    "    'prior' : 'in_nucleus',\n",
    "    ### IN SITU CLUSTERING\n",
    "    'size_commu_min': 3,\n",
    "    'norm_vector': True,\n",
    "    'n_pcs': 4,\n",
    "    'clustering_method': 'leiden',\n",
    "    'n_neighbors': 20,\n",
    "    'resolution': 1,\n",
    "    'n_clusters_kmeans': 5,\n",
    "    'nb_min_cluster': 1,\n",
    "    'min_merge_correlation': 0.9,\n",
    "    # RNA ASSIGMENT\n",
    "    \"max_cell_radius\": MAX_CELL_RADIUS,\n",
    "    ### final result \n",
    "    \"alpha\" :  0.5,\n",
    "    \"min_rna_per_cell\" : 5,\n",
    "    }"
   ]
  },
  {
   "cell_type": "markdown",
   "id": "e120ebc8",
   "metadata": {},
   "source": [
    "        :param k_nearest_neighbors: number of nearest neighbors to consider for the KNN graph creation, reduce K to speed computation\n",
    "        :type k_nearest_neighbors: int\n",
    "        :param max_cell_radius: maximum distance between a cell centroid and an RNA to be associated\n",
    "        :type max_cell_radius: float\n",
    "        :param size_commu_min: minimum number of RNA in a community to be considered for the clustering (default 3)\n",
    "        :type size_commu_min: int\n",
    "        :param norm_vector: if True, the expression vector will be normalized using the scTRANSFORM normalization parameters, the normaliztion requires the following R package : sctransform, feather, arrow\n",
    "        The normalization is important to do on dataset with a high number of gene.\n",
    "        :type norm_vector: bool\n",
    "        :param n_pcs: number of principal component to compute for the clustering of the RNA communities expression vector; Lets 0 if no pca\n",
    "        :type n_pcs: int\n",
    "        :param clustering_method: choose in [\"leiden\", \"kmeans\", \"louvain\"]\n",
    "        :type clustering_method: str\n",
    "        :param n_neighbors: number of neighbors similarity graph of the RNA communities expression vector clustering\n",
    "        :type n_neighbors: int\n",
    "        :param resolution:  resolution paramter  for the in-situ-clustering step if louvain or leiden are used\n",
    "        :type resolution: float\n",
    "        :param n_clusters_kmeans: number of cluster for the kmeans clustering for ```clustering_method```= \"kmeans\"\n",
    "        :type n_clusters_kmeans: int\n",
    "        :param nb_min_cluster: minimum number of cluster to keep after the merge of the cluster\n",
    "        :type nb_min_cluster: int\n",
    "        :param min_merge_correlation: minimum correlation to merge cluster in the in situ clustering\n",
    "        :type min_merge_correlation: float\n",
    "        :param path_dataset_folder_centroid: path to the folder containing the centroid in a csv or dictionary {cell : {z:,y:,x:}} for each image, use the same scale than then input csv\n",
    "        :type path_dataset_folder_centroid: str\n",
    "        :param file_extension: file extension of the centroid dictionary (.npy) or csv file (.csv)\n",
    "        :type file_extension: str\n",
    "        :return:\n"
   ]
  },
  {
   "cell_type": "code",
   "execution_count": 14,
   "id": "65454a2a",
   "metadata": {},
   "outputs": [
    {
     "name": "stdout",
     "output_type": "stream",
     "text": [
      "add 07_CtrlNI_Pdgfra-Cy3_Serpine1-Cy5_006\n",
      "add 07_CtrlNI_Pdgfra-Cy3_Serpine1-Cy5_004\n",
      "add prior to 07_CtrlNI_Pdgfra-Cy3_Serpine1-Cy5_006\n",
      "prior added to 07_CtrlNI_Pdgfra-Cy3_Serpine1-Cy5_006 and saved in csv file\n",
      "dict_centroid added for 07_CtrlNI_Pdgfra-Cy3_Serpine1-Cy5_006 \n",
      "add prior to 07_CtrlNI_Pdgfra-Cy3_Serpine1-Cy5_004\n",
      "prior added to 07_CtrlNI_Pdgfra-Cy3_Serpine1-Cy5_004 and saved in csv file\n",
      "dict_centroid added for 07_CtrlNI_Pdgfra-Cy3_Serpine1-Cy5_004 \n"
     ]
    },
    {
     "name": "stderr",
     "output_type": "stream",
     "text": [
      "\r",
      "  0%|                                                                                                                                                                                                             | 0/2 [00:00<?, ?it/s]"
     ]
    },
    {
     "name": "stdout",
     "output_type": "stream",
     "text": [
      "image name :  07_CtrlNI_Pdgfra-Cy3_Serpine1-Cy5_006\n"
     ]
    },
    {
     "name": "stderr",
     "output_type": "stream",
     "text": [
      "\r",
      " 50%|██████████████████████████████████████████████████████████████████████████████████████████████████▌                                                                                                  | 1/2 [00:04<00:04,  4.26s/it]"
     ]
    },
    {
     "name": "stdout",
     "output_type": "stream",
     "text": [
      "image name :  07_CtrlNI_Pdgfra-Cy3_Serpine1-Cy5_004\n"
     ]
    },
    {
     "name": "stderr",
     "output_type": "stream",
     "text": [
      "100%|█████████████████████████████████████████████████████████████████████████████████████████████████████████████████████████████████████████████████████████████████████████████████████████████████████| 2/2 [00:08<00:00,  4.47s/it]\n"
     ]
    },
    {
     "name": "stdout",
     "output_type": "stream",
     "text": [
      "count_matrix.shape (10002, 13)\n",
      "sampling True vectors\n",
      "count_matrix.shape (10000, 13)\n"
     ]
    },
    {
     "name": "stderr",
     "output_type": "stream",
     "text": [
      "100%|██████████████████████████████████████████████████████████████████████████████████████████████████████████████████████████████████████████████████████████████████████████████████████████████████| 13/13 [00:00<00:00, 161.34it/s]\n"
     ]
    },
    {
     "ename": "NameError",
     "evalue": "name 'dictionary' is not defined",
     "output_type": "error",
     "traceback": [
      "\u001b[0;31m---------------------------------------------------------------------------\u001b[0m",
      "\u001b[0;31mNameError\u001b[0m                                 Traceback (most recent call last)",
      "Cell \u001b[0;32mIn[14], line 16\u001b[0m\n\u001b[1;32m     10\u001b[0m dataset\u001b[38;5;241m.\u001b[39madd_prior_from_mask(prior_keys_name \u001b[38;5;241m=\u001b[39m \u001b[38;5;124m'\u001b[39m\u001b[38;5;124min_nucleus\u001b[39m\u001b[38;5;124m'\u001b[39m, \n\u001b[1;32m     11\u001b[0m                             overwrite \u001b[38;5;241m=\u001b[39m \u001b[38;5;28;01mTrue\u001b[39;00m,\n\u001b[1;32m     12\u001b[0m                             compute_centroid \u001b[38;5;241m=\u001b[39m \u001b[38;5;28;01mTrue\u001b[39;00m \u001b[38;5;66;03m# compute cell centroid \u001b[39;00m\n\u001b[1;32m     13\u001b[0m                            )\n\u001b[1;32m     14\u001b[0m dataset\u001b[38;5;241m.\u001b[39mcompute_edge_weight()\n\u001b[0;32m---> 16\u001b[0m Comsegdict \u001b[38;5;241m=\u001b[39m \u001b[43mdictionary\u001b[49m\u001b[38;5;241m.\u001b[39mComSegDict(\n\u001b[1;32m     17\u001b[0m     dataset\u001b[38;5;241m=\u001b[39mdataset,\n\u001b[1;32m     18\u001b[0m     mean_cell_diameter\u001b[38;5;241m=\u001b[39mconfig[\u001b[38;5;124m\"\u001b[39m\u001b[38;5;124mmean_cell_diameter\u001b[39m\u001b[38;5;124m\"\u001b[39m],\n\u001b[1;32m     19\u001b[0m     prior_name\u001b[38;5;241m=\u001b[39mSopaKeys\u001b[38;5;241m.\u001b[39mDEFAULT_CELL_KEY,\n\u001b[1;32m     20\u001b[0m )\n\u001b[1;32m     22\u001b[0m Comsegdict\u001b[38;5;241m.\u001b[39mrun_all(config\u001b[38;5;241m=\u001b[39mconfig)\n\u001b[1;32m     25\u001b[0m anndata_comseg, json_dict \u001b[38;5;241m=\u001b[39m Comsegdict\u001b[38;5;241m.\u001b[39manndata_from_comseg_result(\n\u001b[1;32m     26\u001b[0m     return_polygon\u001b[38;5;241m=\u001b[39m\u001b[38;5;28;01mTrue\u001b[39;00m, alpha\u001b[38;5;241m=\u001b[39mconfig[\u001b[38;5;124m\"\u001b[39m\u001b[38;5;124malpha\u001b[39m\u001b[38;5;124m\"\u001b[39m], min_rna_per_cell\u001b[38;5;241m=\u001b[39mconfig[\u001b[38;5;124m\"\u001b[39m\u001b[38;5;124mmin_rna_per_cell\u001b[39m\u001b[38;5;124m\"\u001b[39m]\n\u001b[1;32m     27\u001b[0m )\n",
      "\u001b[0;31mNameError\u001b[0m: name 'dictionary' is not defined"
     ]
    }
   ],
   "source": [
    "\n",
    "\n",
    "dataset = ds.ComSegDataset(\n",
    "    path_dataset_folder=config[\"path_dataset_folder\"],\n",
    "    dict_scale=config[\"dict_scale\"],\n",
    "    mean_cell_diameter=config[\"mean_cell_diameter\"],\n",
    "    gene_column=config[\"gene_column\"],\n",
    "    path_to_mask_prior=config[\"path_to_mask_prior\"]\n",
    ")\n",
    "\n",
    "## if not already in the csv file \n",
    "dataset.add_prior_from_mask(prior_keys_name = 'in_nucleus', \n",
    "                            overwrite = True,\n",
    "                            compute_centroid = True # compute cell centroid \n",
    "                           )\n",
    "dataset.compute_edge_weight()\n",
    "\n",
    "Comsegdict = dictionary.ComSegDict(\n",
    "    dataset=dataset,\n",
    "    mean_cell_diameter=config[\"mean_cell_diameter\"],\n",
    "    prior_name=SopaKeys.DEFAULT_CELL_KEY,\n",
    ")\n",
    "\n",
    "Comsegdict.run_all(config=config)\n",
    "\n",
    "\n",
    "anndata_comseg, json_dict = Comsegdict.anndata_from_comseg_result(\n",
    "    return_polygon=True, alpha=config[\"alpha\"], min_rna_per_cell=config[\"min_rna_per_cell\"]\n",
    ")\n",
    "anndata_comseg.write_h5ad(path_dataset_folder / \"segmentation_counts.h5ad\")\n",
    "with open(path_dataset_folder / \"segmentation_polygons.json\", \"w\") as f:\n",
    "    json.dump(json_dict[\"transcripts\"], f)"
   ]
  },
  {
   "cell_type": "code",
   "execution_count": null,
   "id": "f01f2fa3",
   "metadata": {},
   "outputs": [],
   "source": []
  }
 ],
 "metadata": {
  "kernelspec": {
   "display_name": "Python 3",
   "language": "python",
   "name": "python3"
  },
  "language_info": {
   "codemirror_mode": {
    "name": "ipython",
    "version": 3
   },
   "file_extension": ".py",
   "mimetype": "text/x-python",
   "name": "python",
   "nbconvert_exporter": "python",
   "pygments_lexer": "ipython3",
   "version": "3.8.10"
  }
 },
 "nbformat": 4,
 "nbformat_minor": 5
}
