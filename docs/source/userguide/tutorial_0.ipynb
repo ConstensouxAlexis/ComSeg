{
 "cells": [
  {
   "cell_type": "markdown",
   "id": "c07078b6",
   "metadata": {},
   "source": [
    "# ComSeg tutorial"
   ]
  },
  {
   "cell_type": "markdown",
   "id": "19bb48d7",
   "metadata": {},
   "source": [
    "ComSeg is an algorithm to perform cell segmentation from RNA point clouds (single cell spatial RNA profiling) from FISH based spatial transcriptomic data. It takes as input a folder of CSV file containing the spots coordiantes of each images and a folder of nucleus segmentation masks for each image. If nucleus segmentation is not available, cell centroids are enough to apply ComSeg. \n",
    "\n",
    "This tutorial is organized as follow:  \n",
    "\n",
    "1) Dataset initialization  \n",
    "2) Create a graph of RNA molecule nodes and apply graph patitioning  \n",
    "3) In situ clustering  \n",
    "4) final RNA-nuclei association  \n"
   ]
  },
  {
   "cell_type": "code",
   "execution_count": 16,
   "id": "15a22b3b",
   "metadata": {},
   "outputs": [],
   "source": [
    "import sys\n",
    "sys.path = ['/snap/pycharm-professional/387/plugins/python/helpers/pydev',\n",
    " '/snap/pycharm-professional/387/plugins/python/helpers/third_party/thriftpy',\n",
    " '/snap/pycharm-professional/387/plugins/python/helpers/pydev',\n",
    " '/snap/pycharm-professional/387/plugins/python/helpers/pycharm_display',\n",
    " '/home/tom/anaconda3/envs/comseg_v0/lib/python38.zip',\n",
    " '/home/tom/anaconda3/envs/comseg_v0/lib/python3.8',\n",
    " '/home/tom/anaconda3/envs/comseg_v0/lib/python3.8/lib-dynload',\n",
    " '',\n",
    " '/home/tom/.local/lib/python3.8/site-packages',\n",
    " '/home/tom/Bureau/phd/st_seg/ssam_merfish/ssam_pkg',\n",
    " '/home/tom/anaconda3/envs/comseg_v0/lib/python3.8/site-packages',\n",
    " '/home/tom/Bureau/phd/simulation/ComSeg_pkg/src',\n",
    " '/snap/pycharm-professional/387/plugins/python/helpers/pycharm_matplotlib_backend',\n",
    " '/home/tom/Bureau/phd/simulation/ComSeg_pkg',\n",
    " '/home/tom/Bureau/phd/simulation/ComSeg_pkg/src']"
   ]
  },
  {
   "cell_type": "code",
   "execution_count": 17,
   "id": "99022c59",
   "metadata": {},
   "outputs": [],
   "source": [
    "#### HYPERPARAMETER ####\n",
    "MEAN_CELL_DIAMETER = 15  # in micrometer\n",
    "MAX_CELL_RADIUS = 50  # in micrometer\n",
    "#########################\n"
   ]
  },
  {
   "cell_type": "markdown",
   "id": "7542e5c6",
   "metadata": {},
   "source": [
    "## 1)  dataset initialization\n",
    "\n",
    "The first step is to create a comseg-dataset. This object will preprocess the spot coordinates of each images from csv file, add optional prior knowledge and compute the co-expression correlation at the dataset scale.\n",
    "\n",
    "\n",
    "You need a folder with your spots coordiantes **in pixel** csv files, with the naming convention {image_name}.csv \n",
    ". Otherwise you can convert your csv file into pixel coordinates with the function ``dataset.convert_spots_coord_in_pixel``  \n",
    " \n",
    "You need a folder with you prior segmentation files, with the naming convention {image_name}.tiff\n",
    "\n",
    "Download the test data for this tutorail at https://cloud.minesparis.psl.eu/index.php/s/HtYucchv9OGg6JN\n"
   ]
  },
  {
   "cell_type": "code",
   "execution_count": 19,
   "id": "c9217003",
   "metadata": {},
   "outputs": [],
   "source": [
    "import pandas as pd\n",
    "import matplotlib\n",
    "import comseg\n",
    "import numpy as np\n",
    "import random\n",
    "import tifffile\n",
    "import importlib\n",
    "from comseg import dataset as ds\n",
    "import scanpy\n",
    "%matplotlib inline\n",
    "import importlib\n",
    "#importlib.reload(ds)"
   ]
  },
  {
   "cell_type": "code",
   "execution_count": 20,
   "id": "538902f3",
   "metadata": {},
   "outputs": [
    {
     "name": "stdout",
     "output_type": "stream",
     "text": [
      "add 07_CtrlNI_Pdgfra-Cy3_Serpine1-Cy5_006\n",
      "add 07_CtrlNI_Pdgfra-Cy3_Serpine1-Cy5_004\n",
      "add prior to 07_CtrlNI_Pdgfra-Cy3_Serpine1-Cy5_006\n",
      "prior added to 07_CtrlNI_Pdgfra-Cy3_Serpine1-Cy5_006 and saved in csv file\n",
      "add prior to 07_CtrlNI_Pdgfra-Cy3_Serpine1-Cy5_004\n",
      "prior added to 07_CtrlNI_Pdgfra-Cy3_Serpine1-Cy5_004 and saved in csv file\n"
     ]
    }
   ],
   "source": [
    "\n",
    "your_path_to_test_data = \"/home/tom/Bureau/test_set_tutorial_comseg\"\n",
    "\n",
    "\n",
    "## path to you .csv spots coordinate folder\n",
    "path_dataset_folder = your_path_to_test_data + \"/small_df\"\n",
    "\n",
    "\n",
    "##path to your prior segmentation mask\n",
    "path_to_mask_prior = your_path_to_test_data + \"/mask\"\n",
    "\n",
    "## scale / pixel size in um \n",
    "dico_scale = {\"x\": 0.103, 'y': 0.103, \"z\": 0.3}\n",
    "\n",
    "\n",
    "### create the dataset object \n",
    "dataset = ds.ComSegDataset(\n",
    "            path_dataset_folder = path_dataset_folder,\n",
    "            path_to_mask_prior =path_to_mask_prior,\n",
    "            dict_scale={\"x\": 0.103, 'y': 0.103, \"z\": 0.3},\n",
    "            mask_file_extension = \".tiff\",\n",
    "    mean_cell_diameter = MEAN_CELL_DIAMETER\n",
    ")\n",
    "\n",
    "## if needed, convert your your csv file into pixel coordinate by optionally overwriting your files \n",
    "## the data of this tutorial are already in pixel coordiante\n",
    "\n",
    "#dataset.convert_spots_coord_in_pixel(overwrite = True)\n",
    "\n",
    "### add prior knowledge, here using nucleus segmentation mask\n",
    "dataset.add_prior_from_mask(prior_keys_name = 'in_nucleus', \n",
    "                            overwrite = True,\n",
    "                            compute_centroid = True, # compute cell centroid \n",
    "                           regex_df = \"*.csv\")"
   ]
  },
  {
   "cell_type": "markdown",
   "id": "652aad52",
   "metadata": {},
   "source": [
    "The dataset class handles the spot coordinates, the position of cell centroid and the potential prior masks with the column `prior_keys_name = 'in_nucleus'`"
   ]
  },
  {
   "cell_type": "code",
   "execution_count": 21,
   "id": "db0ccdf3",
   "metadata": {},
   "outputs": [
    {
     "data": {
      "text/html": [
       "<div>\n",
       "<style scoped>\n",
       "    .dataframe tbody tr th:only-of-type {\n",
       "        vertical-align: middle;\n",
       "    }\n",
       "\n",
       "    .dataframe tbody tr th {\n",
       "        vertical-align: top;\n",
       "    }\n",
       "\n",
       "    .dataframe thead th {\n",
       "        text-align: right;\n",
       "    }\n",
       "</style>\n",
       "<table border=\"1\" class=\"dataframe\">\n",
       "  <thead>\n",
       "    <tr style=\"text-align: right;\">\n",
       "      <th></th>\n",
       "      <th>x</th>\n",
       "      <th>y</th>\n",
       "      <th>z</th>\n",
       "      <th>gene</th>\n",
       "      <th>cell</th>\n",
       "      <th>cell_type</th>\n",
       "      <th>in_nucleus</th>\n",
       "    </tr>\n",
       "  </thead>\n",
       "  <tbody>\n",
       "    <tr>\n",
       "      <th>0</th>\n",
       "      <td>945</td>\n",
       "      <td>436</td>\n",
       "      <td>13</td>\n",
       "      <td>C1qa</td>\n",
       "      <td>8</td>\n",
       "      <td>T_cells</td>\n",
       "      <td>0</td>\n",
       "    </tr>\n",
       "    <tr>\n",
       "      <th>1</th>\n",
       "      <td>1187</td>\n",
       "      <td>354</td>\n",
       "      <td>50</td>\n",
       "      <td>C1qa</td>\n",
       "      <td>8</td>\n",
       "      <td>T_cells</td>\n",
       "      <td>0</td>\n",
       "    </tr>\n",
       "    <tr>\n",
       "      <th>2</th>\n",
       "      <td>1109</td>\n",
       "      <td>348</td>\n",
       "      <td>8</td>\n",
       "      <td>C1qa</td>\n",
       "      <td>8</td>\n",
       "      <td>T_cells</td>\n",
       "      <td>0</td>\n",
       "    </tr>\n",
       "    <tr>\n",
       "      <th>3</th>\n",
       "      <td>644</td>\n",
       "      <td>528</td>\n",
       "      <td>18</td>\n",
       "      <td>C1qa</td>\n",
       "      <td>107</td>\n",
       "      <td>Club</td>\n",
       "      <td>0</td>\n",
       "    </tr>\n",
       "    <tr>\n",
       "      <th>4</th>\n",
       "      <td>668</td>\n",
       "      <td>659</td>\n",
       "      <td>45</td>\n",
       "      <td>C1qa</td>\n",
       "      <td>107</td>\n",
       "      <td>Club</td>\n",
       "      <td>0</td>\n",
       "    </tr>\n",
       "  </tbody>\n",
       "</table>\n",
       "</div>"
      ],
      "text/plain": [
       "      x    y   z  gene  cell cell_type  in_nucleus\n",
       "0   945  436  13  C1qa     8   T_cells           0\n",
       "1  1187  354  50  C1qa     8   T_cells           0\n",
       "2  1109  348   8  C1qa     8   T_cells           0\n",
       "3   644  528  18  C1qa   107      Club           0\n",
       "4   668  659  45  C1qa   107      Club           0"
      ]
     },
     "execution_count": 21,
     "metadata": {},
     "output_type": "execute_result"
    }
   ],
   "source": [
    "dataset[\"07_CtrlNI_Pdgfra-Cy3_Serpine1-Cy5_006\"].head(5)"
   ]
  },
  {
   "cell_type": "markdown",
   "id": "d9283764",
   "metadata": {},
   "source": [
    "In the fonction ``dataset.add_prior_from_mask()``, the centroid of each nucleus was also comuted and can be access as follow:"
   ]
  },
  {
   "cell_type": "code",
   "execution_count": 22,
   "id": "4e4fd78f",
   "metadata": {},
   "outputs": [
    {
     "data": {
      "text/html": [
       "<div>\n",
       "<style scoped>\n",
       "    .dataframe tbody tr th:only-of-type {\n",
       "        vertical-align: middle;\n",
       "    }\n",
       "\n",
       "    .dataframe tbody tr th {\n",
       "        vertical-align: top;\n",
       "    }\n",
       "\n",
       "    .dataframe thead th {\n",
       "        text-align: right;\n",
       "    }\n",
       "</style>\n",
       "<table border=\"1\" class=\"dataframe\">\n",
       "  <thead>\n",
       "    <tr style=\"text-align: right;\">\n",
       "      <th></th>\n",
       "      <th>cell</th>\n",
       "      <th>centroid</th>\n",
       "    </tr>\n",
       "  </thead>\n",
       "  <tbody>\n",
       "    <tr>\n",
       "      <th>0</th>\n",
       "      <td>1</td>\n",
       "      <td>[18.67, 14.87, 991.41]</td>\n",
       "    </tr>\n",
       "    <tr>\n",
       "      <th>1</th>\n",
       "      <td>2</td>\n",
       "      <td>[2.73, 26.92, 910.4]</td>\n",
       "    </tr>\n",
       "    <tr>\n",
       "      <th>2</th>\n",
       "      <td>7</td>\n",
       "      <td>[2.72, 318.71, 119.28]</td>\n",
       "    </tr>\n",
       "    <tr>\n",
       "      <th>3</th>\n",
       "      <td>8</td>\n",
       "      <td>[8.62, 385.52, 1082.46]</td>\n",
       "    </tr>\n",
       "    <tr>\n",
       "      <th>4</th>\n",
       "      <td>9</td>\n",
       "      <td>[15.13, 427.78, 255.53]</td>\n",
       "    </tr>\n",
       "  </tbody>\n",
       "</table>\n",
       "</div>"
      ],
      "text/plain": [
       "   cell                 centroid\n",
       "0     1   [18.67, 14.87, 991.41]\n",
       "1     2     [2.73, 26.92, 910.4]\n",
       "2     7   [2.72, 318.71, 119.28]\n",
       "3     8  [8.62, 385.52, 1082.46]\n",
       "4     9  [15.13, 427.78, 255.53]"
      ]
     },
     "execution_count": 22,
     "metadata": {},
     "output_type": "execute_result"
    }
   ],
   "source": [
    "centroid = dataset.dict_centroid[\"07_CtrlNI_Pdgfra-Cy3_Serpine1-Cy5_006\"]\n",
    "pd.DataFrame({\"cell\":  list(centroid.keys()),\n",
    "              'centroid':  list(np.array(list(centroid.values())).round(2))}).head(5)"
   ]
  },
  {
   "cell_type": "markdown",
   "id": "07ab88ae",
   "metadata": {},
   "source": [
    "#### Computation of the co-expression correlation at the dataset scale\n",
    "In case of large dataset, the computation of the  co-expression correlation matrix can be speed up by reducing the \n",
    "``sampling_size`` parameter. ``sampling_size`` corresponds to the number of RNAs used to compute the co-expression matrix"
   ]
  },
  {
   "cell_type": "code",
   "execution_count": 23,
   "id": "1712d2f4",
   "metadata": {
    "scrolled": true
   },
   "outputs": [
    {
     "name": "stderr",
     "output_type": "stream",
     "text": [
      "\r",
      "  0%|                                                                                                                                                                                                                                                                                                                                                                                                                                                             | 0/2 [00:00<?, ?it/s]"
     ]
    },
    {
     "name": "stdout",
     "output_type": "stream",
     "text": [
      "image name :  07_CtrlNI_Pdgfra-Cy3_Serpine1-Cy5_006\n"
     ]
    },
    {
     "name": "stderr",
     "output_type": "stream",
     "text": [
      "\r",
      " 50%|██████████████████████████████████████████████████████████████████████████████████████████████████████████████████████████████████████████████████████████████████████████████████████████████████████████████████████████▌                                                                                                                                                                                                                          | 1/2 [00:04<00:04,  4.60s/it]"
     ]
    },
    {
     "name": "stdout",
     "output_type": "stream",
     "text": [
      "image name :  07_CtrlNI_Pdgfra-Cy3_Serpine1-Cy5_004\n"
     ]
    },
    {
     "name": "stderr",
     "output_type": "stream",
     "text": [
      "100%|█████████████████████████████████████████████████████████████████████████████████████████████████████████████████████████████████████████████████████████████████████████████████████████████████████████████████████████████████████████████████████████████████████████████████████████████████████████████████████████████████████████████████████████████████████████████████████████████████████████████████████████████████████████████████████| 2/2 [00:09<00:00,  4.85s/it]\n"
     ]
    },
    {
     "name": "stdout",
     "output_type": "stream",
     "text": [
      "count_matrix.shape (10002, 13)\n",
      "sampling True vectors\n",
      "count_matrix.shape (10000, 13)\n"
     ]
    },
    {
     "name": "stderr",
     "output_type": "stream",
     "text": [
      "100%|██████████████████████████████████████████████████████████████████████████████████████████████████████████████████████████████████████████████████████████████████████████████████████████████████████████████████████████████████████████████████████████████████████████████████████████████████████████████████████████████████████████████████████████████████████████████████████████████████████████████████████████████████████████████████| 13/13 [00:00<00:00, 175.47it/s]\n"
     ]
    }
   ],
   "source": [
    "### compute the co-expression correlation at the dataset scale\n",
    "dico_proba_edge, count_matrix = dataset.compute_edge_weight(  # in micrometer\n",
    "        images_subset = None,\n",
    "        n_neighbors=40,\n",
    "        sampling=True,\n",
    "        sampling_size=10000\n",
    "        )"
   ]
  },
  {
   "cell_type": "markdown",
   "id": "ed610684",
   "metadata": {},
   "source": [
    "#### The estimated co-expression correlation matrix between genes can be vizualised as folow"
   ]
  },
  {
   "cell_type": "code",
   "execution_count": 24,
   "id": "886ca9c8",
   "metadata": {},
   "outputs": [
    {
     "data": {
      "image/png": "[encoded data removed]",
      "text/plain": [
       "<Figure size 640x480 with 2 Axes>"
      ]
     },
     "metadata": {},
     "output_type": "display_data"
    }
   ],
   "source": [
    "import seaborn as sns\n",
    "from matplotlib import pyplot as plt\n",
    "corr_matrix = []\n",
    "\n",
    "for gene0 in  dataset.dict_co_expression:\n",
    "    list_corr_gene0 = []\n",
    "    for gene1 in dataset.dict_co_expression:\n",
    "        list_corr_gene0.append(dataset.dict_co_expression[gene0][gene1])\n",
    "    corr_matrix.append(list_corr_gene0)\n",
    "list_gene = list(dataset.dict_co_expression.keys())\n",
    "#plotting the heatmap for correlation\n",
    "ax = sns.heatmap(corr_matrix, xticklabels = list_gene, yticklabels = list_gene,)\n",
    "plt.show()"
   ]
  },
  {
   "cell_type": "markdown",
   "id": "3239a860",
   "metadata": {
    "scrolled": true
   },
   "source": [
    "## 2) Create a graph of RNA molecule nodes and apply graph patitioning\n",
    "\n",
    " - we will use the previously computed co-expression matrix to weigth the KNN of graph of RNA\n",
    " - We will then partition this K-Nearest Neighbors (KNN) graph, into distinct communities of RNA molecules. These identified RNA communities are expected to group together neighboring RNA molecules that originate from co-expressed genes, and therefore, are likely to be from the same cell."
   ]
  },
  {
   "cell_type": "code",
   "execution_count": 25,
   "id": "59a103f2",
   "metadata": {},
   "outputs": [
    {
     "data": {
      "text/plain": [
       "<module 'comseg.dictionary' from '/home/tom/Bureau/phd/simulation/ComSeg_pkg/src/comseg/dictionary.py'>"
      ]
     },
     "execution_count": 25,
     "metadata": {},
     "output_type": "execute_result"
    }
   ],
   "source": [
    "import comseg\n",
    "from comseg import model\n",
    "from comseg import dictionary\n",
    "import importlib\n",
    "importlib.reload(comseg)\n",
    "importlib.reload(model)\n",
    "importlib.reload(dictionary)"
   ]
  },
  {
   "cell_type": "code",
   "execution_count": 26,
   "id": "53709b26",
   "metadata": {},
   "outputs": [
    {
     "name": "stderr",
     "output_type": "stream",
     "text": [
      "\r",
      "  0%|                                                                                                                                                                                                                                                                                                                                                                                                                                                             | 0/2 [00:00<?, ?it/s]"
     ]
    },
    {
     "name": "stdout",
     "output_type": "stream",
     "text": [
      "improvement of modularity 0.5097315865891504\n",
      "improvement of modularity 0.12831567006680544\n",
      "improvement of modularity 0.029518937838409753\n",
      "improvement of modularity 0.0023546898287017948\n"
     ]
    },
    {
     "name": "stderr",
     "output_type": "stream",
     "text": [
      "\r",
      " 50%|██████████████████████████████████████████████████████████████████████████████████████████████████████████████████████████████████████████████████████████████████████████████████████████████████████████████████████████▌                                                                                                                                                                                                                          | 1/2 [00:06<00:06,  6.15s/it]"
     ]
    },
    {
     "name": "stdout",
     "output_type": "stream",
     "text": [
      "improvement of modularity 0.5132618116299903\n",
      "improvement of modularity 0.1268015752701046\n",
      "improvement of modularity 0.032828658165476976\n",
      "improvement of modularity 0.0024302492372725304\n"
     ]
    },
    {
     "name": "stderr",
     "output_type": "stream",
     "text": [
      "100%|█████████████████████████████████████████████████████████████████████████████████████████████████████████████████████████████████████████████████████████████████████████████████████████████████████████████████████████████████████████████████████████████████████████████████████████████████████████████████████████████████████████████████████████████████████████████████████████████████████████████████████████████████████████████████████| 2/2 [00:14<00:00,  7.04s/it]\n"
     ]
    }
   ],
   "source": [
    "Comsegdict = dictionary.ComSegDict(\n",
    "                 dataset=dataset,\n",
    "                 mean_cell_diameter= MEAN_CELL_DIAMETER,\n",
    "                 community_detection=\"with_prior\",\n",
    "                 prior_name=\"in_nucleus\",\n",
    ")\n",
    "\n",
    "\n",
    "Comsegdict.compute_community_vector()\n"
   ]
  },
  {
   "cell_type": "markdown",
   "id": "f357bf71",
   "metadata": {},
   "source": [
    "## 3) In situ clustering\n",
    "\n",
    "In the previous step we create a graph of RNA nodes and spits this graph into community of RNA.  \n",
    "In this step we will extract the RNA profil of all RNA communities and cluster the communities RNA profiles to estimate the different transciptomic profile present into the input tissue"
   ]
  },
  {
   "cell_type": "code",
   "execution_count": null,
   "id": "377dee04",
   "metadata": {
    "scrolled": true
   },
   "outputs": [
    {
     "name": "stderr",
     "output_type": "stream",
     "text": [
      "/home/tom/.local/lib/python3.8/site-packages/anndata/_core/anndata.py:1838: UserWarning: Observation names are not unique. To make them unique, call `.obs_names_make_unique`.\n",
      "  utils.warn_names_duplicates(\"obs\")\n"
     ]
    },
    {
     "name": "stdout",
     "output_type": "stream",
     "text": [
      "shape count matrix (487, 13)\n",
      "Index(['0', '1', '2', '3', '4', '5', '6', '7', '8', '9', '10', '11', '12'], dtype='object')\n",
      "Writing temporary files...\n",
      "Running scTransform via Rscript...\n",
      "\n",
      "Attaching package: arrow\n",
      "\n",
      "The following objects are masked from package:feather:\n",
      "\n",
      "    read_feather, write_feather\n",
      "\n",
      "The following object is masked from package:utils:\n",
      "\n",
      "    timestamp\n",
      "\n",
      "Calculating cell attributes from input UMI matrix: log_umi\n",
      "Variance stabilizing transformation of count matrix of size 13 by 487\n",
      "Model formula is y ~ log_umi\n",
      "Get Negative Binomial regression parameters per gene\n",
      "Using 13 genes, 487 cells\n",
      "  |======================================                                      ================================| 100%\n",
      "Second step: Get residuals using fitted parameters for 13 genes\n",
      "  |======================================================================| 100%\n",
      "Calculating gene attributes\n",
      "Wall clock passed: Time difference of 0.2912037 secs\n",
      "Reading output files...\n",
      "Clipping residuals...\n"
     ]
    }
   ],
   "source": [
    "Comsegdict.compute_insitu_clustering(\n",
    "                                  size_commu_min=3,\n",
    "                                  norm_vector=True,\n",
    "                                  ### parameter clustering\n",
    "                                  n_pcs=3,\n",
    "                                  n_comps=3,\n",
    "                                  clustering_method=\"leiden\",\n",
    "                                  n_neighbors=20,\n",
    "                                  resolution=1,\n",
    "                                  n_clusters_kmeans=4,\n",
    "                                  palette=None,\n",
    "                                  nb_min_cluster=0,\n",
    "                                  min_merge_correlation=0.8,\n",
    "                                  )"
   ]
  },
  {
   "cell_type": "markdown",
   "id": "c367ef65",
   "metadata": {},
   "source": [
    "### PLOT IN SITU CLUSTERING\n",
    "Next, we will create a UMAP visualization of the RNA profiles within each community. Specifically, each RNA community is linked to an expression vector. We then cluster these community expression vectors in a similar manner to how we would cluster single-cell RNA sequencing (scRNAseq) data. In the following UMAP, each dot corresponds to one RNA community."
   ]
  },
  {
   "cell_type": "code",
   "execution_count": null,
   "id": "02b1f973",
   "metadata": {},
   "outputs": [],
   "source": [
    "import scanpy as sc\n",
    "import random\n",
    "palette = {}\n",
    "for i in range(-1, 500):\n",
    "    palette[str(i)] = \"#\" + \"%06x\" % random.randint(0, 0xFFFFFF)\n",
    "adata = Comsegdict.in_situ_clustering.anndata_cluster\n",
    "adata.obs[\"leiden_merged\"] = adata.obs[\"leiden_merged\"].astype(str)\n",
    "sc.tl.umap(adata)\n",
    "fig_ledien = sc.pl.umap(adata, color=[\"leiden_merged\"], palette=palette, legend_loc='on data',\n",
    "                )"
   ]
  },
  {
   "cell_type": "markdown",
   "id": "ba9ba698",
   "metadata": {},
   "source": [
    "###  Transcriptomic domain map \n",
    "After this step, each node in the graph is labeled by its identified transcriptomic profile $L_i$ using the previous UMAP.  \n",
    "Hence it is possible to plot a transcriptomic domain map showing the transcriptomic heterogenity at the tissue level using the $L_i$  profiles of the RNA communities."
   ]
  },
  {
   "cell_type": "code",
   "execution_count": null,
   "id": "4b71cd58",
   "metadata": {},
   "outputs": [],
   "source": [
    "Comsegdict.add_cluster_id_to_graph(clustering_method = \"leiden_merged\")"
   ]
  },
  {
   "cell_type": "code",
   "execution_count": null,
   "id": "68657713",
   "metadata": {},
   "outputs": [],
   "source": [
    "from comseg.utils import plot\n",
    "importlib.reload(plot)\n",
    "img_name = list(Comsegdict.keys())[1]\n",
    "G = Comsegdict[img_name].G\n",
    "nuclei = tifffile.imread(\n",
    "    your_path_to_test_data + f'/mask/{img_name}.tiff')\n",
    "\n",
    "\n",
    "fig, ax = plot.plot_result(G=G,\n",
    "            nuclei = nuclei,\n",
    "               key_node = 'gene',\n",
    "                dico_cell_color = None,\n",
    "                figsize=(10, 10),\n",
    "                spots_size = 10,\n",
    "                title  = \"ONE COLOR = ONE GENE\")\n",
    "\n",
    "fig, ax = plot.plot_result(G=G,\n",
    "            nuclei = nuclei,\n",
    "               key_node = 'leiden_merged',\n",
    "                dico_cell_color = palette,\n",
    "                figsize=(10, 10),\n",
    "                spots_size = 10,\n",
    "                title  = \"ONE COLOR = ONE TRANSCRIPTOMIC CLUSTER\")"
   ]
  },
  {
   "cell_type": "markdown",
   "id": "8fbb0f00",
   "metadata": {},
   "source": [
    "## 4) final RNA-nuclei association\n",
    "\n",
    "### Classify nuclei centroid\n",
    "\n",
    "We will now categorize each nucleus based on the domain map that was computed earlier. The centroid of each nucleus is labeled by the transcriptomic profile that is most prevalent in its surrounding area.\n",
    "\n"
   ]
  },
  {
   "cell_type": "code",
   "execution_count": null,
   "id": "4f2d9d92",
   "metadata": {},
   "outputs": [],
   "source": [
    "Comsegdict.classify_centroid(\n",
    "        path_dict_cell_centroid = None,\n",
    "          n_neighbors=15,\n",
    "          dict_in_pixel=True,\n",
    "          max_dist_centroid=None,\n",
    "          key_pred=\"leiden_merged\",\n",
    "          distance=\"ngb_distance_weights\",\n",
    "          file_extension = \".tiff.npy\"\n",
    "                        )"
   ]
  },
  {
   "cell_type": "markdown",
   "id": "d71b9b43",
   "metadata": {},
   "source": [
    "### todo add a vizualization of the classify nuclei"
   ]
  },
  {
   "cell_type": "markdown",
   "id": "1de9a1f1",
   "metadata": {},
   "source": [
    "### Apply dikstra\n",
    "\n",
    "We now utilize the Dijkstra's algorithm to link each nucleus centroid to the closest RNAs that are labeled with the same transcriptomic cluster."
   ]
  },
  {
   "cell_type": "code",
   "execution_count": null,
   "id": "7b1d4c88",
   "metadata": {
    "scrolled": true
   },
   "outputs": [],
   "source": [
    "Comsegdict.associate_rna2landmark(\n",
    "                         key_pred = \"leiden_merged\",\n",
    "                         prior_name='in_nucleus',\n",
    "                         distance='distance',\n",
    "                         max_cell_radius=MAX_CELL_RADIUS)"
   ]
  },
  {
   "cell_type": "markdown",
   "id": "79d1020e",
   "metadata": {},
   "source": [
    "### Plot of final RNA-NUCLEUS assignement"
   ]
  },
  {
   "cell_type": "code",
   "execution_count": null,
   "id": "dd345696",
   "metadata": {
    "scrolled": false
   },
   "outputs": [],
   "source": [
    "importlib.reload(comseg)\n",
    "from comseg.utils import plot \n",
    "importlib.reload(plot)\n",
    "\n",
    "G = Comsegdict[img_name].G\n",
    "nuclei = tifffile.imread(\n",
    "    your_path_to_test_data + f'/mask/{img_name}.tiff')\n",
    "\n",
    "plot.plot_result(G=G,\n",
    "            nuclei = nuclei,\n",
    "               key_node = 'cell_index_pred',\n",
    "                title = None,\n",
    "                dico_cell_color = None,\n",
    "                figsize=(15, 15),\n",
    "                spots_size = 10,\n",
    "                plot_outlier = False)"
   ]
  },
  {
   "cell_type": "markdown",
   "id": "c3b775ed",
   "metadata": {},
   "source": [
    "### OUTPUT ANNDATA\n",
    "\n",
    "the final output of this pipeline is an AnnData object so our model can be integrated into Scanpy/Scverse single cell workflow analysis. \n",
    "It contains for each cell an exppression vector, the cell centroid coordinates and the molecule coordinates associated to this cell."
   ]
  },
  {
   "cell_type": "code",
   "execution_count": 17,
   "id": "0f1dcace",
   "metadata": {
    "scrolled": true
   },
   "outputs": [
    {
     "name": "stderr",
     "output_type": "stream",
     "text": [
      "100%|█████████████████████████████████████████████████████████████████████████████████████████████████████████████████████████████████████████████████████████████████████████████████████████████████████| 2/2 [00:00<00:00, 12.92it/s]\n",
      "/home/tom/.local/lib/python3.8/site-packages/anndata/_core/anndata.py:1838: UserWarning: Observation names are not unique. To make them unique, call `.obs_names_make_unique`.\n",
      "  utils.warn_names_duplicates(\"obs\")\n"
     ]
    },
    {
     "data": {
      "text/plain": [
       "AnnData object with n_obs × n_vars = 112 × 13\n",
       "    obs: 'cell_id', 'centroid', 'image_name'\n",
       "    var: 'features'\n",
       "    uns: 'df_spots'"
      ]
     },
     "execution_count": 17,
     "metadata": {},
     "output_type": "execute_result"
    }
   ],
   "source": [
    "Comsegdict.anndata_from_comseg_result()"
   ]
  },
  {
   "cell_type": "code",
   "execution_count": 19,
   "id": "9e3f9be4",
   "metadata": {},
   "outputs": [
    {
     "data": {
      "text/html": [
       "<div>\n",
       "<style scoped>\n",
       "    .dataframe tbody tr th:only-of-type {\n",
       "        vertical-align: middle;\n",
       "    }\n",
       "\n",
       "    .dataframe tbody tr th {\n",
       "        vertical-align: top;\n",
       "    }\n",
       "\n",
       "    .dataframe thead th {\n",
       "        text-align: right;\n",
       "    }\n",
       "</style>\n",
       "<table border=\"1\" class=\"dataframe\">\n",
       "  <thead>\n",
       "    <tr style=\"text-align: right;\">\n",
       "      <th></th>\n",
       "      <th>z</th>\n",
       "      <th>y</th>\n",
       "      <th>x</th>\n",
       "      <th>gene</th>\n",
       "      <th>cell</th>\n",
       "      <th>original_index</th>\n",
       "    </tr>\n",
       "  </thead>\n",
       "  <tbody>\n",
       "    <tr>\n",
       "      <th>0</th>\n",
       "      <td>34</td>\n",
       "      <td>66</td>\n",
       "      <td>952</td>\n",
       "      <td>Upk3b</td>\n",
       "      <td>1</td>\n",
       "      <td>9599</td>\n",
       "    </tr>\n",
       "    <tr>\n",
       "      <th>1</th>\n",
       "      <td>1</td>\n",
       "      <td>33</td>\n",
       "      <td>904</td>\n",
       "      <td>Scgb3a2</td>\n",
       "      <td>2</td>\n",
       "      <td>9543</td>\n",
       "    </tr>\n",
       "    <tr>\n",
       "      <th>2</th>\n",
       "      <td>1</td>\n",
       "      <td>26</td>\n",
       "      <td>876</td>\n",
       "      <td>Scgb3a2</td>\n",
       "      <td>2</td>\n",
       "      <td>9544</td>\n",
       "    </tr>\n",
       "    <tr>\n",
       "      <th>3</th>\n",
       "      <td>5</td>\n",
       "      <td>306</td>\n",
       "      <td>140</td>\n",
       "      <td>Ccdc153</td>\n",
       "      <td>7</td>\n",
       "      <td>1617</td>\n",
       "    </tr>\n",
       "    <tr>\n",
       "      <th>4</th>\n",
       "      <td>5</td>\n",
       "      <td>323</td>\n",
       "      <td>112</td>\n",
       "      <td>Ccdc153</td>\n",
       "      <td>7</td>\n",
       "      <td>1618</td>\n",
       "    </tr>\n",
       "  </tbody>\n",
       "</table>\n",
       "</div>"
      ],
      "text/plain": [
       "    z    y    x     gene  cell  original_index\n",
       "0  34   66  952    Upk3b     1            9599\n",
       "1   1   33  904  Scgb3a2     2            9543\n",
       "2   1   26  876  Scgb3a2     2            9544\n",
       "3   5  306  140  Ccdc153     7            1617\n",
       "4   5  323  112  Ccdc153     7            1618"
      ]
     },
     "execution_count": 19,
     "metadata": {},
     "output_type": "execute_result"
    }
   ],
   "source": [
    "Comsegdict.final_anndata.uns['df_spots']['07_CtrlNI_Pdgfra-Cy3_Serpine1-Cy5_006'].head(5)"
   ]
  },
  {
   "cell_type": "markdown",
   "id": "43638ad7",
   "metadata": {},
   "source": [
    "### Final single cell clustering from the anndata"
   ]
  },
  {
   "cell_type": "code",
   "execution_count": 20,
   "id": "50814d7c",
   "metadata": {
    "scrolled": false
   },
   "outputs": [
    {
     "name": "stderr",
     "output_type": "stream",
     "text": [
      "/home/tom/.local/lib/python3.8/site-packages/scanpy/plotting/_tools/scatterplots.py:394: UserWarning: No data for colormapping provided via 'c'. Parameters 'cmap' will be ignored\n",
      "  cax = scatter(\n"
     ]
    },
    {
     "data": {
      "image/png": "[encoded data removed]",
      "text/plain": [
       "<Figure size 640x480 with 1 Axes>"
      ]
     },
     "metadata": {},
     "output_type": "display_data"
    }
   ],
   "source": [
    "\n",
    "adata = Comsegdict.final_anndata\n",
    "#sc.tl.pca(adata, svd_solver='arpack', n_comps = 0)\n",
    "sc.pp.neighbors(adata, n_neighbors=30, n_pcs=0)\n",
    "sc.tl.leiden(adata,  resolution=1)\n",
    "sc.tl.umap(adata)\n",
    "sc.pl.umap(adata, color=[\"leiden\"], palette=palette, legend_loc='on data')\n"
   ]
  },
  {
   "cell_type": "markdown",
   "id": "1d4419c3",
   "metadata": {},
   "source": [
    "### Save annData"
   ]
  },
  {
   "cell_type": "code",
   "execution_count": 21,
   "id": "0974848f",
   "metadata": {},
   "outputs": [],
   "source": [
    "import pickle \n",
    "from pathlib import Path\n",
    "filename = Path(your_path_to_test_data) / \"result.h5ad\"\n",
    "with open(filename, 'wb') as handle:\n",
    "    pickle.dump(Comsegdict.final_anndata, handle, -1)"
   ]
  },
  {
   "cell_type": "markdown",
   "id": "5e6246c9",
   "metadata": {},
   "source": [
    "### relaod it "
   ]
  },
  {
   "cell_type": "code",
   "execution_count": 22,
   "id": "ac22b5b2",
   "metadata": {},
   "outputs": [],
   "source": [
    "file_pi2 = open(filename, 'rb') \n",
    "adata = pickle.load(file_pi2)"
   ]
  }
 ],
 "metadata": {
  "kernelspec": {
   "display_name": "conseg_v0",
   "language": "python",
   "name": "conseg_v0"
  },
  "language_info": {
   "codemirror_mode": {
    "name": "ipython",
    "version": 3
   },
   "file_extension": ".py",
   "mimetype": "text/x-python",
   "name": "python",
   "nbconvert_exporter": "python",
   "pygments_lexer": "ipython3",
   "version": "3.8.8"
  }
 },
 "nbformat": 4,
 "nbformat_minor": 5
}
