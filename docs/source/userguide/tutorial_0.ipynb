{
 "cells": [
  {
   "cell_type": "markdown",
   "metadata": {},
   "source": [
    "# ComSeg tutorial"
   ],
   "id": "38293506914913b9"
  },
  {
   "cell_type": "markdown",
   "metadata": {},
   "source": [
    "ComSeg is an algorithm to  perform cell segmentation from RNA point clouds (single cell spatial RNA profiling) from FISH based spatial transcriptomic data. It takes as input a folder of CSV file containing the spots coordiantes of each images and a folder of segmentation masks for each image. If landmark segmentation is not available cell centroid is enougth to apply ComSeg. \n",
    "\n",
    "This tutorial is orginized as follow:  \n",
    "\n",
    "1)  dataset initialization  \n",
    "2) Create a graph of RNA molecule nodes and apply graph patitioning  \n",
    "3) In situ clustering  \n",
    "4) final RNA-nuclei association  \n"
   ],
   "id": "565f6880edaa3e39"
  },
  {
   "cell_type": "code",
   "execution_count": 1,
   "metadata": {},
   "source": [
    "#### HYPERPARAMETER ####\n",
    "MEAN_CELL_DIAMETER = 15  # in micrometer\n",
    "MAX_CELL_RADIUS = 50  # in micrometer\n",
    "#########################"
   ],
   "id": "64bd9ccf96cdc550",
   "outputs": []
  },
  {
   "cell_type": "markdown",
   "metadata": {},
   "source": [
    "## 1)  dataset initialization\n",
    "\n",
    "The first step is to create a comseg-dataset. This object will preprocess the spot coordinates of each images from csv file, add optional prior knowledge and compute the co-expression correlation at the dataset scale.\n",
    "\n",
    "\n",
    "You need a folder with youR spots coordiantes **in pixel** in a csv file with the naming convention {image_name}.csv \n",
    " \n",
    "You need a folder with you prior segmentation file with the naming convention {image_name}.tiff\n",
    "\n",
    "Download the test data for this tutorail at https://cloud.minesparis.psl.eu/index.php/s/HtYucchv9OGg6JN\n"
   ],
   "id": "c0b29be0a0cc9cf8"
  },
  {
   "cell_type": "code",
   "execution_count": 3,
   "metadata": {},
   "source": [
    "import pandas as pd\n",
    "import matplotlib\n",
    "import comseg\n",
    "import numpy as np\n",
    "import random\n",
    "import tifffile\n",
    "import importlib\n",
    "from comseg import dataset as ds\n",
    "import scanpy\n",
    "%matplotlib inline\n",
    "import importlib\n",
    "#importlib.reload(ds)"
   ],
   "id": "acf0061465dd34b0",
   "outputs": []
  },
  {
   "cell_type": "code",
   "execution_count": 4,
   "metadata": {},
   "source": [
    "\n",
    "your_path_to_test_data = \"/home/tom/Bureau/test_set_tutorial_comseg\"\n",
    "\n",
    "\n",
    "## path to you .csv spots coordiante folder\n",
    "path_dataset_folder = your_path_to_test_data + \"/small_df\"\n",
    "\n",
    "\n",
    "##path to your prior segmentation mask\n",
    "path_to_mask_prior = your_path_to_test_data + \"/mask\"\n",
    "\n",
    "## scale/ pixel size in um \n",
    "dico_scale = {\"x\": 0.103, 'y': 0.103, \"z\": 0.3}\n",
    "\n",
    "\n",
    "### create the dataset object \n",
    "dataset = ds.ComSegDataset(\n",
    "            path_dataset_folder = path_dataset_folder,\n",
    "            path_to_mask_prior =path_to_mask_prior,\n",
    "            dict_scale={\"x\": 0.103, 'y': 0.103, \"z\": 0.3},\n",
    "            mask_file_extension = \".tiff\",\n",
    "    mean_cell_diameter = MEAN_CELL_DIAMETER\n",
    ")\n",
    "\n",
    "\n",
    "### add prior knowledge, here using nucleus segmentation mask\n",
    "dataset.add_prior_from_mask(prior_keys_name = 'in_nucleus', \n",
    "                            overwrite = True,\n",
    "                            compute_centroid = True # compute cell centroid \n",
    "                           )"
   ],
   "id": "188dfa31fee921b5",
   "outputs": []
  },
  {
   "cell_type": "markdown",
   "metadata": {},
   "source": [
    "The dataset class handles the spot coordinates, the position of cell centroid and the potential prior masks with the column `prior_keys_name = 'in_nucleus'`"
   ],
   "id": "487cf15a69f60157"
  },
  {
   "cell_type": "code",
   "execution_count": 5,
   "metadata": {},
   "source": [
    "dataset[\"07_CtrlNI_Pdgfra-Cy3_Serpine1-Cy5_006\"].head(5)"
   ],
   "id": "723b01517e22f327",
   "outputs": []
  },
  {
   "cell_type": "code",
   "execution_count": 6,
   "metadata": {},
   "source": [
    "centroid = dataset.dict_centroid[\"07_CtrlNI_Pdgfra-Cy3_Serpine1-Cy5_006\"]\n",
    "pd.DataFrame({\"cell\":  list(centroid.keys()),\n",
    "              'centroid':  list(np.array(list(centroid.values())).round(2))}).head(5)"
   ],
   "id": "574ffe84328376ec",
   "outputs": []
  },
  {
   "cell_type": "code",
   "execution_count": null,
   "metadata": {
    "scrolled": true
   },
   "source": [
    "### compute the co-expression correlation at the dataset scale\n",
    "dico_proba_edge, count_matrix = dataset.compute_edge_weight(  # in micrometer\n",
    "        images_subset = None,\n",
    "        n_neighbors=40,\n",
    "        sampling=True,\n",
    "        sampling_size=100000\n",
    "        )"
   ],
   "id": "3c08f65e8a3b3834",
   "outputs": []
  },
  {
   "cell_type": "markdown",
   "metadata": {},
   "source": [
    "#### The estimated co-expression coreelation matrix between gene can be vizualised as folow"
   ],
   "id": "e22c6b4983394c1e"
  },
  {
   "cell_type": "code",
   "execution_count": 8,
   "metadata": {},
   "source": [
    "import seaborn as sns\n",
    "from matplotlib import pyplot as plt\n",
    "corr_matrix = []\n",
    "\n",
    "for gene0 in  dataset.dict_co_expression:\n",
    "    list_corr_gene0 = []\n",
    "    for gene1 in dataset.dict_co_expression:\n",
    "        list_corr_gene0.append(dataset.dict_co_expression[gene0][gene1])\n",
    "    corr_matrix.append(list_corr_gene0)\n",
    "list_gene = list(dataset.dict_co_expression.keys())\n",
    "#plotting the heatmap for correlation\n",
    "ax = sns.heatmap(corr_matrix, xticklabels = list_gene, yticklabels = list_gene,)\n",
    "plt.show()"
   ],
   "id": "205b1f0e826beb7e",
   "outputs": []
  },
  {
   "cell_type": "markdown",
   "metadata": {
    "scrolled": true
   },
   "source": [
    "## 2) Create a graph of RNA molecule nodes and apply graph patitioning\n",
    "\n",
    " - we will use the previously computed co-expression weight to weight a KNN of graph of RNA\n",
    " - split this graph in community "
   ],
   "id": "b4dd00fa1ebf2943"
  },
  {
   "cell_type": "code",
   "execution_count": 9,
   "metadata": {},
   "source": [
    "import comseg\n",
    "from comseg import model\n",
    "from comseg import dictionary\n",
    "import importlib\n",
    "importlib.reload(comseg)\n",
    "importlib.reload(model)\n",
    "importlib.reload(dictionary)"
   ],
   "id": "f570cef83915cbd4",
   "outputs": []
  },
  {
   "cell_type": "code",
   "execution_count": null,
   "metadata": {},
   "source": [
    "Comsegdict = dictionary.ComSegDict(\n",
    "                 dataset=dataset,\n",
    "                 mean_cell_diameter= MEAN_CELL_DIAMETER,\n",
    "                 community_detection=\"with_prior\",\n",
    "                 prior_name=\"in_nucleus\",\n",
    ")\n",
    "\n",
    "\n",
    "Comsegdict.compute_community_vector()\n"
   ],
   "id": "30db9b4467c358fb",
   "outputs": []
  },
  {
   "cell_type": "markdown",
   "metadata": {},
   "source": [
    "## 3) IN SITU CLUSTERING\n",
    "\n",
    "In the previous step we create a graph of RNA nodes and spits the partition this graph into community of RNA.\n",
    "\n",
    "In this step we will extract the RNA profil of all RNA partition/community and cluster them to estimate the different transciptomic profile present into the input tissue"
   ],
   "id": "51fc866445ccf73c"
  },
  {
   "cell_type": "code",
   "execution_count": 11,
   "metadata": {
    "scrolled": true
   },
   "source": [
    "Comsegdict.compute_insitu_clustering(\n",
    "                                  size_commu_min=3,\n",
    "                                  norm_vector=True,\n",
    "                                  ### parameter clustering\n",
    "                                  n_pcs=3,\n",
    "                                  n_comps=3,\n",
    "                                  clustering_method=\"leiden\",\n",
    "                                  n_neighbors=20,\n",
    "                                  resolution=1,\n",
    "                                  n_clusters_kmeans=4,\n",
    "                                  palette=None,\n",
    "                                  nb_min_cluster=0,\n",
    "                                  min_merge_correlation=0.8,\n",
    "                                  )"
   ],
   "id": "4132ed7abe59cdcc",
   "outputs": []
  },
  {
   "cell_type": "markdown",
   "metadata": {},
   "source": [
    "### PLOT IN SITU CLUSTERING\n",
    "In the following plot, one dot correspong to one community of RNA.\n",
    "we can indentify the different transcriptomic profile present in the image using the community expression vector"
   ],
   "id": "b885440860594234"
  },
  {
   "cell_type": "code",
   "execution_count": 12,
   "metadata": {},
   "source": [
    "import scanpy as sc\n",
    "import random\n",
    "palette = {}\n",
    "for i in range(-1, 500):\n",
    "    palette[str(i)] = \"#\" + \"%06x\" % random.randint(0, 0xFFFFFF)\n",
    "adata = Comsegdict.in_situ_clustering.anndata_cluster\n",
    "adata.obs[\"leiden_merged\"] = adata.obs[\"leiden_merged\"].astype(str)\n",
    "sc.tl.umap(adata)\n",
    "fig_ledien = sc.pl.umap(adata, color=[\"leiden_merged\"], palette=palette, legend_loc='on data',\n",
    "                )"
   ],
   "id": "fe7ba5110be0fb8",
   "outputs": []
  },
  {
   "cell_type": "markdown",
   "metadata": {},
   "source": [
    "##  Transcriptomic domain map \n",
    "After this step, each node in the graph is label to by the identify  transcriptomic profile $L_i$ of the community it belong to.\n",
    "Hence it is possible to plot a transcriptomic domain map showing not a the single cell level but at the tissue level the transcriptomic heterogenity"
   ],
   "id": "28f5f1a9caa3a52c"
  },
  {
   "cell_type": "code",
   "execution_count": 13,
   "metadata": {},
   "source": [
    "Comsegdict.add_cluster_id_to_graph(clustering_method = \"leiden_merged\")"
   ],
   "id": "e33ccb0e51ad5c2d",
   "outputs": []
  },
  {
   "cell_type": "code",
   "execution_count": 14,
   "metadata": {},
   "source": [
    "from comseg.utils import plot\n",
    "importlib.reload(plot)\n",
    "img_name = list(Comsegdict.keys())[1]\n",
    "G = Comsegdict[img_name].G\n",
    "nuclei = tifffile.imread(\n",
    "    your_path_to_test_data + f'/mask/{img_name}.tiff')\n",
    "\n",
    "\n",
    "fig, ax = plot.plot_result(G=G,\n",
    "            nuclei = nuclei,\n",
    "               key_node = 'gene',\n",
    "                dico_cell_color = None,\n",
    "                figsize=(10, 10),\n",
    "                spots_size = 10,\n",
    "                title  = \"ONE COLOR = ONE GENE\")\n",
    "\n",
    "fig, ax = plot.plot_result(G=G,\n",
    "            nuclei = nuclei,\n",
    "               key_node = 'leiden_merged',\n",
    "                dico_cell_color = palette,\n",
    "                figsize=(10, 10),\n",
    "                spots_size = 10,\n",
    "                title  = \"ONE COLOR = ONE TRANSCRIPTOMIC CLUSTER\")"
   ],
   "id": "59ee34443171b721",
   "outputs": []
  },
  {
   "cell_type": "markdown",
   "metadata": {},
   "source": [
    "## 4) final RNA-nuclei association\n",
    "\n",
    "### Classify nuclei centroid\n",
    "\n",
    "We now classify each nucleus using the previously computed doamin map. each nucleus centroid is label by the most present transcriptomic profile in its neighborhood\n"
   ],
   "id": "adc085f1cf3ebeb4"
  },
  {
   "cell_type": "code",
   "execution_count": null,
   "metadata": {},
   "source": [
    "Comsegdict.classify_centroid(\n",
    "        path_dict_cell_centroid = None,\n",
    "          n_neighbors=15,\n",
    "          dict_in_pixel=True,\n",
    "          max_dist_centroid=None,\n",
    "          key_pred=\"leiden_merged\",\n",
    "          distance=\"ngb_distance_weights\",\n",
    "          convex_hull_centroid=True,\n",
    "          file_extension = \".tiff.npy\"\n",
    "                        )"
   ],
   "id": "7fbdad7753ad933c",
   "outputs": []
  },
  {
   "cell_type": "markdown",
   "metadata": {},
   "source": [
    "### todo add a vizualization of the classify nuclei"
   ],
   "id": "e907bce9ba04ddf5"
  },
  {
   "cell_type": "markdown",
   "metadata": {},
   "source": [
    "### Apply dikstra\n",
    "\n",
    "We now apply the dikstra algorithm to associate nucleus centroid to the neirest RNAs labeled by the same transcriptomic cluster."
   ],
   "id": "a45db9e8c11d63b9"
  },
  {
   "cell_type": "code",
   "execution_count": null,
   "metadata": {
    "scrolled": true
   },
   "source": [
    "Comsegdict.associate_rna2landmark(\n",
    "                         key_pred = \"leiden_merged\",\n",
    "                         prior_name='in_nucleus',\n",
    "                         distance='distance',\n",
    "                         max_cell_radius=MAX_CELL_RADIUS)"
   ],
   "id": "8c375314008e6720",
   "outputs": []
  },
  {
   "cell_type": "markdown",
   "metadata": {},
   "source": [
    "### plot of final RNA-NUCLEUS assignement"
   ],
   "id": "181457289909b195"
  },
  {
   "cell_type": "code",
   "execution_count": 17,
   "metadata": {
    "scrolled": false
   },
   "source": [
    "importlib.reload(comseg)\n",
    "from comseg.utils import plot \n",
    "importlib.reload(plot)\n",
    "\n",
    "G = Comsegdict[img_name].G\n",
    "nuclei = tifffile.imread(\n",
    "    your_path_to_test_data + f'/mask/{img_name}.tiff')\n",
    "\n",
    "plot.plot_result(G=G,\n",
    "            nuclei = nuclei,\n",
    "               key_node = 'cell_index_pred',\n",
    "                title = None,\n",
    "                dico_cell_color = None,\n",
    "                figsize=(15, 15),\n",
    "                spots_size = 10,\n",
    "                plot_outlier = False)"
   ],
   "id": "9233380f1b47c6e8",
   "outputs": []
  },
  {
   "cell_type": "markdown",
   "metadata": {},
   "source": [
    "### OUTPUT ANNDATA\n",
    "\n",
    "the final output of this pipeline is an AnnData object so our model can be integrated into Scanpy/Scverse single cell workflow analysis. \n",
    "it contain for each cell an exppression vector, thee cell centoir coordinalt and the molecule coordinate associated to this cell."
   ],
   "id": "1512f30ba66cea46"
  },
  {
   "cell_type": "code",
   "execution_count": null,
   "metadata": {
    "scrolled": true
   },
   "source": [
    "Comsegdict.anndata_from_comseg_result()"
   ],
   "id": "f40c716764eb29b0",
   "outputs": []
  },
  {
   "cell_type": "markdown",
   "metadata": {},
   "source": [
    "### final single cell clustering from the anndata"
   ],
   "id": "570fbc3c8d41ee33"
  },
  {
   "cell_type": "code",
   "execution_count": 19,
   "metadata": {
    "scrolled": false
   },
   "source": [
    "\n",
    "adata = Comsegdict.final_anndata\n",
    "#sc.tl.pca(adata, svd_solver='arpack', n_comps = 0)\n",
    "sc.pp.neighbors(adata, n_neighbors=30, n_pcs=0)\n",
    "sc.tl.leiden(adata,  resolution=1)\n",
    "sc.tl.umap(adata)\n",
    "sc.pl.umap(adata, color=[\"leiden\"], palette=palette, legend_loc='on data')\n"
   ],
   "id": "af251448bd86183a",
   "outputs": []
  },
  {
   "cell_type": "markdown",
   "metadata": {},
   "source": [
    "### Save annData"
   ],
   "id": "2e1bfb42d85e5848"
  },
  {
   "cell_type": "code",
   "execution_count": 20,
   "metadata": {},
   "source": [
    "import pickle \n",
    "from pathlib import Path\n",
    "filename = Path(your_path_to_test_data) / \"result.h5ad\"\n",
    "with open(filename, 'wb') as handle:\n",
    "    pickle.dump(Comsegdict.final_anndata, handle, -1)"
   ],
   "id": "15d88208bce499b4",
   "outputs": []
  },
  {
   "cell_type": "markdown",
   "metadata": {},
   "source": [
    "### relaod it "
   ],
   "id": "c769787b529fe26b"
  },
  {
   "cell_type": "code",
   "execution_count": 21,
   "metadata": {},
   "source": [
    "file_pi2 = open(filename, 'rb') \n",
    "adata = pickle.load(file_pi2)"
   ],
   "id": "ebbc2406734923f8",
   "outputs": []
  },
  {
   "cell_type": "code",
   "execution_count": null,
   "metadata": {},
   "source": [],
   "id": "8934cb8ef53641b2",
   "outputs": []
  }
 ],
 "metadata": {
  "kernelspec": {
   "display_name": "conseg_v0",
   "language": "python",
   "name": "conseg_v0"
  },
  "language_info": {
   "codemirror_mode": {
    "name": "ipython",
    "version": 3
   },
   "file_extension": ".py",
   "mimetype": "text/x-python",
   "name": "python",
   "nbconvert_exporter": "python",
   "pygments_lexer": "ipython3",
   "version": "3.8.8"
  }
 },
 "nbformat": 4,
 "nbformat_minor": 5
}
