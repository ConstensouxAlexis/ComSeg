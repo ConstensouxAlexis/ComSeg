{
 "cells": [
  {
   "cell_type": "markdown",
   "id": "a97f5910",
   "metadata": {},
   "source": [
    "# ComSeg tutorial"
   ]
  },
  {
   "cell_type": "markdown",
   "id": "fd550c6b",
   "metadata": {},
   "source": [
    "ComSeg is an algorithm to perform cell segmentation from RNA point clouds (single cell spatial RNA profiling) from FISH based spatial transcriptomic data. It takes as input a folder of CSV file containing the spots coordiantes of each images and a folder of nucleus segmentation masks for each image. If nucleus segmentation is not available, cell centroids are enough to apply ComSeg. \n",
    "\n",
    "This tutorial is organized as follow:  \n",
    "\n",
    "1) Dataset initialization  \n",
    "2) Create a graph of RNA molecule nodes and apply graph patitioning  \n",
    "3) In situ clustering  \n",
    "4) final RNA-nuclei association  \n"
   ]
  },
  {
   "cell_type": "code",
   "execution_count": 1,
   "id": "a419adf3",
   "metadata": {},
   "source": [
    "#### HYPERPARAMETER ####\n",
    "MEAN_CELL_DIAMETER = 15  # in micrometer\n",
    "MAX_CELL_RADIUS = 50  # in micrometer\n",
    "#########################\n"
   ],
   "outputs": []
  },
  {
   "cell_type": "markdown",
   "id": "cc4165d2",
   "metadata": {},
   "source": [
    "## 1)  dataset initialization\n",
    "\n",
    "The first step is to create a comseg-dataset. This object will preprocess the spot coordinates of each images from csv file, add optional prior knowledge and compute the co-expression correlation at the dataset scale.\n",
    "\n",
    "\n",
    "You need a folder with your spots coordiantes **in pixel** csv files, with the naming convention {image_name}.csv \n",
    " \n",
    "You need a folder with you prior segmentation files, with the naming convention {image_name}.tiff\n",
    "\n",
    "Download the test data for this tutorail at https://cloud.minesparis.psl.eu/index.php/s/HtYucchv9OGg6JN\n"
   ]
  },
  {
   "cell_type": "code",
   "execution_count": 23,
   "id": "2dd5e0c3",
   "metadata": {},
   "source": [
    "import pandas as pd\n",
    "import matplotlib\n",
    "import comseg\n",
    "import numpy as np\n",
    "import random\n",
    "import tifffile\n",
    "import importlib\n",
    "from comseg import dataset as ds\n",
    "import scanpy\n",
    "%matplotlib inline\n",
    "import importlib\n",
    "#importlib.reload(ds)"
   ],
   "outputs": []
  },
  {
   "cell_type": "code",
   "execution_count": 3,
   "id": "49a396a4",
   "metadata": {},
   "source": [
    "\n",
    "your_path_to_test_data = \"/home/tom/Bureau/test_set_tutorial_comseg\"\n",
    "\n",
    "\n",
    "## path to you .csv spots coordinate folder\n",
    "path_dataset_folder = your_path_to_test_data + \"/small_df\"\n",
    "\n",
    "\n",
    "##path to your prior segmentation mask\n",
    "path_to_mask_prior = your_path_to_test_data + \"/mask\"\n",
    "\n",
    "## scale / pixel size in um \n",
    "dico_scale = {\"x\": 0.103, 'y': 0.103, \"z\": 0.3}\n",
    "\n",
    "\n",
    "### create the dataset object \n",
    "dataset = ds.ComSegDataset(\n",
    "            path_dataset_folder = path_dataset_folder,\n",
    "            path_to_mask_prior =path_to_mask_prior,\n",
    "            dict_scale={\"x\": 0.103, 'y': 0.103, \"z\": 0.3},\n",
    "            mask_file_extension = \".tiff\",\n",
    "    mean_cell_diameter = MEAN_CELL_DIAMETER\n",
    ")\n",
    "\n",
    "\n",
    "### add prior knowledge, here using nucleus segmentation mask\n",
    "dataset.add_prior_from_mask(prior_keys_name = 'in_nucleus', \n",
    "                            overwrite = True,\n",
    "                            compute_centroid = True # compute cell centroid \n",
    "                           )"
   ],
   "outputs": []
  },
  {
   "cell_type": "markdown",
   "id": "bb316eeb",
   "metadata": {},
   "source": [
    "The dataset class handles the spot coordinates, the position of cell centroid and the potential prior masks with the column `prior_keys_name = 'in_nucleus'`"
   ]
  },
  {
   "cell_type": "code",
   "execution_count": 4,
   "id": "7f262948",
   "metadata": {},
   "source": [
    "dataset[\"07_CtrlNI_Pdgfra-Cy3_Serpine1-Cy5_006\"].head(5)"
   ],
   "outputs": []
  },
  {
   "cell_type": "markdown",
   "id": "6d6ff17d",
   "metadata": {},
   "source": [
    "In the fonction ``dataset.add_prior_from_mask()``, the centroid of each nucleus was also comuted and can be access as follow:"
   ]
  },
  {
   "cell_type": "code",
   "execution_count": 5,
   "id": "12387dc8",
   "metadata": {},
   "source": [
    "centroid = dataset.dict_centroid[\"07_CtrlNI_Pdgfra-Cy3_Serpine1-Cy5_006\"]\n",
    "pd.DataFrame({\"cell\":  list(centroid.keys()),\n",
    "              'centroid':  list(np.array(list(centroid.values())).round(2))}).head(5)"
   ],
   "outputs": []
  },
  {
   "cell_type": "markdown",
   "id": "0544c175",
   "metadata": {},
   "source": [
    "#### Computation of the co-expression correlation at the dataset scale\n",
    "In case of large dataset, the computation of the  co-expression correlation matrix can be speed up by reducing the \n",
    "``sampling_size`` parameter. ``sampling_size`` corresponds to the number of RNAs used to compute the co-expression matrix"
   ]
  },
  {
   "cell_type": "code",
   "execution_count": 6,
   "id": "d5cb644a",
   "metadata": {
    "scrolled": true
   },
   "source": [
    "### compute the co-expression correlation at the dataset scale\n",
    "dico_proba_edge, count_matrix = dataset.compute_edge_weight(  # in micrometer\n",
    "        images_subset = None,\n",
    "        n_neighbors=40,\n",
    "        sampling=True,\n",
    "        sampling_size=10000\n",
    "        )"
   ],
   "outputs": []
  },
  {
   "cell_type": "markdown",
   "id": "574a4155",
   "metadata": {},
   "source": [
    "#### The estimated co-expression correlation matrix between genes can be vizualised as folow"
   ]
  },
  {
   "cell_type": "code",
   "execution_count": 7,
   "id": "74ad0ddc",
   "metadata": {},
   "source": [
    "import seaborn as sns\n",
    "from matplotlib import pyplot as plt\n",
    "corr_matrix = []\n",
    "\n",
    "for gene0 in  dataset.dict_co_expression:\n",
    "    list_corr_gene0 = []\n",
    "    for gene1 in dataset.dict_co_expression:\n",
    "        list_corr_gene0.append(dataset.dict_co_expression[gene0][gene1])\n",
    "    corr_matrix.append(list_corr_gene0)\n",
    "list_gene = list(dataset.dict_co_expression.keys())\n",
    "#plotting the heatmap for correlation\n",
    "ax = sns.heatmap(corr_matrix, xticklabels = list_gene, yticklabels = list_gene,)\n",
    "plt.show()"
   ],
   "outputs": []
  },
  {
   "cell_type": "markdown",
   "id": "148cfea4",
   "metadata": {
    "scrolled": true
   },
   "source": [
    "## 2) Create a graph of RNA molecule nodes and apply graph patitioning\n",
    "\n",
    " - we will use the previously computed co-expression matrix to weigth the KNN of graph of RNA\n",
    " - We will then partition this K-Nearest Neighbors (KNN) graph, into distinct communities of RNA molecules. These identified RNA communities are expected to group together neighboring RNA molecules that originate from co-expressed genes, and therefore, are likely to be from the same cell."
   ]
  },
  {
   "cell_type": "code",
   "execution_count": 8,
   "id": "ca47d800",
   "metadata": {},
   "source": [
    "import comseg\n",
    "from comseg import model\n",
    "from comseg import dictionary\n",
    "import importlib\n",
    "importlib.reload(comseg)\n",
    "importlib.reload(model)\n",
    "importlib.reload(dictionary)"
   ],
   "outputs": []
  },
  {
   "cell_type": "code",
   "execution_count": 9,
   "id": "590d8929",
   "metadata": {},
   "source": [
    "Comsegdict = dictionary.ComSegDict(\n",
    "                 dataset=dataset,\n",
    "                 mean_cell_diameter= MEAN_CELL_DIAMETER,\n",
    "                 community_detection=\"with_prior\",\n",
    "                 prior_name=\"in_nucleus\",\n",
    ")\n",
    "\n",
    "\n",
    "Comsegdict.compute_community_vector()\n"
   ],
   "outputs": []
  },
  {
   "cell_type": "markdown",
   "id": "9b7126a2",
   "metadata": {},
   "source": [
    "## 3) In situ clustering\n",
    "\n",
    "In the previous step we create a graph of RNA nodes and spits this graph into community of RNA.  \n",
    "In this step we will extract the RNA profil of all RNA communities and cluster the communities RNA profiles to estimate the different transciptomic profile present into the input tissue"
   ]
  },
  {
   "cell_type": "code",
   "execution_count": 10,
   "id": "6dd2d6dd",
   "metadata": {
    "scrolled": true
   },
   "source": [
    "Comsegdict.compute_insitu_clustering(\n",
    "                                  size_commu_min=3,\n",
    "                                  norm_vector=True,\n",
    "                                  ### parameter clustering\n",
    "                                  n_pcs=3,\n",
    "                                  n_comps=3,\n",
    "                                  clustering_method=\"leiden\",\n",
    "                                  n_neighbors=20,\n",
    "                                  resolution=1,\n",
    "                                  n_clusters_kmeans=4,\n",
    "                                  palette=None,\n",
    "                                  nb_min_cluster=0,\n",
    "                                  min_merge_correlation=0.8,\n",
    "                                  )"
   ],
   "outputs": []
  },
  {
   "cell_type": "markdown",
   "id": "baec166c",
   "metadata": {},
   "source": [
    "### PLOT IN SITU CLUSTERING\n",
    "Next, we will create a UMAP visualization of the RNA profiles within each community. Specifically, each RNA community is linked to an expression vector. We then cluster these community expression vectors in a similar manner to how we would cluster single-cell RNA sequencing (scRNAseq) data. In the following UMAP, each dot corresponds to one RNA community."
   ]
  },
  {
   "cell_type": "code",
   "execution_count": 11,
   "id": "bffc4f32",
   "metadata": {},
   "source": [
    "import scanpy as sc\n",
    "import random\n",
    "palette = {}\n",
    "for i in range(-1, 500):\n",
    "    palette[str(i)] = \"#\" + \"%06x\" % random.randint(0, 0xFFFFFF)\n",
    "adata = Comsegdict.in_situ_clustering.anndata_cluster\n",
    "adata.obs[\"leiden_merged\"] = adata.obs[\"leiden_merged\"].astype(str)\n",
    "sc.tl.umap(adata)\n",
    "fig_ledien = sc.pl.umap(adata, color=[\"leiden_merged\"], palette=palette, legend_loc='on data',\n",
    "                )"
   ],
   "outputs": []
  },
  {
   "cell_type": "markdown",
   "id": "d414e02d",
   "metadata": {},
   "source": [
    "###  Transcriptomic domain map \n",
    "After this step, each node in the graph is labeled by its identified transcriptomic profile $L_i$ using the previous UMAP.  \n",
    "Hence it is possible to plot a transcriptomic domain map showing the transcriptomic heterogenity at the tissue level using the $L_i$  profiles of the RNA communities."
   ]
  },
  {
   "cell_type": "code",
   "execution_count": 12,
   "id": "1d6ec9ac",
   "metadata": {},
   "source": [
    "Comsegdict.add_cluster_id_to_graph(clustering_method = \"leiden_merged\")"
   ],
   "outputs": []
  },
  {
   "cell_type": "code",
   "execution_count": 13,
   "id": "de00a24a",
   "metadata": {},
   "source": [
    "from comseg.utils import plot\n",
    "importlib.reload(plot)\n",
    "img_name = list(Comsegdict.keys())[1]\n",
    "G = Comsegdict[img_name].G\n",
    "nuclei = tifffile.imread(\n",
    "    your_path_to_test_data + f'/mask/{img_name}.tiff')\n",
    "\n",
    "\n",
    "fig, ax = plot.plot_result(G=G,\n",
    "            nuclei = nuclei,\n",
    "               key_node = 'gene',\n",
    "                dico_cell_color = None,\n",
    "                figsize=(10, 10),\n",
    "                spots_size = 10,\n",
    "                title  = \"ONE COLOR = ONE GENE\")\n",
    "\n",
    "fig, ax = plot.plot_result(G=G,\n",
    "            nuclei = nuclei,\n",
    "               key_node = 'leiden_merged',\n",
    "                dico_cell_color = palette,\n",
    "                figsize=(10, 10),\n",
    "                spots_size = 10,\n",
    "                title  = \"ONE COLOR = ONE TRANSCRIPTOMIC CLUSTER\")"
   ],
   "outputs": []
  },
  {
   "cell_type": "markdown",
   "id": "e65b920c",
   "metadata": {},
   "source": [
    "## 4) final RNA-nuclei association\n",
    "\n",
    "### Classify nuclei centroid\n",
    "\n",
    "We will now categorize each nucleus based on the domain map that was computed earlier. The centroid of each nucleus is labeled by the transcriptomic profile that is most prevalent in its surrounding area.\n",
    "\n"
   ]
  },
  {
   "cell_type": "code",
   "execution_count": 14,
   "id": "f20efad1",
   "metadata": {},
   "source": [
    "Comsegdict.classify_centroid(\n",
    "        path_dict_cell_centroid = None,\n",
    "          n_neighbors=15,\n",
    "          dict_in_pixel=True,\n",
    "          max_dist_centroid=None,\n",
    "          key_pred=\"leiden_merged\",\n",
    "          distance=\"ngb_distance_weights\",\n",
    "          file_extension = \".tiff.npy\"\n",
    "                        )"
   ],
   "outputs": []
  },
  {
   "cell_type": "markdown",
   "id": "6ea8ed02",
   "metadata": {},
   "source": [
    "### todo add a vizualization of the classify nuclei"
   ]
  },
  {
   "cell_type": "markdown",
   "id": "431d5c2d",
   "metadata": {},
   "source": [
    "### Apply dikstra\n",
    "\n",
    "We now utilize the Dijkstra's algorithm to link each nucleus centroid to the closest RNAs that are labeled with the same transcriptomic cluster."
   ]
  },
  {
   "cell_type": "code",
   "execution_count": 15,
   "id": "38135736",
   "metadata": {
    "scrolled": true
   },
   "source": [
    "Comsegdict.associate_rna2landmark(\n",
    "                         key_pred = \"leiden_merged\",\n",
    "                         prior_name='in_nucleus',\n",
    "                         distance='distance',\n",
    "                         max_cell_radius=MAX_CELL_RADIUS)"
   ],
   "outputs": []
  },
  {
   "cell_type": "markdown",
   "id": "6892dc7a",
   "metadata": {},
   "source": [
    "### Plot of final RNA-NUCLEUS assignement"
   ]
  },
  {
   "cell_type": "code",
   "execution_count": 16,
   "id": "3d0f5744",
   "metadata": {
    "scrolled": false
   },
   "source": [
    "importlib.reload(comseg)\n",
    "from comseg.utils import plot \n",
    "importlib.reload(plot)\n",
    "\n",
    "G = Comsegdict[img_name].G\n",
    "nuclei = tifffile.imread(\n",
    "    your_path_to_test_data + f'/mask/{img_name}.tiff')\n",
    "\n",
    "plot.plot_result(G=G,\n",
    "            nuclei = nuclei,\n",
    "               key_node = 'cell_index_pred',\n",
    "                title = None,\n",
    "                dico_cell_color = None,\n",
    "                figsize=(15, 15),\n",
    "                spots_size = 10,\n",
    "                plot_outlier = False)"
   ],
   "outputs": []
  },
  {
   "cell_type": "markdown",
   "id": "4eaca901",
   "metadata": {},
   "source": [
    "### OUTPUT ANNDATA\n",
    "\n",
    "the final output of this pipeline is an AnnData object so our model can be integrated into Scanpy/Scverse single cell workflow analysis. \n",
    "It contains for each cell an exppression vector, the cell centroid coordinates and the molecule coordinates associated to this cell."
   ]
  },
  {
   "cell_type": "code",
   "execution_count": 17,
   "id": "87b5a7ff",
   "metadata": {
    "scrolled": true
   },
   "source": [
    "Comsegdict.anndata_from_comseg_result()"
   ],
   "outputs": []
  },
  {
   "cell_type": "code",
   "execution_count": 19,
   "id": "e66c45d0",
   "metadata": {},
   "source": [
    "Comsegdict.final_anndata.uns['df_spots']['07_CtrlNI_Pdgfra-Cy3_Serpine1-Cy5_006'].head(5)"
   ],
   "outputs": []
  },
  {
   "cell_type": "markdown",
   "id": "4093e92d",
   "metadata": {},
   "source": [
    "### Final single cell clustering from the anndata"
   ]
  },
  {
   "cell_type": "code",
   "execution_count": 20,
   "id": "fd04df97",
   "metadata": {
    "scrolled": false
   },
   "source": [
    "\n",
    "adata = Comsegdict.final_anndata\n",
    "#sc.tl.pca(adata, svd_solver='arpack', n_comps = 0)\n",
    "sc.pp.neighbors(adata, n_neighbors=30, n_pcs=0)\n",
    "sc.tl.leiden(adata,  resolution=1)\n",
    "sc.tl.umap(adata)\n",
    "sc.pl.umap(adata, color=[\"leiden\"], palette=palette, legend_loc='on data')\n"
   ],
   "outputs": []
  },
  {
   "cell_type": "markdown",
   "id": "28001654",
   "metadata": {},
   "source": [
    "### Save annData"
   ]
  },
  {
   "cell_type": "code",
   "execution_count": 21,
   "id": "32c8bcf9",
   "metadata": {},
   "source": [
    "import pickle \n",
    "from pathlib import Path\n",
    "filename = Path(your_path_to_test_data) / \"result.h5ad\"\n",
    "with open(filename, 'wb') as handle:\n",
    "    pickle.dump(Comsegdict.final_anndata, handle, -1)"
   ],
   "outputs": []
  },
  {
   "cell_type": "markdown",
   "id": "de1df244",
   "metadata": {},
   "source": [
    "### relaod it "
   ]
  },
  {
   "cell_type": "code",
   "execution_count": 22,
   "id": "1a67641b",
   "metadata": {},
   "source": [
    "file_pi2 = open(filename, 'rb') \n",
    "adata = pickle.load(file_pi2)"
   ],
   "outputs": []
  }
 ],
 "metadata": {
  "kernelspec": {
   "display_name": "conseg_v0",
   "language": "python",
   "name": "conseg_v0"
  },
  "language_info": {
   "codemirror_mode": {
    "name": "ipython",
    "version": 3
   },
   "file_extension": ".py",
   "mimetype": "text/x-python",
   "name": "python",
   "nbconvert_exporter": "python",
   "pygments_lexer": "ipython3",
   "version": "3.8.8"
  }
 },
 "nbformat": 4,
 "nbformat_minor": 5
}
